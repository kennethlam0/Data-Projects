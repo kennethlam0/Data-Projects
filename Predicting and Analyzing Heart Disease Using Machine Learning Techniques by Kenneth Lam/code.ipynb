{
  "nbformat": 4,
  "nbformat_minor": 0,
  "metadata": {
    "colab": {
      "provenance": []
    },
    "kernelspec": {
      "name": "ir",
      "display_name": "R"
    },
    "language_info": {
      "name": "R"
    }
  },
  "cells": [
    {
      "cell_type": "code",
      "execution_count": 1,
      "metadata": {
        "colab": {
          "base_uri": "https://localhost:8080/"
        },
        "id": "Dv1YbJM_Km73",
        "outputId": "e5d8274a-6c87-4fc1-937f-7d2ac668bd81"
      },
      "outputs": [
        {
          "output_type": "stream",
          "name": "stderr",
          "text": [
            "Installing package into ‘/usr/local/lib/R/site-library’\n",
            "(as ‘lib’ is unspecified)\n",
            "\n",
            "Installing package into ‘/usr/local/lib/R/site-library’\n",
            "(as ‘lib’ is unspecified)\n",
            "\n",
            "also installing the dependency ‘proxy’\n",
            "\n",
            "\n",
            "Installing package into ‘/usr/local/lib/R/site-library’\n",
            "(as ‘lib’ is unspecified)\n",
            "\n",
            "Installing package into ‘/usr/local/lib/R/site-library’\n",
            "(as ‘lib’ is unspecified)\n",
            "\n",
            "Warning message in system(\"timedatectl\", intern = TRUE):\n",
            "“running command 'timedatectl' had status 1”\n",
            "── \u001b[1mAttaching packages\u001b[22m ─────────────────────────────────────── tidyverse 1.3.2 ──\n",
            "\u001b[32m✔\u001b[39m \u001b[34mggplot2\u001b[39m 3.4.0      \u001b[32m✔\u001b[39m \u001b[34mpurrr  \u001b[39m 0.3.5 \n",
            "\u001b[32m✔\u001b[39m \u001b[34mtibble \u001b[39m 3.1.8      \u001b[32m✔\u001b[39m \u001b[34mdplyr  \u001b[39m 1.0.10\n",
            "\u001b[32m✔\u001b[39m \u001b[34mtidyr  \u001b[39m 1.2.1      \u001b[32m✔\u001b[39m \u001b[34mstringr\u001b[39m 1.4.1 \n",
            "\u001b[32m✔\u001b[39m \u001b[34mreadr  \u001b[39m 2.1.3      \u001b[32m✔\u001b[39m \u001b[34mforcats\u001b[39m 0.5.2 \n",
            "── \u001b[1mConflicts\u001b[22m ────────────────────────────────────────── tidyverse_conflicts() ──\n",
            "\u001b[31m✖\u001b[39m \u001b[34mdplyr\u001b[39m::\u001b[32mfilter()\u001b[39m masks \u001b[34mstats\u001b[39m::filter()\n",
            "\u001b[31m✖\u001b[39m \u001b[34mdplyr\u001b[39m::\u001b[32mlag()\u001b[39m    masks \u001b[34mstats\u001b[39m::lag()\n"
          ]
        }
      ],
      "source": [
        "install.packages(\"tidyverse\")\n",
        "install.packages(\"e1071\")\n",
        "install.packages(\"leaps\")\n",
        "install.packages(\"tree\")\n",
        "library(\"tidyverse\")\n",
        "library(\"e1071\")\n",
        "library(\"leaps\")\n",
        "library(\"tree\")"
      ]
    },
    {
      "cell_type": "code",
      "source": [
        "install.packages(\"glmnet\")\n",
        "library(\"glmnet\")"
      ],
      "metadata": {
        "colab": {
          "base_uri": "https://localhost:8080/"
        },
        "id": "yz2x9vsGab-U",
        "outputId": "45dac9c6-1458-4058-9e13-728a7b7b73ec"
      },
      "execution_count": 2,
      "outputs": [
        {
          "output_type": "stream",
          "name": "stderr",
          "text": [
            "Installing package into ‘/usr/local/lib/R/site-library’\n",
            "(as ‘lib’ is unspecified)\n",
            "\n",
            "also installing the dependencies ‘iterators’, ‘foreach’, ‘shape’, ‘Rcpp’, ‘RcppEigen’\n",
            "\n",
            "\n",
            "Loading required package: Matrix\n",
            "\n",
            "\n",
            "Attaching package: ‘Matrix’\n",
            "\n",
            "\n",
            "The following objects are masked from ‘package:tidyr’:\n",
            "\n",
            "    expand, pack, unpack\n",
            "\n",
            "\n",
            "Loaded glmnet 4.1-6\n",
            "\n"
          ]
        }
      ]
    },
    {
      "cell_type": "code",
      "source": [
        "install.packages(\"MASS\")\n",
        "library(\"MASS\")"
      ],
      "metadata": {
        "colab": {
          "base_uri": "https://localhost:8080/"
        },
        "id": "GeF5W_LkgMXr",
        "outputId": "725328d9-e979-4e7d-e8e8-0f0f20dad043"
      },
      "execution_count": 3,
      "outputs": [
        {
          "output_type": "stream",
          "name": "stderr",
          "text": [
            "Installing package into ‘/usr/local/lib/R/site-library’\n",
            "(as ‘lib’ is unspecified)\n",
            "\n",
            "\n",
            "Attaching package: ‘MASS’\n",
            "\n",
            "\n",
            "The following object is masked from ‘package:dplyr’:\n",
            "\n",
            "    select\n",
            "\n",
            "\n"
          ]
        }
      ]
    },
    {
      "cell_type": "code",
      "source": [
        "install.packages(\"randomForest\")\n",
        "library(\"randomForest\")"
      ],
      "metadata": {
        "colab": {
          "base_uri": "https://localhost:8080/"
        },
        "id": "GIe7mpd6MkEJ",
        "outputId": "15b48ddc-f37d-4a0f-a448-3e3210ea92d9"
      },
      "execution_count": 4,
      "outputs": [
        {
          "output_type": "stream",
          "name": "stderr",
          "text": [
            "Installing package into ‘/usr/local/lib/R/site-library’\n",
            "(as ‘lib’ is unspecified)\n",
            "\n",
            "randomForest 4.7-1.1\n",
            "\n",
            "Type rfNews() to see new features/changes/bug fixes.\n",
            "\n",
            "\n",
            "Attaching package: ‘randomForest’\n",
            "\n",
            "\n",
            "The following object is masked from ‘package:dplyr’:\n",
            "\n",
            "    combine\n",
            "\n",
            "\n",
            "The following object is masked from ‘package:ggplot2’:\n",
            "\n",
            "    margin\n",
            "\n",
            "\n"
          ]
        }
      ]
    },
    {
      "cell_type": "code",
      "source": [
        "install.packages(\"kernlab\")\n",
        "library(\"kernlab\")"
      ],
      "metadata": {
        "colab": {
          "base_uri": "https://localhost:8080/"
        },
        "id": "1FbcKjl0fAtq",
        "outputId": "00d7ef63-fcbc-4c6c-c57b-2458a4e51833"
      },
      "execution_count": 5,
      "outputs": [
        {
          "output_type": "stream",
          "name": "stderr",
          "text": [
            "Installing package into ‘/usr/local/lib/R/site-library’\n",
            "(as ‘lib’ is unspecified)\n",
            "\n",
            "\n",
            "Attaching package: ‘kernlab’\n",
            "\n",
            "\n",
            "The following object is masked from ‘package:purrr’:\n",
            "\n",
            "    cross\n",
            "\n",
            "\n",
            "The following object is masked from ‘package:ggplot2’:\n",
            "\n",
            "    alpha\n",
            "\n",
            "\n"
          ]
        }
      ]
    },
    {
      "cell_type": "code",
      "source": [
        "install.packages(\"class\")\n",
        "library(\"class\")"
      ],
      "metadata": {
        "id": "CNEPI1Cuj1wg",
        "colab": {
          "base_uri": "https://localhost:8080/"
        },
        "outputId": "dcf4fe85-f126-4be3-9ee2-5acd9f7cec65"
      },
      "execution_count": 6,
      "outputs": [
        {
          "output_type": "stream",
          "name": "stderr",
          "text": [
            "Installing package into ‘/usr/local/lib/R/site-library’\n",
            "(as ‘lib’ is unspecified)\n",
            "\n"
          ]
        }
      ]
    },
    {
      "cell_type": "code",
      "source": [
        "install.packages(\"pls\")\n",
        "library(\"pls\")"
      ],
      "metadata": {
        "id": "iuSNhVvqoqt9",
        "colab": {
          "base_uri": "https://localhost:8080/"
        },
        "outputId": "24029b58-774e-4c5f-c096-bba574a74ca9"
      },
      "execution_count": 7,
      "outputs": [
        {
          "output_type": "stream",
          "name": "stderr",
          "text": [
            "Installing package into ‘/usr/local/lib/R/site-library’\n",
            "(as ‘lib’ is unspecified)\n",
            "\n",
            "\n",
            "Attaching package: ‘pls’\n",
            "\n",
            "\n",
            "The following object is masked from ‘package:stats’:\n",
            "\n",
            "    loadings\n",
            "\n",
            "\n"
          ]
        }
      ]
    },
    {
      "cell_type": "code",
      "source": [
        "heart<-read.csv(\"heart.csv\")"
      ],
      "metadata": {
        "id": "eXnSVDQdKweT"
      },
      "execution_count": 8,
      "outputs": []
    },
    {
      "cell_type": "code",
      "source": [
        "heart<-heart %>% mutate(sex=as.factor(sex),cp=as.factor(cp),fbs=as.factor(fbs),restecg=as.factor(restecg),exang=as.factor(exang),slope=as.factor(slope),ca=as.factor(ca),thal=as.factor(thal),target=as.factor(target)) "
      ],
      "metadata": {
        "id": "QElj6O_VW1Tm"
      },
      "execution_count": 9,
      "outputs": []
    },
    {
      "cell_type": "code",
      "source": [
        "heart"
      ],
      "metadata": {
        "id": "gMcdgHkWfgmp",
        "colab": {
          "base_uri": "https://localhost:8080/",
          "height": 1000
        },
        "outputId": "70bea4eb-ed0a-4a54-e4dc-b63b40b99aaf"
      },
      "execution_count": 10,
      "outputs": [
        {
          "output_type": "display_data",
          "data": {
            "text/html": [
              "<table class=\"dataframe\">\n",
              "<caption>A data.frame: 1025 × 14</caption>\n",
              "<thead>\n",
              "\t<tr><th scope=col>age</th><th scope=col>sex</th><th scope=col>cp</th><th scope=col>trestbps</th><th scope=col>chol</th><th scope=col>fbs</th><th scope=col>restecg</th><th scope=col>thalach</th><th scope=col>exang</th><th scope=col>oldpeak</th><th scope=col>slope</th><th scope=col>ca</th><th scope=col>thal</th><th scope=col>target</th></tr>\n",
              "\t<tr><th scope=col>&lt;int&gt;</th><th scope=col>&lt;fct&gt;</th><th scope=col>&lt;fct&gt;</th><th scope=col>&lt;int&gt;</th><th scope=col>&lt;int&gt;</th><th scope=col>&lt;fct&gt;</th><th scope=col>&lt;fct&gt;</th><th scope=col>&lt;int&gt;</th><th scope=col>&lt;fct&gt;</th><th scope=col>&lt;dbl&gt;</th><th scope=col>&lt;fct&gt;</th><th scope=col>&lt;fct&gt;</th><th scope=col>&lt;fct&gt;</th><th scope=col>&lt;fct&gt;</th></tr>\n",
              "</thead>\n",
              "<tbody>\n",
              "\t<tr><td>52</td><td>1</td><td>0</td><td>125</td><td>212</td><td>0</td><td>1</td><td>168</td><td>0</td><td>1.0</td><td>2</td><td>2</td><td>3</td><td>0</td></tr>\n",
              "\t<tr><td>53</td><td>1</td><td>0</td><td>140</td><td>203</td><td>1</td><td>0</td><td>155</td><td>1</td><td>3.1</td><td>0</td><td>0</td><td>3</td><td>0</td></tr>\n",
              "\t<tr><td>70</td><td>1</td><td>0</td><td>145</td><td>174</td><td>0</td><td>1</td><td>125</td><td>1</td><td>2.6</td><td>0</td><td>0</td><td>3</td><td>0</td></tr>\n",
              "\t<tr><td>61</td><td>1</td><td>0</td><td>148</td><td>203</td><td>0</td><td>1</td><td>161</td><td>0</td><td>0.0</td><td>2</td><td>1</td><td>3</td><td>0</td></tr>\n",
              "\t<tr><td>62</td><td>0</td><td>0</td><td>138</td><td>294</td><td>1</td><td>1</td><td>106</td><td>0</td><td>1.9</td><td>1</td><td>3</td><td>2</td><td>0</td></tr>\n",
              "\t<tr><td>58</td><td>0</td><td>0</td><td>100</td><td>248</td><td>0</td><td>0</td><td>122</td><td>0</td><td>1.0</td><td>1</td><td>0</td><td>2</td><td>1</td></tr>\n",
              "\t<tr><td>58</td><td>1</td><td>0</td><td>114</td><td>318</td><td>0</td><td>2</td><td>140</td><td>0</td><td>4.4</td><td>0</td><td>3</td><td>1</td><td>0</td></tr>\n",
              "\t<tr><td>55</td><td>1</td><td>0</td><td>160</td><td>289</td><td>0</td><td>0</td><td>145</td><td>1</td><td>0.8</td><td>1</td><td>1</td><td>3</td><td>0</td></tr>\n",
              "\t<tr><td>46</td><td>1</td><td>0</td><td>120</td><td>249</td><td>0</td><td>0</td><td>144</td><td>0</td><td>0.8</td><td>2</td><td>0</td><td>3</td><td>0</td></tr>\n",
              "\t<tr><td>54</td><td>1</td><td>0</td><td>122</td><td>286</td><td>0</td><td>0</td><td>116</td><td>1</td><td>3.2</td><td>1</td><td>2</td><td>2</td><td>0</td></tr>\n",
              "\t<tr><td>71</td><td>0</td><td>0</td><td>112</td><td>149</td><td>0</td><td>1</td><td>125</td><td>0</td><td>1.6</td><td>1</td><td>0</td><td>2</td><td>1</td></tr>\n",
              "\t<tr><td>43</td><td>0</td><td>0</td><td>132</td><td>341</td><td>1</td><td>0</td><td>136</td><td>1</td><td>3.0</td><td>1</td><td>0</td><td>3</td><td>0</td></tr>\n",
              "\t<tr><td>34</td><td>0</td><td>1</td><td>118</td><td>210</td><td>0</td><td>1</td><td>192</td><td>0</td><td>0.7</td><td>2</td><td>0</td><td>2</td><td>1</td></tr>\n",
              "\t<tr><td>51</td><td>1</td><td>0</td><td>140</td><td>298</td><td>0</td><td>1</td><td>122</td><td>1</td><td>4.2</td><td>1</td><td>3</td><td>3</td><td>0</td></tr>\n",
              "\t<tr><td>52</td><td>1</td><td>0</td><td>128</td><td>204</td><td>1</td><td>1</td><td>156</td><td>1</td><td>1.0</td><td>1</td><td>0</td><td>0</td><td>0</td></tr>\n",
              "\t<tr><td>34</td><td>0</td><td>1</td><td>118</td><td>210</td><td>0</td><td>1</td><td>192</td><td>0</td><td>0.7</td><td>2</td><td>0</td><td>2</td><td>1</td></tr>\n",
              "\t<tr><td>51</td><td>0</td><td>2</td><td>140</td><td>308</td><td>0</td><td>0</td><td>142</td><td>0</td><td>1.5</td><td>2</td><td>1</td><td>2</td><td>1</td></tr>\n",
              "\t<tr><td>54</td><td>1</td><td>0</td><td>124</td><td>266</td><td>0</td><td>0</td><td>109</td><td>1</td><td>2.2</td><td>1</td><td>1</td><td>3</td><td>0</td></tr>\n",
              "\t<tr><td>50</td><td>0</td><td>1</td><td>120</td><td>244</td><td>0</td><td>1</td><td>162</td><td>0</td><td>1.1</td><td>2</td><td>0</td><td>2</td><td>1</td></tr>\n",
              "\t<tr><td>58</td><td>1</td><td>2</td><td>140</td><td>211</td><td>1</td><td>0</td><td>165</td><td>0</td><td>0.0</td><td>2</td><td>0</td><td>2</td><td>1</td></tr>\n",
              "\t<tr><td>60</td><td>1</td><td>2</td><td>140</td><td>185</td><td>0</td><td>0</td><td>155</td><td>0</td><td>3.0</td><td>1</td><td>0</td><td>2</td><td>0</td></tr>\n",
              "\t<tr><td>67</td><td>0</td><td>0</td><td>106</td><td>223</td><td>0</td><td>1</td><td>142</td><td>0</td><td>0.3</td><td>2</td><td>2</td><td>2</td><td>1</td></tr>\n",
              "\t<tr><td>45</td><td>1</td><td>0</td><td>104</td><td>208</td><td>0</td><td>0</td><td>148</td><td>1</td><td>3.0</td><td>1</td><td>0</td><td>2</td><td>1</td></tr>\n",
              "\t<tr><td>63</td><td>0</td><td>2</td><td>135</td><td>252</td><td>0</td><td>0</td><td>172</td><td>0</td><td>0.0</td><td>2</td><td>0</td><td>2</td><td>1</td></tr>\n",
              "\t<tr><td>42</td><td>0</td><td>2</td><td>120</td><td>209</td><td>0</td><td>1</td><td>173</td><td>0</td><td>0.0</td><td>1</td><td>0</td><td>2</td><td>1</td></tr>\n",
              "\t<tr><td>61</td><td>0</td><td>0</td><td>145</td><td>307</td><td>0</td><td>0</td><td>146</td><td>1</td><td>1.0</td><td>1</td><td>0</td><td>3</td><td>0</td></tr>\n",
              "\t<tr><td>44</td><td>1</td><td>2</td><td>130</td><td>233</td><td>0</td><td>1</td><td>179</td><td>1</td><td>0.4</td><td>2</td><td>0</td><td>2</td><td>1</td></tr>\n",
              "\t<tr><td>58</td><td>0</td><td>1</td><td>136</td><td>319</td><td>1</td><td>0</td><td>152</td><td>0</td><td>0.0</td><td>2</td><td>2</td><td>2</td><td>0</td></tr>\n",
              "\t<tr><td>56</td><td>1</td><td>2</td><td>130</td><td>256</td><td>1</td><td>0</td><td>142</td><td>1</td><td>0.6</td><td>1</td><td>1</td><td>1</td><td>0</td></tr>\n",
              "\t<tr><td>55</td><td>0</td><td>0</td><td>180</td><td>327</td><td>0</td><td>2</td><td>117</td><td>1</td><td>3.4</td><td>1</td><td>0</td><td>2</td><td>0</td></tr>\n",
              "\t<tr><td>⋮</td><td>⋮</td><td>⋮</td><td>⋮</td><td>⋮</td><td>⋮</td><td>⋮</td><td>⋮</td><td>⋮</td><td>⋮</td><td>⋮</td><td>⋮</td><td>⋮</td><td>⋮</td></tr>\n",
              "\t<tr><td>44</td><td>1</td><td>1</td><td>120</td><td>263</td><td>0</td><td>1</td><td>173</td><td>0</td><td>0.0</td><td>2</td><td>0</td><td>3</td><td>1</td></tr>\n",
              "\t<tr><td>56</td><td>0</td><td>0</td><td>134</td><td>409</td><td>0</td><td>0</td><td>150</td><td>1</td><td>1.9</td><td>1</td><td>2</td><td>3</td><td>0</td></tr>\n",
              "\t<tr><td>54</td><td>1</td><td>0</td><td>120</td><td>188</td><td>0</td><td>1</td><td>113</td><td>0</td><td>1.4</td><td>1</td><td>1</td><td>3</td><td>0</td></tr>\n",
              "\t<tr><td>42</td><td>1</td><td>0</td><td>136</td><td>315</td><td>0</td><td>1</td><td>125</td><td>1</td><td>1.8</td><td>1</td><td>0</td><td>1</td><td>0</td></tr>\n",
              "\t<tr><td>67</td><td>1</td><td>0</td><td>125</td><td>254</td><td>1</td><td>1</td><td>163</td><td>0</td><td>0.2</td><td>1</td><td>2</td><td>3</td><td>0</td></tr>\n",
              "\t<tr><td>64</td><td>1</td><td>0</td><td>145</td><td>212</td><td>0</td><td>0</td><td>132</td><td>0</td><td>2.0</td><td>1</td><td>2</td><td>1</td><td>0</td></tr>\n",
              "\t<tr><td>42</td><td>1</td><td>0</td><td>140</td><td>226</td><td>0</td><td>1</td><td>178</td><td>0</td><td>0.0</td><td>2</td><td>0</td><td>2</td><td>1</td></tr>\n",
              "\t<tr><td>66</td><td>1</td><td>0</td><td>112</td><td>212</td><td>0</td><td>0</td><td>132</td><td>1</td><td>0.1</td><td>2</td><td>1</td><td>2</td><td>0</td></tr>\n",
              "\t<tr><td>52</td><td>1</td><td>0</td><td>108</td><td>233</td><td>1</td><td>1</td><td>147</td><td>0</td><td>0.1</td><td>2</td><td>3</td><td>3</td><td>1</td></tr>\n",
              "\t<tr><td>51</td><td>0</td><td>2</td><td>140</td><td>308</td><td>0</td><td>0</td><td>142</td><td>0</td><td>1.5</td><td>2</td><td>1</td><td>2</td><td>1</td></tr>\n",
              "\t<tr><td>55</td><td>0</td><td>0</td><td>128</td><td>205</td><td>0</td><td>2</td><td>130</td><td>1</td><td>2.0</td><td>1</td><td>1</td><td>3</td><td>0</td></tr>\n",
              "\t<tr><td>58</td><td>1</td><td>2</td><td>140</td><td>211</td><td>1</td><td>0</td><td>165</td><td>0</td><td>0.0</td><td>2</td><td>0</td><td>2</td><td>1</td></tr>\n",
              "\t<tr><td>56</td><td>1</td><td>3</td><td>120</td><td>193</td><td>0</td><td>0</td><td>162</td><td>0</td><td>1.9</td><td>1</td><td>0</td><td>3</td><td>1</td></tr>\n",
              "\t<tr><td>42</td><td>1</td><td>1</td><td>120</td><td>295</td><td>0</td><td>1</td><td>162</td><td>0</td><td>0.0</td><td>2</td><td>0</td><td>2</td><td>1</td></tr>\n",
              "\t<tr><td>40</td><td>1</td><td>0</td><td>152</td><td>223</td><td>0</td><td>1</td><td>181</td><td>0</td><td>0.0</td><td>2</td><td>0</td><td>3</td><td>0</td></tr>\n",
              "\t<tr><td>51</td><td>1</td><td>0</td><td>140</td><td>299</td><td>0</td><td>1</td><td>173</td><td>1</td><td>1.6</td><td>2</td><td>0</td><td>3</td><td>0</td></tr>\n",
              "\t<tr><td>45</td><td>1</td><td>1</td><td>128</td><td>308</td><td>0</td><td>0</td><td>170</td><td>0</td><td>0.0</td><td>2</td><td>0</td><td>2</td><td>1</td></tr>\n",
              "\t<tr><td>48</td><td>1</td><td>1</td><td>110</td><td>229</td><td>0</td><td>1</td><td>168</td><td>0</td><td>1.0</td><td>0</td><td>0</td><td>3</td><td>0</td></tr>\n",
              "\t<tr><td>58</td><td>1</td><td>0</td><td>114</td><td>318</td><td>0</td><td>2</td><td>140</td><td>0</td><td>4.4</td><td>0</td><td>3</td><td>1</td><td>0</td></tr>\n",
              "\t<tr><td>44</td><td>0</td><td>2</td><td>108</td><td>141</td><td>0</td><td>1</td><td>175</td><td>0</td><td>0.6</td><td>1</td><td>0</td><td>2</td><td>1</td></tr>\n",
              "\t<tr><td>58</td><td>1</td><td>0</td><td>128</td><td>216</td><td>0</td><td>0</td><td>131</td><td>1</td><td>2.2</td><td>1</td><td>3</td><td>3</td><td>0</td></tr>\n",
              "\t<tr><td>65</td><td>1</td><td>3</td><td>138</td><td>282</td><td>1</td><td>0</td><td>174</td><td>0</td><td>1.4</td><td>1</td><td>1</td><td>2</td><td>0</td></tr>\n",
              "\t<tr><td>53</td><td>1</td><td>0</td><td>123</td><td>282</td><td>0</td><td>1</td><td> 95</td><td>1</td><td>2.0</td><td>1</td><td>2</td><td>3</td><td>0</td></tr>\n",
              "\t<tr><td>41</td><td>1</td><td>0</td><td>110</td><td>172</td><td>0</td><td>0</td><td>158</td><td>0</td><td>0.0</td><td>2</td><td>0</td><td>3</td><td>0</td></tr>\n",
              "\t<tr><td>47</td><td>1</td><td>0</td><td>112</td><td>204</td><td>0</td><td>1</td><td>143</td><td>0</td><td>0.1</td><td>2</td><td>0</td><td>2</td><td>1</td></tr>\n",
              "\t<tr><td>59</td><td>1</td><td>1</td><td>140</td><td>221</td><td>0</td><td>1</td><td>164</td><td>1</td><td>0.0</td><td>2</td><td>0</td><td>2</td><td>1</td></tr>\n",
              "\t<tr><td>60</td><td>1</td><td>0</td><td>125</td><td>258</td><td>0</td><td>0</td><td>141</td><td>1</td><td>2.8</td><td>1</td><td>1</td><td>3</td><td>0</td></tr>\n",
              "\t<tr><td>47</td><td>1</td><td>0</td><td>110</td><td>275</td><td>0</td><td>0</td><td>118</td><td>1</td><td>1.0</td><td>1</td><td>1</td><td>2</td><td>0</td></tr>\n",
              "\t<tr><td>50</td><td>0</td><td>0</td><td>110</td><td>254</td><td>0</td><td>0</td><td>159</td><td>0</td><td>0.0</td><td>2</td><td>0</td><td>2</td><td>1</td></tr>\n",
              "\t<tr><td>54</td><td>1</td><td>0</td><td>120</td><td>188</td><td>0</td><td>1</td><td>113</td><td>0</td><td>1.4</td><td>1</td><td>1</td><td>3</td><td>0</td></tr>\n",
              "</tbody>\n",
              "</table>\n"
            ],
            "text/markdown": "\nA data.frame: 1025 × 14\n\n| age &lt;int&gt; | sex &lt;fct&gt; | cp &lt;fct&gt; | trestbps &lt;int&gt; | chol &lt;int&gt; | fbs &lt;fct&gt; | restecg &lt;fct&gt; | thalach &lt;int&gt; | exang &lt;fct&gt; | oldpeak &lt;dbl&gt; | slope &lt;fct&gt; | ca &lt;fct&gt; | thal &lt;fct&gt; | target &lt;fct&gt; |\n|---|---|---|---|---|---|---|---|---|---|---|---|---|---|\n| 52 | 1 | 0 | 125 | 212 | 0 | 1 | 168 | 0 | 1.0 | 2 | 2 | 3 | 0 |\n| 53 | 1 | 0 | 140 | 203 | 1 | 0 | 155 | 1 | 3.1 | 0 | 0 | 3 | 0 |\n| 70 | 1 | 0 | 145 | 174 | 0 | 1 | 125 | 1 | 2.6 | 0 | 0 | 3 | 0 |\n| 61 | 1 | 0 | 148 | 203 | 0 | 1 | 161 | 0 | 0.0 | 2 | 1 | 3 | 0 |\n| 62 | 0 | 0 | 138 | 294 | 1 | 1 | 106 | 0 | 1.9 | 1 | 3 | 2 | 0 |\n| 58 | 0 | 0 | 100 | 248 | 0 | 0 | 122 | 0 | 1.0 | 1 | 0 | 2 | 1 |\n| 58 | 1 | 0 | 114 | 318 | 0 | 2 | 140 | 0 | 4.4 | 0 | 3 | 1 | 0 |\n| 55 | 1 | 0 | 160 | 289 | 0 | 0 | 145 | 1 | 0.8 | 1 | 1 | 3 | 0 |\n| 46 | 1 | 0 | 120 | 249 | 0 | 0 | 144 | 0 | 0.8 | 2 | 0 | 3 | 0 |\n| 54 | 1 | 0 | 122 | 286 | 0 | 0 | 116 | 1 | 3.2 | 1 | 2 | 2 | 0 |\n| 71 | 0 | 0 | 112 | 149 | 0 | 1 | 125 | 0 | 1.6 | 1 | 0 | 2 | 1 |\n| 43 | 0 | 0 | 132 | 341 | 1 | 0 | 136 | 1 | 3.0 | 1 | 0 | 3 | 0 |\n| 34 | 0 | 1 | 118 | 210 | 0 | 1 | 192 | 0 | 0.7 | 2 | 0 | 2 | 1 |\n| 51 | 1 | 0 | 140 | 298 | 0 | 1 | 122 | 1 | 4.2 | 1 | 3 | 3 | 0 |\n| 52 | 1 | 0 | 128 | 204 | 1 | 1 | 156 | 1 | 1.0 | 1 | 0 | 0 | 0 |\n| 34 | 0 | 1 | 118 | 210 | 0 | 1 | 192 | 0 | 0.7 | 2 | 0 | 2 | 1 |\n| 51 | 0 | 2 | 140 | 308 | 0 | 0 | 142 | 0 | 1.5 | 2 | 1 | 2 | 1 |\n| 54 | 1 | 0 | 124 | 266 | 0 | 0 | 109 | 1 | 2.2 | 1 | 1 | 3 | 0 |\n| 50 | 0 | 1 | 120 | 244 | 0 | 1 | 162 | 0 | 1.1 | 2 | 0 | 2 | 1 |\n| 58 | 1 | 2 | 140 | 211 | 1 | 0 | 165 | 0 | 0.0 | 2 | 0 | 2 | 1 |\n| 60 | 1 | 2 | 140 | 185 | 0 | 0 | 155 | 0 | 3.0 | 1 | 0 | 2 | 0 |\n| 67 | 0 | 0 | 106 | 223 | 0 | 1 | 142 | 0 | 0.3 | 2 | 2 | 2 | 1 |\n| 45 | 1 | 0 | 104 | 208 | 0 | 0 | 148 | 1 | 3.0 | 1 | 0 | 2 | 1 |\n| 63 | 0 | 2 | 135 | 252 | 0 | 0 | 172 | 0 | 0.0 | 2 | 0 | 2 | 1 |\n| 42 | 0 | 2 | 120 | 209 | 0 | 1 | 173 | 0 | 0.0 | 1 | 0 | 2 | 1 |\n| 61 | 0 | 0 | 145 | 307 | 0 | 0 | 146 | 1 | 1.0 | 1 | 0 | 3 | 0 |\n| 44 | 1 | 2 | 130 | 233 | 0 | 1 | 179 | 1 | 0.4 | 2 | 0 | 2 | 1 |\n| 58 | 0 | 1 | 136 | 319 | 1 | 0 | 152 | 0 | 0.0 | 2 | 2 | 2 | 0 |\n| 56 | 1 | 2 | 130 | 256 | 1 | 0 | 142 | 1 | 0.6 | 1 | 1 | 1 | 0 |\n| 55 | 0 | 0 | 180 | 327 | 0 | 2 | 117 | 1 | 3.4 | 1 | 0 | 2 | 0 |\n| ⋮ | ⋮ | ⋮ | ⋮ | ⋮ | ⋮ | ⋮ | ⋮ | ⋮ | ⋮ | ⋮ | ⋮ | ⋮ | ⋮ |\n| 44 | 1 | 1 | 120 | 263 | 0 | 1 | 173 | 0 | 0.0 | 2 | 0 | 3 | 1 |\n| 56 | 0 | 0 | 134 | 409 | 0 | 0 | 150 | 1 | 1.9 | 1 | 2 | 3 | 0 |\n| 54 | 1 | 0 | 120 | 188 | 0 | 1 | 113 | 0 | 1.4 | 1 | 1 | 3 | 0 |\n| 42 | 1 | 0 | 136 | 315 | 0 | 1 | 125 | 1 | 1.8 | 1 | 0 | 1 | 0 |\n| 67 | 1 | 0 | 125 | 254 | 1 | 1 | 163 | 0 | 0.2 | 1 | 2 | 3 | 0 |\n| 64 | 1 | 0 | 145 | 212 | 0 | 0 | 132 | 0 | 2.0 | 1 | 2 | 1 | 0 |\n| 42 | 1 | 0 | 140 | 226 | 0 | 1 | 178 | 0 | 0.0 | 2 | 0 | 2 | 1 |\n| 66 | 1 | 0 | 112 | 212 | 0 | 0 | 132 | 1 | 0.1 | 2 | 1 | 2 | 0 |\n| 52 | 1 | 0 | 108 | 233 | 1 | 1 | 147 | 0 | 0.1 | 2 | 3 | 3 | 1 |\n| 51 | 0 | 2 | 140 | 308 | 0 | 0 | 142 | 0 | 1.5 | 2 | 1 | 2 | 1 |\n| 55 | 0 | 0 | 128 | 205 | 0 | 2 | 130 | 1 | 2.0 | 1 | 1 | 3 | 0 |\n| 58 | 1 | 2 | 140 | 211 | 1 | 0 | 165 | 0 | 0.0 | 2 | 0 | 2 | 1 |\n| 56 | 1 | 3 | 120 | 193 | 0 | 0 | 162 | 0 | 1.9 | 1 | 0 | 3 | 1 |\n| 42 | 1 | 1 | 120 | 295 | 0 | 1 | 162 | 0 | 0.0 | 2 | 0 | 2 | 1 |\n| 40 | 1 | 0 | 152 | 223 | 0 | 1 | 181 | 0 | 0.0 | 2 | 0 | 3 | 0 |\n| 51 | 1 | 0 | 140 | 299 | 0 | 1 | 173 | 1 | 1.6 | 2 | 0 | 3 | 0 |\n| 45 | 1 | 1 | 128 | 308 | 0 | 0 | 170 | 0 | 0.0 | 2 | 0 | 2 | 1 |\n| 48 | 1 | 1 | 110 | 229 | 0 | 1 | 168 | 0 | 1.0 | 0 | 0 | 3 | 0 |\n| 58 | 1 | 0 | 114 | 318 | 0 | 2 | 140 | 0 | 4.4 | 0 | 3 | 1 | 0 |\n| 44 | 0 | 2 | 108 | 141 | 0 | 1 | 175 | 0 | 0.6 | 1 | 0 | 2 | 1 |\n| 58 | 1 | 0 | 128 | 216 | 0 | 0 | 131 | 1 | 2.2 | 1 | 3 | 3 | 0 |\n| 65 | 1 | 3 | 138 | 282 | 1 | 0 | 174 | 0 | 1.4 | 1 | 1 | 2 | 0 |\n| 53 | 1 | 0 | 123 | 282 | 0 | 1 |  95 | 1 | 2.0 | 1 | 2 | 3 | 0 |\n| 41 | 1 | 0 | 110 | 172 | 0 | 0 | 158 | 0 | 0.0 | 2 | 0 | 3 | 0 |\n| 47 | 1 | 0 | 112 | 204 | 0 | 1 | 143 | 0 | 0.1 | 2 | 0 | 2 | 1 |\n| 59 | 1 | 1 | 140 | 221 | 0 | 1 | 164 | 1 | 0.0 | 2 | 0 | 2 | 1 |\n| 60 | 1 | 0 | 125 | 258 | 0 | 0 | 141 | 1 | 2.8 | 1 | 1 | 3 | 0 |\n| 47 | 1 | 0 | 110 | 275 | 0 | 0 | 118 | 1 | 1.0 | 1 | 1 | 2 | 0 |\n| 50 | 0 | 0 | 110 | 254 | 0 | 0 | 159 | 0 | 0.0 | 2 | 0 | 2 | 1 |\n| 54 | 1 | 0 | 120 | 188 | 0 | 1 | 113 | 0 | 1.4 | 1 | 1 | 3 | 0 |\n\n",
            "text/latex": "A data.frame: 1025 × 14\n\\begin{tabular}{llllllllllllll}\n age & sex & cp & trestbps & chol & fbs & restecg & thalach & exang & oldpeak & slope & ca & thal & target\\\\\n <int> & <fct> & <fct> & <int> & <int> & <fct> & <fct> & <int> & <fct> & <dbl> & <fct> & <fct> & <fct> & <fct>\\\\\n\\hline\n\t 52 & 1 & 0 & 125 & 212 & 0 & 1 & 168 & 0 & 1.0 & 2 & 2 & 3 & 0\\\\\n\t 53 & 1 & 0 & 140 & 203 & 1 & 0 & 155 & 1 & 3.1 & 0 & 0 & 3 & 0\\\\\n\t 70 & 1 & 0 & 145 & 174 & 0 & 1 & 125 & 1 & 2.6 & 0 & 0 & 3 & 0\\\\\n\t 61 & 1 & 0 & 148 & 203 & 0 & 1 & 161 & 0 & 0.0 & 2 & 1 & 3 & 0\\\\\n\t 62 & 0 & 0 & 138 & 294 & 1 & 1 & 106 & 0 & 1.9 & 1 & 3 & 2 & 0\\\\\n\t 58 & 0 & 0 & 100 & 248 & 0 & 0 & 122 & 0 & 1.0 & 1 & 0 & 2 & 1\\\\\n\t 58 & 1 & 0 & 114 & 318 & 0 & 2 & 140 & 0 & 4.4 & 0 & 3 & 1 & 0\\\\\n\t 55 & 1 & 0 & 160 & 289 & 0 & 0 & 145 & 1 & 0.8 & 1 & 1 & 3 & 0\\\\\n\t 46 & 1 & 0 & 120 & 249 & 0 & 0 & 144 & 0 & 0.8 & 2 & 0 & 3 & 0\\\\\n\t 54 & 1 & 0 & 122 & 286 & 0 & 0 & 116 & 1 & 3.2 & 1 & 2 & 2 & 0\\\\\n\t 71 & 0 & 0 & 112 & 149 & 0 & 1 & 125 & 0 & 1.6 & 1 & 0 & 2 & 1\\\\\n\t 43 & 0 & 0 & 132 & 341 & 1 & 0 & 136 & 1 & 3.0 & 1 & 0 & 3 & 0\\\\\n\t 34 & 0 & 1 & 118 & 210 & 0 & 1 & 192 & 0 & 0.7 & 2 & 0 & 2 & 1\\\\\n\t 51 & 1 & 0 & 140 & 298 & 0 & 1 & 122 & 1 & 4.2 & 1 & 3 & 3 & 0\\\\\n\t 52 & 1 & 0 & 128 & 204 & 1 & 1 & 156 & 1 & 1.0 & 1 & 0 & 0 & 0\\\\\n\t 34 & 0 & 1 & 118 & 210 & 0 & 1 & 192 & 0 & 0.7 & 2 & 0 & 2 & 1\\\\\n\t 51 & 0 & 2 & 140 & 308 & 0 & 0 & 142 & 0 & 1.5 & 2 & 1 & 2 & 1\\\\\n\t 54 & 1 & 0 & 124 & 266 & 0 & 0 & 109 & 1 & 2.2 & 1 & 1 & 3 & 0\\\\\n\t 50 & 0 & 1 & 120 & 244 & 0 & 1 & 162 & 0 & 1.1 & 2 & 0 & 2 & 1\\\\\n\t 58 & 1 & 2 & 140 & 211 & 1 & 0 & 165 & 0 & 0.0 & 2 & 0 & 2 & 1\\\\\n\t 60 & 1 & 2 & 140 & 185 & 0 & 0 & 155 & 0 & 3.0 & 1 & 0 & 2 & 0\\\\\n\t 67 & 0 & 0 & 106 & 223 & 0 & 1 & 142 & 0 & 0.3 & 2 & 2 & 2 & 1\\\\\n\t 45 & 1 & 0 & 104 & 208 & 0 & 0 & 148 & 1 & 3.0 & 1 & 0 & 2 & 1\\\\\n\t 63 & 0 & 2 & 135 & 252 & 0 & 0 & 172 & 0 & 0.0 & 2 & 0 & 2 & 1\\\\\n\t 42 & 0 & 2 & 120 & 209 & 0 & 1 & 173 & 0 & 0.0 & 1 & 0 & 2 & 1\\\\\n\t 61 & 0 & 0 & 145 & 307 & 0 & 0 & 146 & 1 & 1.0 & 1 & 0 & 3 & 0\\\\\n\t 44 & 1 & 2 & 130 & 233 & 0 & 1 & 179 & 1 & 0.4 & 2 & 0 & 2 & 1\\\\\n\t 58 & 0 & 1 & 136 & 319 & 1 & 0 & 152 & 0 & 0.0 & 2 & 2 & 2 & 0\\\\\n\t 56 & 1 & 2 & 130 & 256 & 1 & 0 & 142 & 1 & 0.6 & 1 & 1 & 1 & 0\\\\\n\t 55 & 0 & 0 & 180 & 327 & 0 & 2 & 117 & 1 & 3.4 & 1 & 0 & 2 & 0\\\\\n\t ⋮ & ⋮ & ⋮ & ⋮ & ⋮ & ⋮ & ⋮ & ⋮ & ⋮ & ⋮ & ⋮ & ⋮ & ⋮ & ⋮\\\\\n\t 44 & 1 & 1 & 120 & 263 & 0 & 1 & 173 & 0 & 0.0 & 2 & 0 & 3 & 1\\\\\n\t 56 & 0 & 0 & 134 & 409 & 0 & 0 & 150 & 1 & 1.9 & 1 & 2 & 3 & 0\\\\\n\t 54 & 1 & 0 & 120 & 188 & 0 & 1 & 113 & 0 & 1.4 & 1 & 1 & 3 & 0\\\\\n\t 42 & 1 & 0 & 136 & 315 & 0 & 1 & 125 & 1 & 1.8 & 1 & 0 & 1 & 0\\\\\n\t 67 & 1 & 0 & 125 & 254 & 1 & 1 & 163 & 0 & 0.2 & 1 & 2 & 3 & 0\\\\\n\t 64 & 1 & 0 & 145 & 212 & 0 & 0 & 132 & 0 & 2.0 & 1 & 2 & 1 & 0\\\\\n\t 42 & 1 & 0 & 140 & 226 & 0 & 1 & 178 & 0 & 0.0 & 2 & 0 & 2 & 1\\\\\n\t 66 & 1 & 0 & 112 & 212 & 0 & 0 & 132 & 1 & 0.1 & 2 & 1 & 2 & 0\\\\\n\t 52 & 1 & 0 & 108 & 233 & 1 & 1 & 147 & 0 & 0.1 & 2 & 3 & 3 & 1\\\\\n\t 51 & 0 & 2 & 140 & 308 & 0 & 0 & 142 & 0 & 1.5 & 2 & 1 & 2 & 1\\\\\n\t 55 & 0 & 0 & 128 & 205 & 0 & 2 & 130 & 1 & 2.0 & 1 & 1 & 3 & 0\\\\\n\t 58 & 1 & 2 & 140 & 211 & 1 & 0 & 165 & 0 & 0.0 & 2 & 0 & 2 & 1\\\\\n\t 56 & 1 & 3 & 120 & 193 & 0 & 0 & 162 & 0 & 1.9 & 1 & 0 & 3 & 1\\\\\n\t 42 & 1 & 1 & 120 & 295 & 0 & 1 & 162 & 0 & 0.0 & 2 & 0 & 2 & 1\\\\\n\t 40 & 1 & 0 & 152 & 223 & 0 & 1 & 181 & 0 & 0.0 & 2 & 0 & 3 & 0\\\\\n\t 51 & 1 & 0 & 140 & 299 & 0 & 1 & 173 & 1 & 1.6 & 2 & 0 & 3 & 0\\\\\n\t 45 & 1 & 1 & 128 & 308 & 0 & 0 & 170 & 0 & 0.0 & 2 & 0 & 2 & 1\\\\\n\t 48 & 1 & 1 & 110 & 229 & 0 & 1 & 168 & 0 & 1.0 & 0 & 0 & 3 & 0\\\\\n\t 58 & 1 & 0 & 114 & 318 & 0 & 2 & 140 & 0 & 4.4 & 0 & 3 & 1 & 0\\\\\n\t 44 & 0 & 2 & 108 & 141 & 0 & 1 & 175 & 0 & 0.6 & 1 & 0 & 2 & 1\\\\\n\t 58 & 1 & 0 & 128 & 216 & 0 & 0 & 131 & 1 & 2.2 & 1 & 3 & 3 & 0\\\\\n\t 65 & 1 & 3 & 138 & 282 & 1 & 0 & 174 & 0 & 1.4 & 1 & 1 & 2 & 0\\\\\n\t 53 & 1 & 0 & 123 & 282 & 0 & 1 &  95 & 1 & 2.0 & 1 & 2 & 3 & 0\\\\\n\t 41 & 1 & 0 & 110 & 172 & 0 & 0 & 158 & 0 & 0.0 & 2 & 0 & 3 & 0\\\\\n\t 47 & 1 & 0 & 112 & 204 & 0 & 1 & 143 & 0 & 0.1 & 2 & 0 & 2 & 1\\\\\n\t 59 & 1 & 1 & 140 & 221 & 0 & 1 & 164 & 1 & 0.0 & 2 & 0 & 2 & 1\\\\\n\t 60 & 1 & 0 & 125 & 258 & 0 & 0 & 141 & 1 & 2.8 & 1 & 1 & 3 & 0\\\\\n\t 47 & 1 & 0 & 110 & 275 & 0 & 0 & 118 & 1 & 1.0 & 1 & 1 & 2 & 0\\\\\n\t 50 & 0 & 0 & 110 & 254 & 0 & 0 & 159 & 0 & 0.0 & 2 & 0 & 2 & 1\\\\\n\t 54 & 1 & 0 & 120 & 188 & 0 & 1 & 113 & 0 & 1.4 & 1 & 1 & 3 & 0\\\\\n\\end{tabular}\n",
            "text/plain": [
              "     age sex cp trestbps chol fbs restecg thalach exang oldpeak slope ca thal\n",
              "1    52  1   0  125      212  0   1       168     0     1.0     2     2  3   \n",
              "2    53  1   0  140      203  1   0       155     1     3.1     0     0  3   \n",
              "3    70  1   0  145      174  0   1       125     1     2.6     0     0  3   \n",
              "4    61  1   0  148      203  0   1       161     0     0.0     2     1  3   \n",
              "5    62  0   0  138      294  1   1       106     0     1.9     1     3  2   \n",
              "6    58  0   0  100      248  0   0       122     0     1.0     1     0  2   \n",
              "7    58  1   0  114      318  0   2       140     0     4.4     0     3  1   \n",
              "8    55  1   0  160      289  0   0       145     1     0.8     1     1  3   \n",
              "9    46  1   0  120      249  0   0       144     0     0.8     2     0  3   \n",
              "10   54  1   0  122      286  0   0       116     1     3.2     1     2  2   \n",
              "11   71  0   0  112      149  0   1       125     0     1.6     1     0  2   \n",
              "12   43  0   0  132      341  1   0       136     1     3.0     1     0  3   \n",
              "13   34  0   1  118      210  0   1       192     0     0.7     2     0  2   \n",
              "14   51  1   0  140      298  0   1       122     1     4.2     1     3  3   \n",
              "15   52  1   0  128      204  1   1       156     1     1.0     1     0  0   \n",
              "16   34  0   1  118      210  0   1       192     0     0.7     2     0  2   \n",
              "17   51  0   2  140      308  0   0       142     0     1.5     2     1  2   \n",
              "18   54  1   0  124      266  0   0       109     1     2.2     1     1  3   \n",
              "19   50  0   1  120      244  0   1       162     0     1.1     2     0  2   \n",
              "20   58  1   2  140      211  1   0       165     0     0.0     2     0  2   \n",
              "21   60  1   2  140      185  0   0       155     0     3.0     1     0  2   \n",
              "22   67  0   0  106      223  0   1       142     0     0.3     2     2  2   \n",
              "23   45  1   0  104      208  0   0       148     1     3.0     1     0  2   \n",
              "24   63  0   2  135      252  0   0       172     0     0.0     2     0  2   \n",
              "25   42  0   2  120      209  0   1       173     0     0.0     1     0  2   \n",
              "26   61  0   0  145      307  0   0       146     1     1.0     1     0  3   \n",
              "27   44  1   2  130      233  0   1       179     1     0.4     2     0  2   \n",
              "28   58  0   1  136      319  1   0       152     0     0.0     2     2  2   \n",
              "29   56  1   2  130      256  1   0       142     1     0.6     1     1  1   \n",
              "30   55  0   0  180      327  0   2       117     1     3.4     1     0  2   \n",
              "⋮    ⋮   ⋮   ⋮  ⋮        ⋮    ⋮   ⋮       ⋮       ⋮     ⋮       ⋮     ⋮  ⋮   \n",
              "996  44  1   1  120      263  0   1       173     0     0.0     2     0  3   \n",
              "997  56  0   0  134      409  0   0       150     1     1.9     1     2  3   \n",
              "998  54  1   0  120      188  0   1       113     0     1.4     1     1  3   \n",
              "999  42  1   0  136      315  0   1       125     1     1.8     1     0  1   \n",
              "1000 67  1   0  125      254  1   1       163     0     0.2     1     2  3   \n",
              "1001 64  1   0  145      212  0   0       132     0     2.0     1     2  1   \n",
              "1002 42  1   0  140      226  0   1       178     0     0.0     2     0  2   \n",
              "1003 66  1   0  112      212  0   0       132     1     0.1     2     1  2   \n",
              "1004 52  1   0  108      233  1   1       147     0     0.1     2     3  3   \n",
              "1005 51  0   2  140      308  0   0       142     0     1.5     2     1  2   \n",
              "1006 55  0   0  128      205  0   2       130     1     2.0     1     1  3   \n",
              "1007 58  1   2  140      211  1   0       165     0     0.0     2     0  2   \n",
              "1008 56  1   3  120      193  0   0       162     0     1.9     1     0  3   \n",
              "1009 42  1   1  120      295  0   1       162     0     0.0     2     0  2   \n",
              "1010 40  1   0  152      223  0   1       181     0     0.0     2     0  3   \n",
              "1011 51  1   0  140      299  0   1       173     1     1.6     2     0  3   \n",
              "1012 45  1   1  128      308  0   0       170     0     0.0     2     0  2   \n",
              "1013 48  1   1  110      229  0   1       168     0     1.0     0     0  3   \n",
              "1014 58  1   0  114      318  0   2       140     0     4.4     0     3  1   \n",
              "1015 44  0   2  108      141  0   1       175     0     0.6     1     0  2   \n",
              "1016 58  1   0  128      216  0   0       131     1     2.2     1     3  3   \n",
              "1017 65  1   3  138      282  1   0       174     0     1.4     1     1  2   \n",
              "1018 53  1   0  123      282  0   1        95     1     2.0     1     2  3   \n",
              "1019 41  1   0  110      172  0   0       158     0     0.0     2     0  3   \n",
              "1020 47  1   0  112      204  0   1       143     0     0.1     2     0  2   \n",
              "1021 59  1   1  140      221  0   1       164     1     0.0     2     0  2   \n",
              "1022 60  1   0  125      258  0   0       141     1     2.8     1     1  3   \n",
              "1023 47  1   0  110      275  0   0       118     1     1.0     1     1  2   \n",
              "1024 50  0   0  110      254  0   0       159     0     0.0     2     0  2   \n",
              "1025 54  1   0  120      188  0   1       113     0     1.4     1     1  3   \n",
              "     target\n",
              "1    0     \n",
              "2    0     \n",
              "3    0     \n",
              "4    0     \n",
              "5    0     \n",
              "6    1     \n",
              "7    0     \n",
              "8    0     \n",
              "9    0     \n",
              "10   0     \n",
              "11   1     \n",
              "12   0     \n",
              "13   1     \n",
              "14   0     \n",
              "15   0     \n",
              "16   1     \n",
              "17   1     \n",
              "18   0     \n",
              "19   1     \n",
              "20   1     \n",
              "21   0     \n",
              "22   1     \n",
              "23   1     \n",
              "24   1     \n",
              "25   1     \n",
              "26   0     \n",
              "27   1     \n",
              "28   0     \n",
              "29   0     \n",
              "30   0     \n",
              "⋮    ⋮     \n",
              "996  1     \n",
              "997  0     \n",
              "998  0     \n",
              "999  0     \n",
              "1000 0     \n",
              "1001 0     \n",
              "1002 1     \n",
              "1003 0     \n",
              "1004 1     \n",
              "1005 1     \n",
              "1006 0     \n",
              "1007 1     \n",
              "1008 1     \n",
              "1009 1     \n",
              "1010 0     \n",
              "1011 0     \n",
              "1012 1     \n",
              "1013 0     \n",
              "1014 0     \n",
              "1015 1     \n",
              "1016 0     \n",
              "1017 0     \n",
              "1018 0     \n",
              "1019 0     \n",
              "1020 1     \n",
              "1021 1     \n",
              "1022 0     \n",
              "1023 0     \n",
              "1024 1     \n",
              "1025 0     "
            ]
          },
          "metadata": {}
        }
      ]
    },
    {
      "cell_type": "code",
      "source": [
        "heart %>% filter(target==1)"
      ],
      "metadata": {
        "colab": {
          "base_uri": "https://localhost:8080/",
          "height": 1000
        },
        "id": "bF0sfuq_XSkn",
        "outputId": "feba9dd4-e516-447a-8f6f-fd0ca927d0f1"
      },
      "execution_count": 11,
      "outputs": [
        {
          "output_type": "display_data",
          "data": {
            "text/html": [
              "<table class=\"dataframe\">\n",
              "<caption>A data.frame: 526 × 14</caption>\n",
              "<thead>\n",
              "\t<tr><th scope=col>age</th><th scope=col>sex</th><th scope=col>cp</th><th scope=col>trestbps</th><th scope=col>chol</th><th scope=col>fbs</th><th scope=col>restecg</th><th scope=col>thalach</th><th scope=col>exang</th><th scope=col>oldpeak</th><th scope=col>slope</th><th scope=col>ca</th><th scope=col>thal</th><th scope=col>target</th></tr>\n",
              "\t<tr><th scope=col>&lt;int&gt;</th><th scope=col>&lt;fct&gt;</th><th scope=col>&lt;fct&gt;</th><th scope=col>&lt;int&gt;</th><th scope=col>&lt;int&gt;</th><th scope=col>&lt;fct&gt;</th><th scope=col>&lt;fct&gt;</th><th scope=col>&lt;int&gt;</th><th scope=col>&lt;fct&gt;</th><th scope=col>&lt;dbl&gt;</th><th scope=col>&lt;fct&gt;</th><th scope=col>&lt;fct&gt;</th><th scope=col>&lt;fct&gt;</th><th scope=col>&lt;fct&gt;</th></tr>\n",
              "</thead>\n",
              "<tbody>\n",
              "\t<tr><td>58</td><td>0</td><td>0</td><td>100</td><td>248</td><td>0</td><td>0</td><td>122</td><td>0</td><td>1.0</td><td>1</td><td>0</td><td>2</td><td>1</td></tr>\n",
              "\t<tr><td>71</td><td>0</td><td>0</td><td>112</td><td>149</td><td>0</td><td>1</td><td>125</td><td>0</td><td>1.6</td><td>1</td><td>0</td><td>2</td><td>1</td></tr>\n",
              "\t<tr><td>34</td><td>0</td><td>1</td><td>118</td><td>210</td><td>0</td><td>1</td><td>192</td><td>0</td><td>0.7</td><td>2</td><td>0</td><td>2</td><td>1</td></tr>\n",
              "\t<tr><td>34</td><td>0</td><td>1</td><td>118</td><td>210</td><td>0</td><td>1</td><td>192</td><td>0</td><td>0.7</td><td>2</td><td>0</td><td>2</td><td>1</td></tr>\n",
              "\t<tr><td>51</td><td>0</td><td>2</td><td>140</td><td>308</td><td>0</td><td>0</td><td>142</td><td>0</td><td>1.5</td><td>2</td><td>1</td><td>2</td><td>1</td></tr>\n",
              "\t<tr><td>50</td><td>0</td><td>1</td><td>120</td><td>244</td><td>0</td><td>1</td><td>162</td><td>0</td><td>1.1</td><td>2</td><td>0</td><td>2</td><td>1</td></tr>\n",
              "\t<tr><td>58</td><td>1</td><td>2</td><td>140</td><td>211</td><td>1</td><td>0</td><td>165</td><td>0</td><td>0.0</td><td>2</td><td>0</td><td>2</td><td>1</td></tr>\n",
              "\t<tr><td>67</td><td>0</td><td>0</td><td>106</td><td>223</td><td>0</td><td>1</td><td>142</td><td>0</td><td>0.3</td><td>2</td><td>2</td><td>2</td><td>1</td></tr>\n",
              "\t<tr><td>45</td><td>1</td><td>0</td><td>104</td><td>208</td><td>0</td><td>0</td><td>148</td><td>1</td><td>3.0</td><td>1</td><td>0</td><td>2</td><td>1</td></tr>\n",
              "\t<tr><td>63</td><td>0</td><td>2</td><td>135</td><td>252</td><td>0</td><td>0</td><td>172</td><td>0</td><td>0.0</td><td>2</td><td>0</td><td>2</td><td>1</td></tr>\n",
              "\t<tr><td>42</td><td>0</td><td>2</td><td>120</td><td>209</td><td>0</td><td>1</td><td>173</td><td>0</td><td>0.0</td><td>1</td><td>0</td><td>2</td><td>1</td></tr>\n",
              "\t<tr><td>44</td><td>1</td><td>2</td><td>130</td><td>233</td><td>0</td><td>1</td><td>179</td><td>1</td><td>0.4</td><td>2</td><td>0</td><td>2</td><td>1</td></tr>\n",
              "\t<tr><td>50</td><td>0</td><td>1</td><td>120</td><td>244</td><td>0</td><td>1</td><td>162</td><td>0</td><td>1.1</td><td>2</td><td>0</td><td>2</td><td>1</td></tr>\n",
              "\t<tr><td>50</td><td>1</td><td>2</td><td>129</td><td>196</td><td>0</td><td>1</td><td>163</td><td>0</td><td>0.0</td><td>2</td><td>0</td><td>2</td><td>1</td></tr>\n",
              "\t<tr><td>51</td><td>1</td><td>3</td><td>125</td><td>213</td><td>0</td><td>0</td><td>125</td><td>1</td><td>1.4</td><td>2</td><td>1</td><td>2</td><td>1</td></tr>\n",
              "\t<tr><td>59</td><td>1</td><td>0</td><td>138</td><td>271</td><td>0</td><td>0</td><td>182</td><td>0</td><td>0.0</td><td>2</td><td>0</td><td>2</td><td>1</td></tr>\n",
              "\t<tr><td>64</td><td>1</td><td>0</td><td>128</td><td>263</td><td>0</td><td>1</td><td>105</td><td>1</td><td>0.2</td><td>1</td><td>1</td><td>3</td><td>1</td></tr>\n",
              "\t<tr><td>65</td><td>0</td><td>2</td><td>160</td><td>360</td><td>0</td><td>0</td><td>151</td><td>0</td><td>0.8</td><td>2</td><td>0</td><td>2</td><td>1</td></tr>\n",
              "\t<tr><td>54</td><td>1</td><td>2</td><td>120</td><td>258</td><td>0</td><td>0</td><td>147</td><td>0</td><td>0.4</td><td>1</td><td>0</td><td>3</td><td>1</td></tr>\n",
              "\t<tr><td>55</td><td>0</td><td>1</td><td>132</td><td>342</td><td>0</td><td>1</td><td>166</td><td>0</td><td>1.2</td><td>2</td><td>0</td><td>2</td><td>1</td></tr>\n",
              "\t<tr><td>42</td><td>1</td><td>0</td><td>140</td><td>226</td><td>0</td><td>1</td><td>178</td><td>0</td><td>0.0</td><td>2</td><td>0</td><td>2</td><td>1</td></tr>\n",
              "\t<tr><td>41</td><td>1</td><td>1</td><td>135</td><td>203</td><td>0</td><td>1</td><td>132</td><td>0</td><td>0.0</td><td>1</td><td>0</td><td>1</td><td>1</td></tr>\n",
              "\t<tr><td>66</td><td>0</td><td>2</td><td>146</td><td>278</td><td>0</td><td>0</td><td>152</td><td>0</td><td>0.0</td><td>1</td><td>1</td><td>2</td><td>1</td></tr>\n",
              "\t<tr><td>58</td><td>0</td><td>3</td><td>150</td><td>283</td><td>1</td><td>0</td><td>162</td><td>0</td><td>1.0</td><td>2</td><td>0</td><td>2</td><td>1</td></tr>\n",
              "\t<tr><td>38</td><td>1</td><td>2</td><td>138</td><td>175</td><td>0</td><td>1</td><td>173</td><td>0</td><td>0.0</td><td>2</td><td>4</td><td>2</td><td>1</td></tr>\n",
              "\t<tr><td>56</td><td>1</td><td>3</td><td>120</td><td>193</td><td>0</td><td>0</td><td>162</td><td>0</td><td>1.9</td><td>1</td><td>0</td><td>3</td><td>1</td></tr>\n",
              "\t<tr><td>48</td><td>1</td><td>1</td><td>130</td><td>245</td><td>0</td><td>0</td><td>180</td><td>0</td><td>0.2</td><td>1</td><td>0</td><td>2</td><td>1</td></tr>\n",
              "\t<tr><td>29</td><td>1</td><td>1</td><td>130</td><td>204</td><td>0</td><td>0</td><td>202</td><td>0</td><td>0.0</td><td>2</td><td>0</td><td>2</td><td>1</td></tr>\n",
              "\t<tr><td>66</td><td>0</td><td>2</td><td>146</td><td>278</td><td>0</td><td>0</td><td>152</td><td>0</td><td>0.0</td><td>1</td><td>1</td><td>2</td><td>1</td></tr>\n",
              "\t<tr><td>59</td><td>1</td><td>2</td><td>150</td><td>212</td><td>1</td><td>1</td><td>157</td><td>0</td><td>1.6</td><td>2</td><td>0</td><td>2</td><td>1</td></tr>\n",
              "\t<tr><td>⋮</td><td>⋮</td><td>⋮</td><td>⋮</td><td>⋮</td><td>⋮</td><td>⋮</td><td>⋮</td><td>⋮</td><td>⋮</td><td>⋮</td><td>⋮</td><td>⋮</td><td>⋮</td></tr>\n",
              "\t<tr><td>44</td><td>0</td><td>2</td><td>108</td><td>141</td><td>0</td><td>1</td><td>175</td><td>0</td><td>0.6</td><td>1</td><td>0</td><td>2</td><td>1</td></tr>\n",
              "\t<tr><td>76</td><td>0</td><td>2</td><td>140</td><td>197</td><td>0</td><td>2</td><td>116</td><td>0</td><td>1.1</td><td>1</td><td>0</td><td>2</td><td>1</td></tr>\n",
              "\t<tr><td>60</td><td>0</td><td>2</td><td>120</td><td>178</td><td>1</td><td>1</td><td> 96</td><td>0</td><td>0.0</td><td>2</td><td>0</td><td>2</td><td>1</td></tr>\n",
              "\t<tr><td>52</td><td>1</td><td>1</td><td>120</td><td>325</td><td>0</td><td>1</td><td>172</td><td>0</td><td>0.2</td><td>2</td><td>0</td><td>2</td><td>1</td></tr>\n",
              "\t<tr><td>38</td><td>1</td><td>2</td><td>138</td><td>175</td><td>0</td><td>1</td><td>173</td><td>0</td><td>0.0</td><td>2</td><td>4</td><td>2</td><td>1</td></tr>\n",
              "\t<tr><td>52</td><td>1</td><td>2</td><td>172</td><td>199</td><td>1</td><td>1</td><td>162</td><td>0</td><td>0.5</td><td>2</td><td>0</td><td>3</td><td>1</td></tr>\n",
              "\t<tr><td>52</td><td>1</td><td>3</td><td>118</td><td>186</td><td>0</td><td>0</td><td>190</td><td>0</td><td>0.0</td><td>1</td><td>0</td><td>1</td><td>1</td></tr>\n",
              "\t<tr><td>51</td><td>1</td><td>2</td><td>125</td><td>245</td><td>1</td><td>0</td><td>166</td><td>0</td><td>2.4</td><td>1</td><td>0</td><td>2</td><td>1</td></tr>\n",
              "\t<tr><td>43</td><td>1</td><td>0</td><td>110</td><td>211</td><td>0</td><td>1</td><td>161</td><td>0</td><td>0.0</td><td>2</td><td>0</td><td>3</td><td>1</td></tr>\n",
              "\t<tr><td>52</td><td>1</td><td>1</td><td>128</td><td>205</td><td>1</td><td>1</td><td>184</td><td>0</td><td>0.0</td><td>2</td><td>0</td><td>2</td><td>1</td></tr>\n",
              "\t<tr><td>57</td><td>1</td><td>0</td><td>140</td><td>192</td><td>0</td><td>1</td><td>148</td><td>0</td><td>0.4</td><td>1</td><td>0</td><td>1</td><td>1</td></tr>\n",
              "\t<tr><td>67</td><td>0</td><td>0</td><td>106</td><td>223</td><td>0</td><td>1</td><td>142</td><td>0</td><td>0.3</td><td>2</td><td>2</td><td>2</td><td>1</td></tr>\n",
              "\t<tr><td>64</td><td>1</td><td>0</td><td>128</td><td>263</td><td>0</td><td>1</td><td>105</td><td>1</td><td>0.2</td><td>1</td><td>1</td><td>3</td><td>1</td></tr>\n",
              "\t<tr><td>59</td><td>1</td><td>0</td><td>135</td><td>234</td><td>0</td><td>1</td><td>161</td><td>0</td><td>0.5</td><td>1</td><td>0</td><td>3</td><td>1</td></tr>\n",
              "\t<tr><td>62</td><td>1</td><td>2</td><td>130</td><td>231</td><td>0</td><td>1</td><td>146</td><td>0</td><td>1.8</td><td>1</td><td>3</td><td>3</td><td>1</td></tr>\n",
              "\t<tr><td>71</td><td>0</td><td>1</td><td>160</td><td>302</td><td>0</td><td>1</td><td>162</td><td>0</td><td>0.4</td><td>2</td><td>2</td><td>2</td><td>1</td></tr>\n",
              "\t<tr><td>56</td><td>1</td><td>1</td><td>120</td><td>236</td><td>0</td><td>1</td><td>178</td><td>0</td><td>0.8</td><td>2</td><td>0</td><td>2</td><td>1</td></tr>\n",
              "\t<tr><td>50</td><td>0</td><td>0</td><td>110</td><td>254</td><td>0</td><td>0</td><td>159</td><td>0</td><td>0.0</td><td>2</td><td>0</td><td>2</td><td>1</td></tr>\n",
              "\t<tr><td>44</td><td>1</td><td>1</td><td>120</td><td>263</td><td>0</td><td>1</td><td>173</td><td>0</td><td>0.0</td><td>2</td><td>0</td><td>3</td><td>1</td></tr>\n",
              "\t<tr><td>42</td><td>1</td><td>0</td><td>140</td><td>226</td><td>0</td><td>1</td><td>178</td><td>0</td><td>0.0</td><td>2</td><td>0</td><td>2</td><td>1</td></tr>\n",
              "\t<tr><td>52</td><td>1</td><td>0</td><td>108</td><td>233</td><td>1</td><td>1</td><td>147</td><td>0</td><td>0.1</td><td>2</td><td>3</td><td>3</td><td>1</td></tr>\n",
              "\t<tr><td>51</td><td>0</td><td>2</td><td>140</td><td>308</td><td>0</td><td>0</td><td>142</td><td>0</td><td>1.5</td><td>2</td><td>1</td><td>2</td><td>1</td></tr>\n",
              "\t<tr><td>58</td><td>1</td><td>2</td><td>140</td><td>211</td><td>1</td><td>0</td><td>165</td><td>0</td><td>0.0</td><td>2</td><td>0</td><td>2</td><td>1</td></tr>\n",
              "\t<tr><td>56</td><td>1</td><td>3</td><td>120</td><td>193</td><td>0</td><td>0</td><td>162</td><td>0</td><td>1.9</td><td>1</td><td>0</td><td>3</td><td>1</td></tr>\n",
              "\t<tr><td>42</td><td>1</td><td>1</td><td>120</td><td>295</td><td>0</td><td>1</td><td>162</td><td>0</td><td>0.0</td><td>2</td><td>0</td><td>2</td><td>1</td></tr>\n",
              "\t<tr><td>45</td><td>1</td><td>1</td><td>128</td><td>308</td><td>0</td><td>0</td><td>170</td><td>0</td><td>0.0</td><td>2</td><td>0</td><td>2</td><td>1</td></tr>\n",
              "\t<tr><td>44</td><td>0</td><td>2</td><td>108</td><td>141</td><td>0</td><td>1</td><td>175</td><td>0</td><td>0.6</td><td>1</td><td>0</td><td>2</td><td>1</td></tr>\n",
              "\t<tr><td>47</td><td>1</td><td>0</td><td>112</td><td>204</td><td>0</td><td>1</td><td>143</td><td>0</td><td>0.1</td><td>2</td><td>0</td><td>2</td><td>1</td></tr>\n",
              "\t<tr><td>59</td><td>1</td><td>1</td><td>140</td><td>221</td><td>0</td><td>1</td><td>164</td><td>1</td><td>0.0</td><td>2</td><td>0</td><td>2</td><td>1</td></tr>\n",
              "\t<tr><td>50</td><td>0</td><td>0</td><td>110</td><td>254</td><td>0</td><td>0</td><td>159</td><td>0</td><td>0.0</td><td>2</td><td>0</td><td>2</td><td>1</td></tr>\n",
              "</tbody>\n",
              "</table>\n"
            ],
            "text/markdown": "\nA data.frame: 526 × 14\n\n| age &lt;int&gt; | sex &lt;fct&gt; | cp &lt;fct&gt; | trestbps &lt;int&gt; | chol &lt;int&gt; | fbs &lt;fct&gt; | restecg &lt;fct&gt; | thalach &lt;int&gt; | exang &lt;fct&gt; | oldpeak &lt;dbl&gt; | slope &lt;fct&gt; | ca &lt;fct&gt; | thal &lt;fct&gt; | target &lt;fct&gt; |\n|---|---|---|---|---|---|---|---|---|---|---|---|---|---|\n| 58 | 0 | 0 | 100 | 248 | 0 | 0 | 122 | 0 | 1.0 | 1 | 0 | 2 | 1 |\n| 71 | 0 | 0 | 112 | 149 | 0 | 1 | 125 | 0 | 1.6 | 1 | 0 | 2 | 1 |\n| 34 | 0 | 1 | 118 | 210 | 0 | 1 | 192 | 0 | 0.7 | 2 | 0 | 2 | 1 |\n| 34 | 0 | 1 | 118 | 210 | 0 | 1 | 192 | 0 | 0.7 | 2 | 0 | 2 | 1 |\n| 51 | 0 | 2 | 140 | 308 | 0 | 0 | 142 | 0 | 1.5 | 2 | 1 | 2 | 1 |\n| 50 | 0 | 1 | 120 | 244 | 0 | 1 | 162 | 0 | 1.1 | 2 | 0 | 2 | 1 |\n| 58 | 1 | 2 | 140 | 211 | 1 | 0 | 165 | 0 | 0.0 | 2 | 0 | 2 | 1 |\n| 67 | 0 | 0 | 106 | 223 | 0 | 1 | 142 | 0 | 0.3 | 2 | 2 | 2 | 1 |\n| 45 | 1 | 0 | 104 | 208 | 0 | 0 | 148 | 1 | 3.0 | 1 | 0 | 2 | 1 |\n| 63 | 0 | 2 | 135 | 252 | 0 | 0 | 172 | 0 | 0.0 | 2 | 0 | 2 | 1 |\n| 42 | 0 | 2 | 120 | 209 | 0 | 1 | 173 | 0 | 0.0 | 1 | 0 | 2 | 1 |\n| 44 | 1 | 2 | 130 | 233 | 0 | 1 | 179 | 1 | 0.4 | 2 | 0 | 2 | 1 |\n| 50 | 0 | 1 | 120 | 244 | 0 | 1 | 162 | 0 | 1.1 | 2 | 0 | 2 | 1 |\n| 50 | 1 | 2 | 129 | 196 | 0 | 1 | 163 | 0 | 0.0 | 2 | 0 | 2 | 1 |\n| 51 | 1 | 3 | 125 | 213 | 0 | 0 | 125 | 1 | 1.4 | 2 | 1 | 2 | 1 |\n| 59 | 1 | 0 | 138 | 271 | 0 | 0 | 182 | 0 | 0.0 | 2 | 0 | 2 | 1 |\n| 64 | 1 | 0 | 128 | 263 | 0 | 1 | 105 | 1 | 0.2 | 1 | 1 | 3 | 1 |\n| 65 | 0 | 2 | 160 | 360 | 0 | 0 | 151 | 0 | 0.8 | 2 | 0 | 2 | 1 |\n| 54 | 1 | 2 | 120 | 258 | 0 | 0 | 147 | 0 | 0.4 | 1 | 0 | 3 | 1 |\n| 55 | 0 | 1 | 132 | 342 | 0 | 1 | 166 | 0 | 1.2 | 2 | 0 | 2 | 1 |\n| 42 | 1 | 0 | 140 | 226 | 0 | 1 | 178 | 0 | 0.0 | 2 | 0 | 2 | 1 |\n| 41 | 1 | 1 | 135 | 203 | 0 | 1 | 132 | 0 | 0.0 | 1 | 0 | 1 | 1 |\n| 66 | 0 | 2 | 146 | 278 | 0 | 0 | 152 | 0 | 0.0 | 1 | 1 | 2 | 1 |\n| 58 | 0 | 3 | 150 | 283 | 1 | 0 | 162 | 0 | 1.0 | 2 | 0 | 2 | 1 |\n| 38 | 1 | 2 | 138 | 175 | 0 | 1 | 173 | 0 | 0.0 | 2 | 4 | 2 | 1 |\n| 56 | 1 | 3 | 120 | 193 | 0 | 0 | 162 | 0 | 1.9 | 1 | 0 | 3 | 1 |\n| 48 | 1 | 1 | 130 | 245 | 0 | 0 | 180 | 0 | 0.2 | 1 | 0 | 2 | 1 |\n| 29 | 1 | 1 | 130 | 204 | 0 | 0 | 202 | 0 | 0.0 | 2 | 0 | 2 | 1 |\n| 66 | 0 | 2 | 146 | 278 | 0 | 0 | 152 | 0 | 0.0 | 1 | 1 | 2 | 1 |\n| 59 | 1 | 2 | 150 | 212 | 1 | 1 | 157 | 0 | 1.6 | 2 | 0 | 2 | 1 |\n| ⋮ | ⋮ | ⋮ | ⋮ | ⋮ | ⋮ | ⋮ | ⋮ | ⋮ | ⋮ | ⋮ | ⋮ | ⋮ | ⋮ |\n| 44 | 0 | 2 | 108 | 141 | 0 | 1 | 175 | 0 | 0.6 | 1 | 0 | 2 | 1 |\n| 76 | 0 | 2 | 140 | 197 | 0 | 2 | 116 | 0 | 1.1 | 1 | 0 | 2 | 1 |\n| 60 | 0 | 2 | 120 | 178 | 1 | 1 |  96 | 0 | 0.0 | 2 | 0 | 2 | 1 |\n| 52 | 1 | 1 | 120 | 325 | 0 | 1 | 172 | 0 | 0.2 | 2 | 0 | 2 | 1 |\n| 38 | 1 | 2 | 138 | 175 | 0 | 1 | 173 | 0 | 0.0 | 2 | 4 | 2 | 1 |\n| 52 | 1 | 2 | 172 | 199 | 1 | 1 | 162 | 0 | 0.5 | 2 | 0 | 3 | 1 |\n| 52 | 1 | 3 | 118 | 186 | 0 | 0 | 190 | 0 | 0.0 | 1 | 0 | 1 | 1 |\n| 51 | 1 | 2 | 125 | 245 | 1 | 0 | 166 | 0 | 2.4 | 1 | 0 | 2 | 1 |\n| 43 | 1 | 0 | 110 | 211 | 0 | 1 | 161 | 0 | 0.0 | 2 | 0 | 3 | 1 |\n| 52 | 1 | 1 | 128 | 205 | 1 | 1 | 184 | 0 | 0.0 | 2 | 0 | 2 | 1 |\n| 57 | 1 | 0 | 140 | 192 | 0 | 1 | 148 | 0 | 0.4 | 1 | 0 | 1 | 1 |\n| 67 | 0 | 0 | 106 | 223 | 0 | 1 | 142 | 0 | 0.3 | 2 | 2 | 2 | 1 |\n| 64 | 1 | 0 | 128 | 263 | 0 | 1 | 105 | 1 | 0.2 | 1 | 1 | 3 | 1 |\n| 59 | 1 | 0 | 135 | 234 | 0 | 1 | 161 | 0 | 0.5 | 1 | 0 | 3 | 1 |\n| 62 | 1 | 2 | 130 | 231 | 0 | 1 | 146 | 0 | 1.8 | 1 | 3 | 3 | 1 |\n| 71 | 0 | 1 | 160 | 302 | 0 | 1 | 162 | 0 | 0.4 | 2 | 2 | 2 | 1 |\n| 56 | 1 | 1 | 120 | 236 | 0 | 1 | 178 | 0 | 0.8 | 2 | 0 | 2 | 1 |\n| 50 | 0 | 0 | 110 | 254 | 0 | 0 | 159 | 0 | 0.0 | 2 | 0 | 2 | 1 |\n| 44 | 1 | 1 | 120 | 263 | 0 | 1 | 173 | 0 | 0.0 | 2 | 0 | 3 | 1 |\n| 42 | 1 | 0 | 140 | 226 | 0 | 1 | 178 | 0 | 0.0 | 2 | 0 | 2 | 1 |\n| 52 | 1 | 0 | 108 | 233 | 1 | 1 | 147 | 0 | 0.1 | 2 | 3 | 3 | 1 |\n| 51 | 0 | 2 | 140 | 308 | 0 | 0 | 142 | 0 | 1.5 | 2 | 1 | 2 | 1 |\n| 58 | 1 | 2 | 140 | 211 | 1 | 0 | 165 | 0 | 0.0 | 2 | 0 | 2 | 1 |\n| 56 | 1 | 3 | 120 | 193 | 0 | 0 | 162 | 0 | 1.9 | 1 | 0 | 3 | 1 |\n| 42 | 1 | 1 | 120 | 295 | 0 | 1 | 162 | 0 | 0.0 | 2 | 0 | 2 | 1 |\n| 45 | 1 | 1 | 128 | 308 | 0 | 0 | 170 | 0 | 0.0 | 2 | 0 | 2 | 1 |\n| 44 | 0 | 2 | 108 | 141 | 0 | 1 | 175 | 0 | 0.6 | 1 | 0 | 2 | 1 |\n| 47 | 1 | 0 | 112 | 204 | 0 | 1 | 143 | 0 | 0.1 | 2 | 0 | 2 | 1 |\n| 59 | 1 | 1 | 140 | 221 | 0 | 1 | 164 | 1 | 0.0 | 2 | 0 | 2 | 1 |\n| 50 | 0 | 0 | 110 | 254 | 0 | 0 | 159 | 0 | 0.0 | 2 | 0 | 2 | 1 |\n\n",
            "text/latex": "A data.frame: 526 × 14\n\\begin{tabular}{llllllllllllll}\n age & sex & cp & trestbps & chol & fbs & restecg & thalach & exang & oldpeak & slope & ca & thal & target\\\\\n <int> & <fct> & <fct> & <int> & <int> & <fct> & <fct> & <int> & <fct> & <dbl> & <fct> & <fct> & <fct> & <fct>\\\\\n\\hline\n\t 58 & 0 & 0 & 100 & 248 & 0 & 0 & 122 & 0 & 1.0 & 1 & 0 & 2 & 1\\\\\n\t 71 & 0 & 0 & 112 & 149 & 0 & 1 & 125 & 0 & 1.6 & 1 & 0 & 2 & 1\\\\\n\t 34 & 0 & 1 & 118 & 210 & 0 & 1 & 192 & 0 & 0.7 & 2 & 0 & 2 & 1\\\\\n\t 34 & 0 & 1 & 118 & 210 & 0 & 1 & 192 & 0 & 0.7 & 2 & 0 & 2 & 1\\\\\n\t 51 & 0 & 2 & 140 & 308 & 0 & 0 & 142 & 0 & 1.5 & 2 & 1 & 2 & 1\\\\\n\t 50 & 0 & 1 & 120 & 244 & 0 & 1 & 162 & 0 & 1.1 & 2 & 0 & 2 & 1\\\\\n\t 58 & 1 & 2 & 140 & 211 & 1 & 0 & 165 & 0 & 0.0 & 2 & 0 & 2 & 1\\\\\n\t 67 & 0 & 0 & 106 & 223 & 0 & 1 & 142 & 0 & 0.3 & 2 & 2 & 2 & 1\\\\\n\t 45 & 1 & 0 & 104 & 208 & 0 & 0 & 148 & 1 & 3.0 & 1 & 0 & 2 & 1\\\\\n\t 63 & 0 & 2 & 135 & 252 & 0 & 0 & 172 & 0 & 0.0 & 2 & 0 & 2 & 1\\\\\n\t 42 & 0 & 2 & 120 & 209 & 0 & 1 & 173 & 0 & 0.0 & 1 & 0 & 2 & 1\\\\\n\t 44 & 1 & 2 & 130 & 233 & 0 & 1 & 179 & 1 & 0.4 & 2 & 0 & 2 & 1\\\\\n\t 50 & 0 & 1 & 120 & 244 & 0 & 1 & 162 & 0 & 1.1 & 2 & 0 & 2 & 1\\\\\n\t 50 & 1 & 2 & 129 & 196 & 0 & 1 & 163 & 0 & 0.0 & 2 & 0 & 2 & 1\\\\\n\t 51 & 1 & 3 & 125 & 213 & 0 & 0 & 125 & 1 & 1.4 & 2 & 1 & 2 & 1\\\\\n\t 59 & 1 & 0 & 138 & 271 & 0 & 0 & 182 & 0 & 0.0 & 2 & 0 & 2 & 1\\\\\n\t 64 & 1 & 0 & 128 & 263 & 0 & 1 & 105 & 1 & 0.2 & 1 & 1 & 3 & 1\\\\\n\t 65 & 0 & 2 & 160 & 360 & 0 & 0 & 151 & 0 & 0.8 & 2 & 0 & 2 & 1\\\\\n\t 54 & 1 & 2 & 120 & 258 & 0 & 0 & 147 & 0 & 0.4 & 1 & 0 & 3 & 1\\\\\n\t 55 & 0 & 1 & 132 & 342 & 0 & 1 & 166 & 0 & 1.2 & 2 & 0 & 2 & 1\\\\\n\t 42 & 1 & 0 & 140 & 226 & 0 & 1 & 178 & 0 & 0.0 & 2 & 0 & 2 & 1\\\\\n\t 41 & 1 & 1 & 135 & 203 & 0 & 1 & 132 & 0 & 0.0 & 1 & 0 & 1 & 1\\\\\n\t 66 & 0 & 2 & 146 & 278 & 0 & 0 & 152 & 0 & 0.0 & 1 & 1 & 2 & 1\\\\\n\t 58 & 0 & 3 & 150 & 283 & 1 & 0 & 162 & 0 & 1.0 & 2 & 0 & 2 & 1\\\\\n\t 38 & 1 & 2 & 138 & 175 & 0 & 1 & 173 & 0 & 0.0 & 2 & 4 & 2 & 1\\\\\n\t 56 & 1 & 3 & 120 & 193 & 0 & 0 & 162 & 0 & 1.9 & 1 & 0 & 3 & 1\\\\\n\t 48 & 1 & 1 & 130 & 245 & 0 & 0 & 180 & 0 & 0.2 & 1 & 0 & 2 & 1\\\\\n\t 29 & 1 & 1 & 130 & 204 & 0 & 0 & 202 & 0 & 0.0 & 2 & 0 & 2 & 1\\\\\n\t 66 & 0 & 2 & 146 & 278 & 0 & 0 & 152 & 0 & 0.0 & 1 & 1 & 2 & 1\\\\\n\t 59 & 1 & 2 & 150 & 212 & 1 & 1 & 157 & 0 & 1.6 & 2 & 0 & 2 & 1\\\\\n\t ⋮ & ⋮ & ⋮ & ⋮ & ⋮ & ⋮ & ⋮ & ⋮ & ⋮ & ⋮ & ⋮ & ⋮ & ⋮ & ⋮\\\\\n\t 44 & 0 & 2 & 108 & 141 & 0 & 1 & 175 & 0 & 0.6 & 1 & 0 & 2 & 1\\\\\n\t 76 & 0 & 2 & 140 & 197 & 0 & 2 & 116 & 0 & 1.1 & 1 & 0 & 2 & 1\\\\\n\t 60 & 0 & 2 & 120 & 178 & 1 & 1 &  96 & 0 & 0.0 & 2 & 0 & 2 & 1\\\\\n\t 52 & 1 & 1 & 120 & 325 & 0 & 1 & 172 & 0 & 0.2 & 2 & 0 & 2 & 1\\\\\n\t 38 & 1 & 2 & 138 & 175 & 0 & 1 & 173 & 0 & 0.0 & 2 & 4 & 2 & 1\\\\\n\t 52 & 1 & 2 & 172 & 199 & 1 & 1 & 162 & 0 & 0.5 & 2 & 0 & 3 & 1\\\\\n\t 52 & 1 & 3 & 118 & 186 & 0 & 0 & 190 & 0 & 0.0 & 1 & 0 & 1 & 1\\\\\n\t 51 & 1 & 2 & 125 & 245 & 1 & 0 & 166 & 0 & 2.4 & 1 & 0 & 2 & 1\\\\\n\t 43 & 1 & 0 & 110 & 211 & 0 & 1 & 161 & 0 & 0.0 & 2 & 0 & 3 & 1\\\\\n\t 52 & 1 & 1 & 128 & 205 & 1 & 1 & 184 & 0 & 0.0 & 2 & 0 & 2 & 1\\\\\n\t 57 & 1 & 0 & 140 & 192 & 0 & 1 & 148 & 0 & 0.4 & 1 & 0 & 1 & 1\\\\\n\t 67 & 0 & 0 & 106 & 223 & 0 & 1 & 142 & 0 & 0.3 & 2 & 2 & 2 & 1\\\\\n\t 64 & 1 & 0 & 128 & 263 & 0 & 1 & 105 & 1 & 0.2 & 1 & 1 & 3 & 1\\\\\n\t 59 & 1 & 0 & 135 & 234 & 0 & 1 & 161 & 0 & 0.5 & 1 & 0 & 3 & 1\\\\\n\t 62 & 1 & 2 & 130 & 231 & 0 & 1 & 146 & 0 & 1.8 & 1 & 3 & 3 & 1\\\\\n\t 71 & 0 & 1 & 160 & 302 & 0 & 1 & 162 & 0 & 0.4 & 2 & 2 & 2 & 1\\\\\n\t 56 & 1 & 1 & 120 & 236 & 0 & 1 & 178 & 0 & 0.8 & 2 & 0 & 2 & 1\\\\\n\t 50 & 0 & 0 & 110 & 254 & 0 & 0 & 159 & 0 & 0.0 & 2 & 0 & 2 & 1\\\\\n\t 44 & 1 & 1 & 120 & 263 & 0 & 1 & 173 & 0 & 0.0 & 2 & 0 & 3 & 1\\\\\n\t 42 & 1 & 0 & 140 & 226 & 0 & 1 & 178 & 0 & 0.0 & 2 & 0 & 2 & 1\\\\\n\t 52 & 1 & 0 & 108 & 233 & 1 & 1 & 147 & 0 & 0.1 & 2 & 3 & 3 & 1\\\\\n\t 51 & 0 & 2 & 140 & 308 & 0 & 0 & 142 & 0 & 1.5 & 2 & 1 & 2 & 1\\\\\n\t 58 & 1 & 2 & 140 & 211 & 1 & 0 & 165 & 0 & 0.0 & 2 & 0 & 2 & 1\\\\\n\t 56 & 1 & 3 & 120 & 193 & 0 & 0 & 162 & 0 & 1.9 & 1 & 0 & 3 & 1\\\\\n\t 42 & 1 & 1 & 120 & 295 & 0 & 1 & 162 & 0 & 0.0 & 2 & 0 & 2 & 1\\\\\n\t 45 & 1 & 1 & 128 & 308 & 0 & 0 & 170 & 0 & 0.0 & 2 & 0 & 2 & 1\\\\\n\t 44 & 0 & 2 & 108 & 141 & 0 & 1 & 175 & 0 & 0.6 & 1 & 0 & 2 & 1\\\\\n\t 47 & 1 & 0 & 112 & 204 & 0 & 1 & 143 & 0 & 0.1 & 2 & 0 & 2 & 1\\\\\n\t 59 & 1 & 1 & 140 & 221 & 0 & 1 & 164 & 1 & 0.0 & 2 & 0 & 2 & 1\\\\\n\t 50 & 0 & 0 & 110 & 254 & 0 & 0 & 159 & 0 & 0.0 & 2 & 0 & 2 & 1\\\\\n\\end{tabular}\n",
            "text/plain": [
              "    age sex cp trestbps chol fbs restecg thalach exang oldpeak slope ca thal\n",
              "1   58  0   0  100      248  0   0       122     0     1.0     1     0  2   \n",
              "2   71  0   0  112      149  0   1       125     0     1.6     1     0  2   \n",
              "3   34  0   1  118      210  0   1       192     0     0.7     2     0  2   \n",
              "4   34  0   1  118      210  0   1       192     0     0.7     2     0  2   \n",
              "5   51  0   2  140      308  0   0       142     0     1.5     2     1  2   \n",
              "6   50  0   1  120      244  0   1       162     0     1.1     2     0  2   \n",
              "7   58  1   2  140      211  1   0       165     0     0.0     2     0  2   \n",
              "8   67  0   0  106      223  0   1       142     0     0.3     2     2  2   \n",
              "9   45  1   0  104      208  0   0       148     1     3.0     1     0  2   \n",
              "10  63  0   2  135      252  0   0       172     0     0.0     2     0  2   \n",
              "11  42  0   2  120      209  0   1       173     0     0.0     1     0  2   \n",
              "12  44  1   2  130      233  0   1       179     1     0.4     2     0  2   \n",
              "13  50  0   1  120      244  0   1       162     0     1.1     2     0  2   \n",
              "14  50  1   2  129      196  0   1       163     0     0.0     2     0  2   \n",
              "15  51  1   3  125      213  0   0       125     1     1.4     2     1  2   \n",
              "16  59  1   0  138      271  0   0       182     0     0.0     2     0  2   \n",
              "17  64  1   0  128      263  0   1       105     1     0.2     1     1  3   \n",
              "18  65  0   2  160      360  0   0       151     0     0.8     2     0  2   \n",
              "19  54  1   2  120      258  0   0       147     0     0.4     1     0  3   \n",
              "20  55  0   1  132      342  0   1       166     0     1.2     2     0  2   \n",
              "21  42  1   0  140      226  0   1       178     0     0.0     2     0  2   \n",
              "22  41  1   1  135      203  0   1       132     0     0.0     1     0  1   \n",
              "23  66  0   2  146      278  0   0       152     0     0.0     1     1  2   \n",
              "24  58  0   3  150      283  1   0       162     0     1.0     2     0  2   \n",
              "25  38  1   2  138      175  0   1       173     0     0.0     2     4  2   \n",
              "26  56  1   3  120      193  0   0       162     0     1.9     1     0  3   \n",
              "27  48  1   1  130      245  0   0       180     0     0.2     1     0  2   \n",
              "28  29  1   1  130      204  0   0       202     0     0.0     2     0  2   \n",
              "29  66  0   2  146      278  0   0       152     0     0.0     1     1  2   \n",
              "30  59  1   2  150      212  1   1       157     0     1.6     2     0  2   \n",
              "⋮   ⋮   ⋮   ⋮  ⋮        ⋮    ⋮   ⋮       ⋮       ⋮     ⋮       ⋮     ⋮  ⋮   \n",
              "497 44  0   2  108      141  0   1       175     0     0.6     1     0  2   \n",
              "498 76  0   2  140      197  0   2       116     0     1.1     1     0  2   \n",
              "499 60  0   2  120      178  1   1        96     0     0.0     2     0  2   \n",
              "500 52  1   1  120      325  0   1       172     0     0.2     2     0  2   \n",
              "501 38  1   2  138      175  0   1       173     0     0.0     2     4  2   \n",
              "502 52  1   2  172      199  1   1       162     0     0.5     2     0  3   \n",
              "503 52  1   3  118      186  0   0       190     0     0.0     1     0  1   \n",
              "504 51  1   2  125      245  1   0       166     0     2.4     1     0  2   \n",
              "505 43  1   0  110      211  0   1       161     0     0.0     2     0  3   \n",
              "506 52  1   1  128      205  1   1       184     0     0.0     2     0  2   \n",
              "507 57  1   0  140      192  0   1       148     0     0.4     1     0  1   \n",
              "508 67  0   0  106      223  0   1       142     0     0.3     2     2  2   \n",
              "509 64  1   0  128      263  0   1       105     1     0.2     1     1  3   \n",
              "510 59  1   0  135      234  0   1       161     0     0.5     1     0  3   \n",
              "511 62  1   2  130      231  0   1       146     0     1.8     1     3  3   \n",
              "512 71  0   1  160      302  0   1       162     0     0.4     2     2  2   \n",
              "513 56  1   1  120      236  0   1       178     0     0.8     2     0  2   \n",
              "514 50  0   0  110      254  0   0       159     0     0.0     2     0  2   \n",
              "515 44  1   1  120      263  0   1       173     0     0.0     2     0  3   \n",
              "516 42  1   0  140      226  0   1       178     0     0.0     2     0  2   \n",
              "517 52  1   0  108      233  1   1       147     0     0.1     2     3  3   \n",
              "518 51  0   2  140      308  0   0       142     0     1.5     2     1  2   \n",
              "519 58  1   2  140      211  1   0       165     0     0.0     2     0  2   \n",
              "520 56  1   3  120      193  0   0       162     0     1.9     1     0  3   \n",
              "521 42  1   1  120      295  0   1       162     0     0.0     2     0  2   \n",
              "522 45  1   1  128      308  0   0       170     0     0.0     2     0  2   \n",
              "523 44  0   2  108      141  0   1       175     0     0.6     1     0  2   \n",
              "524 47  1   0  112      204  0   1       143     0     0.1     2     0  2   \n",
              "525 59  1   1  140      221  0   1       164     1     0.0     2     0  2   \n",
              "526 50  0   0  110      254  0   0       159     0     0.0     2     0  2   \n",
              "    target\n",
              "1   1     \n",
              "2   1     \n",
              "3   1     \n",
              "4   1     \n",
              "5   1     \n",
              "6   1     \n",
              "7   1     \n",
              "8   1     \n",
              "9   1     \n",
              "10  1     \n",
              "11  1     \n",
              "12  1     \n",
              "13  1     \n",
              "14  1     \n",
              "15  1     \n",
              "16  1     \n",
              "17  1     \n",
              "18  1     \n",
              "19  1     \n",
              "20  1     \n",
              "21  1     \n",
              "22  1     \n",
              "23  1     \n",
              "24  1     \n",
              "25  1     \n",
              "26  1     \n",
              "27  1     \n",
              "28  1     \n",
              "29  1     \n",
              "30  1     \n",
              "⋮   ⋮     \n",
              "497 1     \n",
              "498 1     \n",
              "499 1     \n",
              "500 1     \n",
              "501 1     \n",
              "502 1     \n",
              "503 1     \n",
              "504 1     \n",
              "505 1     \n",
              "506 1     \n",
              "507 1     \n",
              "508 1     \n",
              "509 1     \n",
              "510 1     \n",
              "511 1     \n",
              "512 1     \n",
              "513 1     \n",
              "514 1     \n",
              "515 1     \n",
              "516 1     \n",
              "517 1     \n",
              "518 1     \n",
              "519 1     \n",
              "520 1     \n",
              "521 1     \n",
              "522 1     \n",
              "523 1     \n",
              "524 1     \n",
              "525 1     \n",
              "526 1     "
            ]
          },
          "metadata": {}
        }
      ]
    },
    {
      "cell_type": "code",
      "source": [
        "heart %>% filter(target==0)"
      ],
      "metadata": {
        "colab": {
          "base_uri": "https://localhost:8080/",
          "height": 1000
        },
        "id": "GNZcl5I-XxIq",
        "outputId": "bd33a144-4646-4988-a400-15c325ae7b69"
      },
      "execution_count": 12,
      "outputs": [
        {
          "output_type": "display_data",
          "data": {
            "text/html": [
              "<table class=\"dataframe\">\n",
              "<caption>A data.frame: 499 × 14</caption>\n",
              "<thead>\n",
              "\t<tr><th scope=col>age</th><th scope=col>sex</th><th scope=col>cp</th><th scope=col>trestbps</th><th scope=col>chol</th><th scope=col>fbs</th><th scope=col>restecg</th><th scope=col>thalach</th><th scope=col>exang</th><th scope=col>oldpeak</th><th scope=col>slope</th><th scope=col>ca</th><th scope=col>thal</th><th scope=col>target</th></tr>\n",
              "\t<tr><th scope=col>&lt;int&gt;</th><th scope=col>&lt;fct&gt;</th><th scope=col>&lt;fct&gt;</th><th scope=col>&lt;int&gt;</th><th scope=col>&lt;int&gt;</th><th scope=col>&lt;fct&gt;</th><th scope=col>&lt;fct&gt;</th><th scope=col>&lt;int&gt;</th><th scope=col>&lt;fct&gt;</th><th scope=col>&lt;dbl&gt;</th><th scope=col>&lt;fct&gt;</th><th scope=col>&lt;fct&gt;</th><th scope=col>&lt;fct&gt;</th><th scope=col>&lt;fct&gt;</th></tr>\n",
              "</thead>\n",
              "<tbody>\n",
              "\t<tr><td>52</td><td>1</td><td>0</td><td>125</td><td>212</td><td>0</td><td>1</td><td>168</td><td>0</td><td>1.0</td><td>2</td><td>2</td><td>3</td><td>0</td></tr>\n",
              "\t<tr><td>53</td><td>1</td><td>0</td><td>140</td><td>203</td><td>1</td><td>0</td><td>155</td><td>1</td><td>3.1</td><td>0</td><td>0</td><td>3</td><td>0</td></tr>\n",
              "\t<tr><td>70</td><td>1</td><td>0</td><td>145</td><td>174</td><td>0</td><td>1</td><td>125</td><td>1</td><td>2.6</td><td>0</td><td>0</td><td>3</td><td>0</td></tr>\n",
              "\t<tr><td>61</td><td>1</td><td>0</td><td>148</td><td>203</td><td>0</td><td>1</td><td>161</td><td>0</td><td>0.0</td><td>2</td><td>1</td><td>3</td><td>0</td></tr>\n",
              "\t<tr><td>62</td><td>0</td><td>0</td><td>138</td><td>294</td><td>1</td><td>1</td><td>106</td><td>0</td><td>1.9</td><td>1</td><td>3</td><td>2</td><td>0</td></tr>\n",
              "\t<tr><td>58</td><td>1</td><td>0</td><td>114</td><td>318</td><td>0</td><td>2</td><td>140</td><td>0</td><td>4.4</td><td>0</td><td>3</td><td>1</td><td>0</td></tr>\n",
              "\t<tr><td>55</td><td>1</td><td>0</td><td>160</td><td>289</td><td>0</td><td>0</td><td>145</td><td>1</td><td>0.8</td><td>1</td><td>1</td><td>3</td><td>0</td></tr>\n",
              "\t<tr><td>46</td><td>1</td><td>0</td><td>120</td><td>249</td><td>0</td><td>0</td><td>144</td><td>0</td><td>0.8</td><td>2</td><td>0</td><td>3</td><td>0</td></tr>\n",
              "\t<tr><td>54</td><td>1</td><td>0</td><td>122</td><td>286</td><td>0</td><td>0</td><td>116</td><td>1</td><td>3.2</td><td>1</td><td>2</td><td>2</td><td>0</td></tr>\n",
              "\t<tr><td>43</td><td>0</td><td>0</td><td>132</td><td>341</td><td>1</td><td>0</td><td>136</td><td>1</td><td>3.0</td><td>1</td><td>0</td><td>3</td><td>0</td></tr>\n",
              "\t<tr><td>51</td><td>1</td><td>0</td><td>140</td><td>298</td><td>0</td><td>1</td><td>122</td><td>1</td><td>4.2</td><td>1</td><td>3</td><td>3</td><td>0</td></tr>\n",
              "\t<tr><td>52</td><td>1</td><td>0</td><td>128</td><td>204</td><td>1</td><td>1</td><td>156</td><td>1</td><td>1.0</td><td>1</td><td>0</td><td>0</td><td>0</td></tr>\n",
              "\t<tr><td>54</td><td>1</td><td>0</td><td>124</td><td>266</td><td>0</td><td>0</td><td>109</td><td>1</td><td>2.2</td><td>1</td><td>1</td><td>3</td><td>0</td></tr>\n",
              "\t<tr><td>60</td><td>1</td><td>2</td><td>140</td><td>185</td><td>0</td><td>0</td><td>155</td><td>0</td><td>3.0</td><td>1</td><td>0</td><td>2</td><td>0</td></tr>\n",
              "\t<tr><td>61</td><td>0</td><td>0</td><td>145</td><td>307</td><td>0</td><td>0</td><td>146</td><td>1</td><td>1.0</td><td>1</td><td>0</td><td>3</td><td>0</td></tr>\n",
              "\t<tr><td>58</td><td>0</td><td>1</td><td>136</td><td>319</td><td>1</td><td>0</td><td>152</td><td>0</td><td>0.0</td><td>2</td><td>2</td><td>2</td><td>0</td></tr>\n",
              "\t<tr><td>56</td><td>1</td><td>2</td><td>130</td><td>256</td><td>1</td><td>0</td><td>142</td><td>1</td><td>0.6</td><td>1</td><td>1</td><td>1</td><td>0</td></tr>\n",
              "\t<tr><td>55</td><td>0</td><td>0</td><td>180</td><td>327</td><td>0</td><td>2</td><td>117</td><td>1</td><td>3.4</td><td>1</td><td>0</td><td>2</td><td>0</td></tr>\n",
              "\t<tr><td>44</td><td>1</td><td>0</td><td>120</td><td>169</td><td>0</td><td>1</td><td>144</td><td>1</td><td>2.8</td><td>0</td><td>0</td><td>1</td><td>0</td></tr>\n",
              "\t<tr><td>57</td><td>1</td><td>0</td><td>130</td><td>131</td><td>0</td><td>1</td><td>115</td><td>1</td><td>1.2</td><td>1</td><td>1</td><td>3</td><td>0</td></tr>\n",
              "\t<tr><td>70</td><td>1</td><td>2</td><td>160</td><td>269</td><td>0</td><td>1</td><td>112</td><td>1</td><td>2.9</td><td>1</td><td>1</td><td>3</td><td>0</td></tr>\n",
              "\t<tr><td>46</td><td>1</td><td>2</td><td>150</td><td>231</td><td>0</td><td>1</td><td>147</td><td>0</td><td>3.6</td><td>1</td><td>0</td><td>2</td><td>0</td></tr>\n",
              "\t<tr><td>57</td><td>1</td><td>2</td><td>128</td><td>229</td><td>0</td><td>0</td><td>150</td><td>0</td><td>0.4</td><td>1</td><td>1</td><td>3</td><td>0</td></tr>\n",
              "\t<tr><td>61</td><td>0</td><td>0</td><td>130</td><td>330</td><td>0</td><td>0</td><td>169</td><td>0</td><td>0.0</td><td>2</td><td>0</td><td>2</td><td>0</td></tr>\n",
              "\t<tr><td>46</td><td>1</td><td>0</td><td>120</td><td>249</td><td>0</td><td>0</td><td>144</td><td>0</td><td>0.8</td><td>2</td><td>0</td><td>3</td><td>0</td></tr>\n",
              "\t<tr><td>66</td><td>0</td><td>0</td><td>178</td><td>228</td><td>1</td><td>1</td><td>165</td><td>1</td><td>1.0</td><td>1</td><td>2</td><td>3</td><td>0</td></tr>\n",
              "\t<tr><td>60</td><td>1</td><td>0</td><td>117</td><td>230</td><td>1</td><td>1</td><td>160</td><td>1</td><td>1.4</td><td>2</td><td>2</td><td>3</td><td>0</td></tr>\n",
              "\t<tr><td>57</td><td>0</td><td>0</td><td>140</td><td>241</td><td>0</td><td>1</td><td>123</td><td>1</td><td>0.2</td><td>1</td><td>0</td><td>3</td><td>0</td></tr>\n",
              "\t<tr><td>49</td><td>1</td><td>2</td><td>120</td><td>188</td><td>0</td><td>1</td><td>139</td><td>0</td><td>2.0</td><td>1</td><td>3</td><td>3</td><td>0</td></tr>\n",
              "\t<tr><td>55</td><td>1</td><td>0</td><td>140</td><td>217</td><td>0</td><td>1</td><td>111</td><td>1</td><td>5.6</td><td>0</td><td>0</td><td>3</td><td>0</td></tr>\n",
              "\t<tr><td>⋮</td><td>⋮</td><td>⋮</td><td>⋮</td><td>⋮</td><td>⋮</td><td>⋮</td><td>⋮</td><td>⋮</td><td>⋮</td><td>⋮</td><td>⋮</td><td>⋮</td><td>⋮</td></tr>\n",
              "\t<tr><td>53</td><td>1</td><td>0</td><td>140</td><td>203</td><td>1</td><td>0</td><td>155</td><td>1</td><td>3.1</td><td>0</td><td>0</td><td>3</td><td>0</td></tr>\n",
              "\t<tr><td>39</td><td>1</td><td>0</td><td>118</td><td>219</td><td>0</td><td>1</td><td>140</td><td>0</td><td>1.2</td><td>1</td><td>0</td><td>3</td><td>0</td></tr>\n",
              "\t<tr><td>63</td><td>0</td><td>0</td><td>108</td><td>269</td><td>0</td><td>1</td><td>169</td><td>1</td><td>1.8</td><td>1</td><td>2</td><td>2</td><td>0</td></tr>\n",
              "\t<tr><td>44</td><td>1</td><td>0</td><td>110</td><td>197</td><td>0</td><td>0</td><td>177</td><td>0</td><td>0.0</td><td>2</td><td>1</td><td>2</td><td>0</td></tr>\n",
              "\t<tr><td>45</td><td>1</td><td>0</td><td>142</td><td>309</td><td>0</td><td>0</td><td>147</td><td>1</td><td>0.0</td><td>1</td><td>3</td><td>3</td><td>0</td></tr>\n",
              "\t<tr><td>39</td><td>1</td><td>0</td><td>118</td><td>219</td><td>0</td><td>1</td><td>140</td><td>0</td><td>1.2</td><td>1</td><td>0</td><td>3</td><td>0</td></tr>\n",
              "\t<tr><td>55</td><td>0</td><td>0</td><td>180</td><td>327</td><td>0</td><td>2</td><td>117</td><td>1</td><td>3.4</td><td>1</td><td>0</td><td>2</td><td>0</td></tr>\n",
              "\t<tr><td>57</td><td>1</td><td>1</td><td>154</td><td>232</td><td>0</td><td>0</td><td>164</td><td>0</td><td>0.0</td><td>2</td><td>1</td><td>2</td><td>0</td></tr>\n",
              "\t<tr><td>60</td><td>1</td><td>0</td><td>140</td><td>293</td><td>0</td><td>0</td><td>170</td><td>0</td><td>1.2</td><td>1</td><td>2</td><td>3</td><td>0</td></tr>\n",
              "\t<tr><td>60</td><td>1</td><td>0</td><td>117</td><td>230</td><td>1</td><td>1</td><td>160</td><td>1</td><td>1.4</td><td>2</td><td>2</td><td>3</td><td>0</td></tr>\n",
              "\t<tr><td>43</td><td>1</td><td>0</td><td>132</td><td>247</td><td>1</td><td>0</td><td>143</td><td>1</td><td>0.1</td><td>1</td><td>4</td><td>3</td><td>0</td></tr>\n",
              "\t<tr><td>59</td><td>1</td><td>0</td><td>110</td><td>239</td><td>0</td><td>0</td><td>142</td><td>1</td><td>1.2</td><td>1</td><td>1</td><td>3</td><td>0</td></tr>\n",
              "\t<tr><td>56</td><td>0</td><td>0</td><td>134</td><td>409</td><td>0</td><td>0</td><td>150</td><td>1</td><td>1.9</td><td>1</td><td>2</td><td>3</td><td>0</td></tr>\n",
              "\t<tr><td>54</td><td>1</td><td>0</td><td>120</td><td>188</td><td>0</td><td>1</td><td>113</td><td>0</td><td>1.4</td><td>1</td><td>1</td><td>3</td><td>0</td></tr>\n",
              "\t<tr><td>42</td><td>1</td><td>0</td><td>136</td><td>315</td><td>0</td><td>1</td><td>125</td><td>1</td><td>1.8</td><td>1</td><td>0</td><td>1</td><td>0</td></tr>\n",
              "\t<tr><td>67</td><td>1</td><td>0</td><td>125</td><td>254</td><td>1</td><td>1</td><td>163</td><td>0</td><td>0.2</td><td>1</td><td>2</td><td>3</td><td>0</td></tr>\n",
              "\t<tr><td>64</td><td>1</td><td>0</td><td>145</td><td>212</td><td>0</td><td>0</td><td>132</td><td>0</td><td>2.0</td><td>1</td><td>2</td><td>1</td><td>0</td></tr>\n",
              "\t<tr><td>66</td><td>1</td><td>0</td><td>112</td><td>212</td><td>0</td><td>0</td><td>132</td><td>1</td><td>0.1</td><td>2</td><td>1</td><td>2</td><td>0</td></tr>\n",
              "\t<tr><td>55</td><td>0</td><td>0</td><td>128</td><td>205</td><td>0</td><td>2</td><td>130</td><td>1</td><td>2.0</td><td>1</td><td>1</td><td>3</td><td>0</td></tr>\n",
              "\t<tr><td>40</td><td>1</td><td>0</td><td>152</td><td>223</td><td>0</td><td>1</td><td>181</td><td>0</td><td>0.0</td><td>2</td><td>0</td><td>3</td><td>0</td></tr>\n",
              "\t<tr><td>51</td><td>1</td><td>0</td><td>140</td><td>299</td><td>0</td><td>1</td><td>173</td><td>1</td><td>1.6</td><td>2</td><td>0</td><td>3</td><td>0</td></tr>\n",
              "\t<tr><td>48</td><td>1</td><td>1</td><td>110</td><td>229</td><td>0</td><td>1</td><td>168</td><td>0</td><td>1.0</td><td>0</td><td>0</td><td>3</td><td>0</td></tr>\n",
              "\t<tr><td>58</td><td>1</td><td>0</td><td>114</td><td>318</td><td>0</td><td>2</td><td>140</td><td>0</td><td>4.4</td><td>0</td><td>3</td><td>1</td><td>0</td></tr>\n",
              "\t<tr><td>58</td><td>1</td><td>0</td><td>128</td><td>216</td><td>0</td><td>0</td><td>131</td><td>1</td><td>2.2</td><td>1</td><td>3</td><td>3</td><td>0</td></tr>\n",
              "\t<tr><td>65</td><td>1</td><td>3</td><td>138</td><td>282</td><td>1</td><td>0</td><td>174</td><td>0</td><td>1.4</td><td>1</td><td>1</td><td>2</td><td>0</td></tr>\n",
              "\t<tr><td>53</td><td>1</td><td>0</td><td>123</td><td>282</td><td>0</td><td>1</td><td> 95</td><td>1</td><td>2.0</td><td>1</td><td>2</td><td>3</td><td>0</td></tr>\n",
              "\t<tr><td>41</td><td>1</td><td>0</td><td>110</td><td>172</td><td>0</td><td>0</td><td>158</td><td>0</td><td>0.0</td><td>2</td><td>0</td><td>3</td><td>0</td></tr>\n",
              "\t<tr><td>60</td><td>1</td><td>0</td><td>125</td><td>258</td><td>0</td><td>0</td><td>141</td><td>1</td><td>2.8</td><td>1</td><td>1</td><td>3</td><td>0</td></tr>\n",
              "\t<tr><td>47</td><td>1</td><td>0</td><td>110</td><td>275</td><td>0</td><td>0</td><td>118</td><td>1</td><td>1.0</td><td>1</td><td>1</td><td>2</td><td>0</td></tr>\n",
              "\t<tr><td>54</td><td>1</td><td>0</td><td>120</td><td>188</td><td>0</td><td>1</td><td>113</td><td>0</td><td>1.4</td><td>1</td><td>1</td><td>3</td><td>0</td></tr>\n",
              "</tbody>\n",
              "</table>\n"
            ],
            "text/markdown": "\nA data.frame: 499 × 14\n\n| age &lt;int&gt; | sex &lt;fct&gt; | cp &lt;fct&gt; | trestbps &lt;int&gt; | chol &lt;int&gt; | fbs &lt;fct&gt; | restecg &lt;fct&gt; | thalach &lt;int&gt; | exang &lt;fct&gt; | oldpeak &lt;dbl&gt; | slope &lt;fct&gt; | ca &lt;fct&gt; | thal &lt;fct&gt; | target &lt;fct&gt; |\n|---|---|---|---|---|---|---|---|---|---|---|---|---|---|\n| 52 | 1 | 0 | 125 | 212 | 0 | 1 | 168 | 0 | 1.0 | 2 | 2 | 3 | 0 |\n| 53 | 1 | 0 | 140 | 203 | 1 | 0 | 155 | 1 | 3.1 | 0 | 0 | 3 | 0 |\n| 70 | 1 | 0 | 145 | 174 | 0 | 1 | 125 | 1 | 2.6 | 0 | 0 | 3 | 0 |\n| 61 | 1 | 0 | 148 | 203 | 0 | 1 | 161 | 0 | 0.0 | 2 | 1 | 3 | 0 |\n| 62 | 0 | 0 | 138 | 294 | 1 | 1 | 106 | 0 | 1.9 | 1 | 3 | 2 | 0 |\n| 58 | 1 | 0 | 114 | 318 | 0 | 2 | 140 | 0 | 4.4 | 0 | 3 | 1 | 0 |\n| 55 | 1 | 0 | 160 | 289 | 0 | 0 | 145 | 1 | 0.8 | 1 | 1 | 3 | 0 |\n| 46 | 1 | 0 | 120 | 249 | 0 | 0 | 144 | 0 | 0.8 | 2 | 0 | 3 | 0 |\n| 54 | 1 | 0 | 122 | 286 | 0 | 0 | 116 | 1 | 3.2 | 1 | 2 | 2 | 0 |\n| 43 | 0 | 0 | 132 | 341 | 1 | 0 | 136 | 1 | 3.0 | 1 | 0 | 3 | 0 |\n| 51 | 1 | 0 | 140 | 298 | 0 | 1 | 122 | 1 | 4.2 | 1 | 3 | 3 | 0 |\n| 52 | 1 | 0 | 128 | 204 | 1 | 1 | 156 | 1 | 1.0 | 1 | 0 | 0 | 0 |\n| 54 | 1 | 0 | 124 | 266 | 0 | 0 | 109 | 1 | 2.2 | 1 | 1 | 3 | 0 |\n| 60 | 1 | 2 | 140 | 185 | 0 | 0 | 155 | 0 | 3.0 | 1 | 0 | 2 | 0 |\n| 61 | 0 | 0 | 145 | 307 | 0 | 0 | 146 | 1 | 1.0 | 1 | 0 | 3 | 0 |\n| 58 | 0 | 1 | 136 | 319 | 1 | 0 | 152 | 0 | 0.0 | 2 | 2 | 2 | 0 |\n| 56 | 1 | 2 | 130 | 256 | 1 | 0 | 142 | 1 | 0.6 | 1 | 1 | 1 | 0 |\n| 55 | 0 | 0 | 180 | 327 | 0 | 2 | 117 | 1 | 3.4 | 1 | 0 | 2 | 0 |\n| 44 | 1 | 0 | 120 | 169 | 0 | 1 | 144 | 1 | 2.8 | 0 | 0 | 1 | 0 |\n| 57 | 1 | 0 | 130 | 131 | 0 | 1 | 115 | 1 | 1.2 | 1 | 1 | 3 | 0 |\n| 70 | 1 | 2 | 160 | 269 | 0 | 1 | 112 | 1 | 2.9 | 1 | 1 | 3 | 0 |\n| 46 | 1 | 2 | 150 | 231 | 0 | 1 | 147 | 0 | 3.6 | 1 | 0 | 2 | 0 |\n| 57 | 1 | 2 | 128 | 229 | 0 | 0 | 150 | 0 | 0.4 | 1 | 1 | 3 | 0 |\n| 61 | 0 | 0 | 130 | 330 | 0 | 0 | 169 | 0 | 0.0 | 2 | 0 | 2 | 0 |\n| 46 | 1 | 0 | 120 | 249 | 0 | 0 | 144 | 0 | 0.8 | 2 | 0 | 3 | 0 |\n| 66 | 0 | 0 | 178 | 228 | 1 | 1 | 165 | 1 | 1.0 | 1 | 2 | 3 | 0 |\n| 60 | 1 | 0 | 117 | 230 | 1 | 1 | 160 | 1 | 1.4 | 2 | 2 | 3 | 0 |\n| 57 | 0 | 0 | 140 | 241 | 0 | 1 | 123 | 1 | 0.2 | 1 | 0 | 3 | 0 |\n| 49 | 1 | 2 | 120 | 188 | 0 | 1 | 139 | 0 | 2.0 | 1 | 3 | 3 | 0 |\n| 55 | 1 | 0 | 140 | 217 | 0 | 1 | 111 | 1 | 5.6 | 0 | 0 | 3 | 0 |\n| ⋮ | ⋮ | ⋮ | ⋮ | ⋮ | ⋮ | ⋮ | ⋮ | ⋮ | ⋮ | ⋮ | ⋮ | ⋮ | ⋮ |\n| 53 | 1 | 0 | 140 | 203 | 1 | 0 | 155 | 1 | 3.1 | 0 | 0 | 3 | 0 |\n| 39 | 1 | 0 | 118 | 219 | 0 | 1 | 140 | 0 | 1.2 | 1 | 0 | 3 | 0 |\n| 63 | 0 | 0 | 108 | 269 | 0 | 1 | 169 | 1 | 1.8 | 1 | 2 | 2 | 0 |\n| 44 | 1 | 0 | 110 | 197 | 0 | 0 | 177 | 0 | 0.0 | 2 | 1 | 2 | 0 |\n| 45 | 1 | 0 | 142 | 309 | 0 | 0 | 147 | 1 | 0.0 | 1 | 3 | 3 | 0 |\n| 39 | 1 | 0 | 118 | 219 | 0 | 1 | 140 | 0 | 1.2 | 1 | 0 | 3 | 0 |\n| 55 | 0 | 0 | 180 | 327 | 0 | 2 | 117 | 1 | 3.4 | 1 | 0 | 2 | 0 |\n| 57 | 1 | 1 | 154 | 232 | 0 | 0 | 164 | 0 | 0.0 | 2 | 1 | 2 | 0 |\n| 60 | 1 | 0 | 140 | 293 | 0 | 0 | 170 | 0 | 1.2 | 1 | 2 | 3 | 0 |\n| 60 | 1 | 0 | 117 | 230 | 1 | 1 | 160 | 1 | 1.4 | 2 | 2 | 3 | 0 |\n| 43 | 1 | 0 | 132 | 247 | 1 | 0 | 143 | 1 | 0.1 | 1 | 4 | 3 | 0 |\n| 59 | 1 | 0 | 110 | 239 | 0 | 0 | 142 | 1 | 1.2 | 1 | 1 | 3 | 0 |\n| 56 | 0 | 0 | 134 | 409 | 0 | 0 | 150 | 1 | 1.9 | 1 | 2 | 3 | 0 |\n| 54 | 1 | 0 | 120 | 188 | 0 | 1 | 113 | 0 | 1.4 | 1 | 1 | 3 | 0 |\n| 42 | 1 | 0 | 136 | 315 | 0 | 1 | 125 | 1 | 1.8 | 1 | 0 | 1 | 0 |\n| 67 | 1 | 0 | 125 | 254 | 1 | 1 | 163 | 0 | 0.2 | 1 | 2 | 3 | 0 |\n| 64 | 1 | 0 | 145 | 212 | 0 | 0 | 132 | 0 | 2.0 | 1 | 2 | 1 | 0 |\n| 66 | 1 | 0 | 112 | 212 | 0 | 0 | 132 | 1 | 0.1 | 2 | 1 | 2 | 0 |\n| 55 | 0 | 0 | 128 | 205 | 0 | 2 | 130 | 1 | 2.0 | 1 | 1 | 3 | 0 |\n| 40 | 1 | 0 | 152 | 223 | 0 | 1 | 181 | 0 | 0.0 | 2 | 0 | 3 | 0 |\n| 51 | 1 | 0 | 140 | 299 | 0 | 1 | 173 | 1 | 1.6 | 2 | 0 | 3 | 0 |\n| 48 | 1 | 1 | 110 | 229 | 0 | 1 | 168 | 0 | 1.0 | 0 | 0 | 3 | 0 |\n| 58 | 1 | 0 | 114 | 318 | 0 | 2 | 140 | 0 | 4.4 | 0 | 3 | 1 | 0 |\n| 58 | 1 | 0 | 128 | 216 | 0 | 0 | 131 | 1 | 2.2 | 1 | 3 | 3 | 0 |\n| 65 | 1 | 3 | 138 | 282 | 1 | 0 | 174 | 0 | 1.4 | 1 | 1 | 2 | 0 |\n| 53 | 1 | 0 | 123 | 282 | 0 | 1 |  95 | 1 | 2.0 | 1 | 2 | 3 | 0 |\n| 41 | 1 | 0 | 110 | 172 | 0 | 0 | 158 | 0 | 0.0 | 2 | 0 | 3 | 0 |\n| 60 | 1 | 0 | 125 | 258 | 0 | 0 | 141 | 1 | 2.8 | 1 | 1 | 3 | 0 |\n| 47 | 1 | 0 | 110 | 275 | 0 | 0 | 118 | 1 | 1.0 | 1 | 1 | 2 | 0 |\n| 54 | 1 | 0 | 120 | 188 | 0 | 1 | 113 | 0 | 1.4 | 1 | 1 | 3 | 0 |\n\n",
            "text/latex": "A data.frame: 499 × 14\n\\begin{tabular}{llllllllllllll}\n age & sex & cp & trestbps & chol & fbs & restecg & thalach & exang & oldpeak & slope & ca & thal & target\\\\\n <int> & <fct> & <fct> & <int> & <int> & <fct> & <fct> & <int> & <fct> & <dbl> & <fct> & <fct> & <fct> & <fct>\\\\\n\\hline\n\t 52 & 1 & 0 & 125 & 212 & 0 & 1 & 168 & 0 & 1.0 & 2 & 2 & 3 & 0\\\\\n\t 53 & 1 & 0 & 140 & 203 & 1 & 0 & 155 & 1 & 3.1 & 0 & 0 & 3 & 0\\\\\n\t 70 & 1 & 0 & 145 & 174 & 0 & 1 & 125 & 1 & 2.6 & 0 & 0 & 3 & 0\\\\\n\t 61 & 1 & 0 & 148 & 203 & 0 & 1 & 161 & 0 & 0.0 & 2 & 1 & 3 & 0\\\\\n\t 62 & 0 & 0 & 138 & 294 & 1 & 1 & 106 & 0 & 1.9 & 1 & 3 & 2 & 0\\\\\n\t 58 & 1 & 0 & 114 & 318 & 0 & 2 & 140 & 0 & 4.4 & 0 & 3 & 1 & 0\\\\\n\t 55 & 1 & 0 & 160 & 289 & 0 & 0 & 145 & 1 & 0.8 & 1 & 1 & 3 & 0\\\\\n\t 46 & 1 & 0 & 120 & 249 & 0 & 0 & 144 & 0 & 0.8 & 2 & 0 & 3 & 0\\\\\n\t 54 & 1 & 0 & 122 & 286 & 0 & 0 & 116 & 1 & 3.2 & 1 & 2 & 2 & 0\\\\\n\t 43 & 0 & 0 & 132 & 341 & 1 & 0 & 136 & 1 & 3.0 & 1 & 0 & 3 & 0\\\\\n\t 51 & 1 & 0 & 140 & 298 & 0 & 1 & 122 & 1 & 4.2 & 1 & 3 & 3 & 0\\\\\n\t 52 & 1 & 0 & 128 & 204 & 1 & 1 & 156 & 1 & 1.0 & 1 & 0 & 0 & 0\\\\\n\t 54 & 1 & 0 & 124 & 266 & 0 & 0 & 109 & 1 & 2.2 & 1 & 1 & 3 & 0\\\\\n\t 60 & 1 & 2 & 140 & 185 & 0 & 0 & 155 & 0 & 3.0 & 1 & 0 & 2 & 0\\\\\n\t 61 & 0 & 0 & 145 & 307 & 0 & 0 & 146 & 1 & 1.0 & 1 & 0 & 3 & 0\\\\\n\t 58 & 0 & 1 & 136 & 319 & 1 & 0 & 152 & 0 & 0.0 & 2 & 2 & 2 & 0\\\\\n\t 56 & 1 & 2 & 130 & 256 & 1 & 0 & 142 & 1 & 0.6 & 1 & 1 & 1 & 0\\\\\n\t 55 & 0 & 0 & 180 & 327 & 0 & 2 & 117 & 1 & 3.4 & 1 & 0 & 2 & 0\\\\\n\t 44 & 1 & 0 & 120 & 169 & 0 & 1 & 144 & 1 & 2.8 & 0 & 0 & 1 & 0\\\\\n\t 57 & 1 & 0 & 130 & 131 & 0 & 1 & 115 & 1 & 1.2 & 1 & 1 & 3 & 0\\\\\n\t 70 & 1 & 2 & 160 & 269 & 0 & 1 & 112 & 1 & 2.9 & 1 & 1 & 3 & 0\\\\\n\t 46 & 1 & 2 & 150 & 231 & 0 & 1 & 147 & 0 & 3.6 & 1 & 0 & 2 & 0\\\\\n\t 57 & 1 & 2 & 128 & 229 & 0 & 0 & 150 & 0 & 0.4 & 1 & 1 & 3 & 0\\\\\n\t 61 & 0 & 0 & 130 & 330 & 0 & 0 & 169 & 0 & 0.0 & 2 & 0 & 2 & 0\\\\\n\t 46 & 1 & 0 & 120 & 249 & 0 & 0 & 144 & 0 & 0.8 & 2 & 0 & 3 & 0\\\\\n\t 66 & 0 & 0 & 178 & 228 & 1 & 1 & 165 & 1 & 1.0 & 1 & 2 & 3 & 0\\\\\n\t 60 & 1 & 0 & 117 & 230 & 1 & 1 & 160 & 1 & 1.4 & 2 & 2 & 3 & 0\\\\\n\t 57 & 0 & 0 & 140 & 241 & 0 & 1 & 123 & 1 & 0.2 & 1 & 0 & 3 & 0\\\\\n\t 49 & 1 & 2 & 120 & 188 & 0 & 1 & 139 & 0 & 2.0 & 1 & 3 & 3 & 0\\\\\n\t 55 & 1 & 0 & 140 & 217 & 0 & 1 & 111 & 1 & 5.6 & 0 & 0 & 3 & 0\\\\\n\t ⋮ & ⋮ & ⋮ & ⋮ & ⋮ & ⋮ & ⋮ & ⋮ & ⋮ & ⋮ & ⋮ & ⋮ & ⋮ & ⋮\\\\\n\t 53 & 1 & 0 & 140 & 203 & 1 & 0 & 155 & 1 & 3.1 & 0 & 0 & 3 & 0\\\\\n\t 39 & 1 & 0 & 118 & 219 & 0 & 1 & 140 & 0 & 1.2 & 1 & 0 & 3 & 0\\\\\n\t 63 & 0 & 0 & 108 & 269 & 0 & 1 & 169 & 1 & 1.8 & 1 & 2 & 2 & 0\\\\\n\t 44 & 1 & 0 & 110 & 197 & 0 & 0 & 177 & 0 & 0.0 & 2 & 1 & 2 & 0\\\\\n\t 45 & 1 & 0 & 142 & 309 & 0 & 0 & 147 & 1 & 0.0 & 1 & 3 & 3 & 0\\\\\n\t 39 & 1 & 0 & 118 & 219 & 0 & 1 & 140 & 0 & 1.2 & 1 & 0 & 3 & 0\\\\\n\t 55 & 0 & 0 & 180 & 327 & 0 & 2 & 117 & 1 & 3.4 & 1 & 0 & 2 & 0\\\\\n\t 57 & 1 & 1 & 154 & 232 & 0 & 0 & 164 & 0 & 0.0 & 2 & 1 & 2 & 0\\\\\n\t 60 & 1 & 0 & 140 & 293 & 0 & 0 & 170 & 0 & 1.2 & 1 & 2 & 3 & 0\\\\\n\t 60 & 1 & 0 & 117 & 230 & 1 & 1 & 160 & 1 & 1.4 & 2 & 2 & 3 & 0\\\\\n\t 43 & 1 & 0 & 132 & 247 & 1 & 0 & 143 & 1 & 0.1 & 1 & 4 & 3 & 0\\\\\n\t 59 & 1 & 0 & 110 & 239 & 0 & 0 & 142 & 1 & 1.2 & 1 & 1 & 3 & 0\\\\\n\t 56 & 0 & 0 & 134 & 409 & 0 & 0 & 150 & 1 & 1.9 & 1 & 2 & 3 & 0\\\\\n\t 54 & 1 & 0 & 120 & 188 & 0 & 1 & 113 & 0 & 1.4 & 1 & 1 & 3 & 0\\\\\n\t 42 & 1 & 0 & 136 & 315 & 0 & 1 & 125 & 1 & 1.8 & 1 & 0 & 1 & 0\\\\\n\t 67 & 1 & 0 & 125 & 254 & 1 & 1 & 163 & 0 & 0.2 & 1 & 2 & 3 & 0\\\\\n\t 64 & 1 & 0 & 145 & 212 & 0 & 0 & 132 & 0 & 2.0 & 1 & 2 & 1 & 0\\\\\n\t 66 & 1 & 0 & 112 & 212 & 0 & 0 & 132 & 1 & 0.1 & 2 & 1 & 2 & 0\\\\\n\t 55 & 0 & 0 & 128 & 205 & 0 & 2 & 130 & 1 & 2.0 & 1 & 1 & 3 & 0\\\\\n\t 40 & 1 & 0 & 152 & 223 & 0 & 1 & 181 & 0 & 0.0 & 2 & 0 & 3 & 0\\\\\n\t 51 & 1 & 0 & 140 & 299 & 0 & 1 & 173 & 1 & 1.6 & 2 & 0 & 3 & 0\\\\\n\t 48 & 1 & 1 & 110 & 229 & 0 & 1 & 168 & 0 & 1.0 & 0 & 0 & 3 & 0\\\\\n\t 58 & 1 & 0 & 114 & 318 & 0 & 2 & 140 & 0 & 4.4 & 0 & 3 & 1 & 0\\\\\n\t 58 & 1 & 0 & 128 & 216 & 0 & 0 & 131 & 1 & 2.2 & 1 & 3 & 3 & 0\\\\\n\t 65 & 1 & 3 & 138 & 282 & 1 & 0 & 174 & 0 & 1.4 & 1 & 1 & 2 & 0\\\\\n\t 53 & 1 & 0 & 123 & 282 & 0 & 1 &  95 & 1 & 2.0 & 1 & 2 & 3 & 0\\\\\n\t 41 & 1 & 0 & 110 & 172 & 0 & 0 & 158 & 0 & 0.0 & 2 & 0 & 3 & 0\\\\\n\t 60 & 1 & 0 & 125 & 258 & 0 & 0 & 141 & 1 & 2.8 & 1 & 1 & 3 & 0\\\\\n\t 47 & 1 & 0 & 110 & 275 & 0 & 0 & 118 & 1 & 1.0 & 1 & 1 & 2 & 0\\\\\n\t 54 & 1 & 0 & 120 & 188 & 0 & 1 & 113 & 0 & 1.4 & 1 & 1 & 3 & 0\\\\\n\\end{tabular}\n",
            "text/plain": [
              "    age sex cp trestbps chol fbs restecg thalach exang oldpeak slope ca thal\n",
              "1   52  1   0  125      212  0   1       168     0     1.0     2     2  3   \n",
              "2   53  1   0  140      203  1   0       155     1     3.1     0     0  3   \n",
              "3   70  1   0  145      174  0   1       125     1     2.6     0     0  3   \n",
              "4   61  1   0  148      203  0   1       161     0     0.0     2     1  3   \n",
              "5   62  0   0  138      294  1   1       106     0     1.9     1     3  2   \n",
              "6   58  1   0  114      318  0   2       140     0     4.4     0     3  1   \n",
              "7   55  1   0  160      289  0   0       145     1     0.8     1     1  3   \n",
              "8   46  1   0  120      249  0   0       144     0     0.8     2     0  3   \n",
              "9   54  1   0  122      286  0   0       116     1     3.2     1     2  2   \n",
              "10  43  0   0  132      341  1   0       136     1     3.0     1     0  3   \n",
              "11  51  1   0  140      298  0   1       122     1     4.2     1     3  3   \n",
              "12  52  1   0  128      204  1   1       156     1     1.0     1     0  0   \n",
              "13  54  1   0  124      266  0   0       109     1     2.2     1     1  3   \n",
              "14  60  1   2  140      185  0   0       155     0     3.0     1     0  2   \n",
              "15  61  0   0  145      307  0   0       146     1     1.0     1     0  3   \n",
              "16  58  0   1  136      319  1   0       152     0     0.0     2     2  2   \n",
              "17  56  1   2  130      256  1   0       142     1     0.6     1     1  1   \n",
              "18  55  0   0  180      327  0   2       117     1     3.4     1     0  2   \n",
              "19  44  1   0  120      169  0   1       144     1     2.8     0     0  1   \n",
              "20  57  1   0  130      131  0   1       115     1     1.2     1     1  3   \n",
              "21  70  1   2  160      269  0   1       112     1     2.9     1     1  3   \n",
              "22  46  1   2  150      231  0   1       147     0     3.6     1     0  2   \n",
              "23  57  1   2  128      229  0   0       150     0     0.4     1     1  3   \n",
              "24  61  0   0  130      330  0   0       169     0     0.0     2     0  2   \n",
              "25  46  1   0  120      249  0   0       144     0     0.8     2     0  3   \n",
              "26  66  0   0  178      228  1   1       165     1     1.0     1     2  3   \n",
              "27  60  1   0  117      230  1   1       160     1     1.4     2     2  3   \n",
              "28  57  0   0  140      241  0   1       123     1     0.2     1     0  3   \n",
              "29  49  1   2  120      188  0   1       139     0     2.0     1     3  3   \n",
              "30  55  1   0  140      217  0   1       111     1     5.6     0     0  3   \n",
              "⋮   ⋮   ⋮   ⋮  ⋮        ⋮    ⋮   ⋮       ⋮       ⋮     ⋮       ⋮     ⋮  ⋮   \n",
              "470 53  1   0  140      203  1   0       155     1     3.1     0     0  3   \n",
              "471 39  1   0  118      219  0   1       140     0     1.2     1     0  3   \n",
              "472 63  0   0  108      269  0   1       169     1     1.8     1     2  2   \n",
              "473 44  1   0  110      197  0   0       177     0     0.0     2     1  2   \n",
              "474 45  1   0  142      309  0   0       147     1     0.0     1     3  3   \n",
              "475 39  1   0  118      219  0   1       140     0     1.2     1     0  3   \n",
              "476 55  0   0  180      327  0   2       117     1     3.4     1     0  2   \n",
              "477 57  1   1  154      232  0   0       164     0     0.0     2     1  2   \n",
              "478 60  1   0  140      293  0   0       170     0     1.2     1     2  3   \n",
              "479 60  1   0  117      230  1   1       160     1     1.4     2     2  3   \n",
              "480 43  1   0  132      247  1   0       143     1     0.1     1     4  3   \n",
              "481 59  1   0  110      239  0   0       142     1     1.2     1     1  3   \n",
              "482 56  0   0  134      409  0   0       150     1     1.9     1     2  3   \n",
              "483 54  1   0  120      188  0   1       113     0     1.4     1     1  3   \n",
              "484 42  1   0  136      315  0   1       125     1     1.8     1     0  1   \n",
              "485 67  1   0  125      254  1   1       163     0     0.2     1     2  3   \n",
              "486 64  1   0  145      212  0   0       132     0     2.0     1     2  1   \n",
              "487 66  1   0  112      212  0   0       132     1     0.1     2     1  2   \n",
              "488 55  0   0  128      205  0   2       130     1     2.0     1     1  3   \n",
              "489 40  1   0  152      223  0   1       181     0     0.0     2     0  3   \n",
              "490 51  1   0  140      299  0   1       173     1     1.6     2     0  3   \n",
              "491 48  1   1  110      229  0   1       168     0     1.0     0     0  3   \n",
              "492 58  1   0  114      318  0   2       140     0     4.4     0     3  1   \n",
              "493 58  1   0  128      216  0   0       131     1     2.2     1     3  3   \n",
              "494 65  1   3  138      282  1   0       174     0     1.4     1     1  2   \n",
              "495 53  1   0  123      282  0   1        95     1     2.0     1     2  3   \n",
              "496 41  1   0  110      172  0   0       158     0     0.0     2     0  3   \n",
              "497 60  1   0  125      258  0   0       141     1     2.8     1     1  3   \n",
              "498 47  1   0  110      275  0   0       118     1     1.0     1     1  2   \n",
              "499 54  1   0  120      188  0   1       113     0     1.4     1     1  3   \n",
              "    target\n",
              "1   0     \n",
              "2   0     \n",
              "3   0     \n",
              "4   0     \n",
              "5   0     \n",
              "6   0     \n",
              "7   0     \n",
              "8   0     \n",
              "9   0     \n",
              "10  0     \n",
              "11  0     \n",
              "12  0     \n",
              "13  0     \n",
              "14  0     \n",
              "15  0     \n",
              "16  0     \n",
              "17  0     \n",
              "18  0     \n",
              "19  0     \n",
              "20  0     \n",
              "21  0     \n",
              "22  0     \n",
              "23  0     \n",
              "24  0     \n",
              "25  0     \n",
              "26  0     \n",
              "27  0     \n",
              "28  0     \n",
              "29  0     \n",
              "30  0     \n",
              "⋮   ⋮     \n",
              "470 0     \n",
              "471 0     \n",
              "472 0     \n",
              "473 0     \n",
              "474 0     \n",
              "475 0     \n",
              "476 0     \n",
              "477 0     \n",
              "478 0     \n",
              "479 0     \n",
              "480 0     \n",
              "481 0     \n",
              "482 0     \n",
              "483 0     \n",
              "484 0     \n",
              "485 0     \n",
              "486 0     \n",
              "487 0     \n",
              "488 0     \n",
              "489 0     \n",
              "490 0     \n",
              "491 0     \n",
              "492 0     \n",
              "493 0     \n",
              "494 0     \n",
              "495 0     \n",
              "496 0     \n",
              "497 0     \n",
              "498 0     \n",
              "499 0     "
            ]
          },
          "metadata": {}
        }
      ]
    },
    {
      "cell_type": "code",
      "source": [
        "summary(heart)"
      ],
      "metadata": {
        "id": "3ho0Frj5jnm7",
        "colab": {
          "base_uri": "https://localhost:8080/",
          "height": 267
        },
        "outputId": "bfeb491d-58e2-44ee-fdd5-2d79a5fad40d"
      },
      "execution_count": 13,
      "outputs": [
        {
          "output_type": "display_data",
          "data": {
            "text/plain": [
              "      age        sex     cp         trestbps          chol     fbs     restecg\n",
              " Min.   :29.00   0:312   0:497   Min.   : 94.0   Min.   :126   0:872   0:497  \n",
              " 1st Qu.:48.00   1:713   1:167   1st Qu.:120.0   1st Qu.:211   1:153   1:513  \n",
              " Median :56.00           2:284   Median :130.0   Median :240           2: 15  \n",
              " Mean   :54.43           3: 77   Mean   :131.6   Mean   :246                  \n",
              " 3rd Qu.:61.00                   3rd Qu.:140.0   3rd Qu.:275                  \n",
              " Max.   :77.00                   Max.   :200.0   Max.   :564                  \n",
              "    thalach      exang      oldpeak      slope   ca      thal    target \n",
              " Min.   : 71.0   0:680   Min.   :0.000   0: 74   0:578   0:  7   0:499  \n",
              " 1st Qu.:132.0   1:345   1st Qu.:0.000   1:482   1:226   1: 64   1:526  \n",
              " Median :152.0           Median :0.800   2:469   2:134   2:544          \n",
              " Mean   :149.1           Mean   :1.072           3: 69   3:410          \n",
              " 3rd Qu.:166.0           3rd Qu.:1.800           4: 18                  \n",
              " Max.   :202.0           Max.   :6.200                                  "
            ]
          },
          "metadata": {}
        }
      ]
    },
    {
      "cell_type": "code",
      "source": [
        "normalize <- function(x) {\n",
        "  return ((x - min(x)) / (max(x) - min(x)))\n",
        "}\n",
        "heartmm <- as.data.frame(model.matrix(~.-1,heart))\n",
        "# we are going to normalize everything \n",
        "heart <- as.data.frame(lapply(heartmm, normalize))"
      ],
      "metadata": {
        "id": "7Svwm-c2oO5l"
      },
      "execution_count": 14,
      "outputs": []
    },
    {
      "cell_type": "code",
      "source": [
        "set.seed(385720)"
      ],
      "metadata": {
        "id": "lGI6YHK7OXCd"
      },
      "execution_count": 15,
      "outputs": []
    },
    {
      "cell_type": "code",
      "source": [
        "train<-sample(dim(heart)[1],dim(heart)[1]*0.7)"
      ],
      "metadata": {
        "id": "OGSRBfQwKwa2"
      },
      "execution_count": 16,
      "outputs": []
    },
    {
      "cell_type": "code",
      "source": [
        "test<--train"
      ],
      "metadata": {
        "id": "yLJ0XauJOoh_"
      },
      "execution_count": 17,
      "outputs": []
    },
    {
      "cell_type": "code",
      "source": [
        "heart.train<-heart[train,]"
      ],
      "metadata": {
        "id": "RX-cOZkbKwYL"
      },
      "execution_count": 18,
      "outputs": []
    },
    {
      "cell_type": "code",
      "source": [
        "heart.test<-heart[test,]"
      ],
      "metadata": {
        "id": "JvbWH1WHKwWF"
      },
      "execution_count": 19,
      "outputs": []
    },
    {
      "cell_type": "code",
      "source": [
        "head(heart)"
      ],
      "metadata": {
        "id": "llIE-aYdP1xD",
        "colab": {
          "base_uri": "https://localhost:8080/",
          "height": 306
        },
        "outputId": "5b718120-4044-4e22-9454-9ad8fb4041fe"
      },
      "execution_count": 20,
      "outputs": [
        {
          "output_type": "display_data",
          "data": {
            "text/html": [
              "<table class=\"dataframe\">\n",
              "<caption>A data.frame: 6 × 24</caption>\n",
              "<thead>\n",
              "\t<tr><th></th><th scope=col>age</th><th scope=col>sex0</th><th scope=col>sex1</th><th scope=col>cp1</th><th scope=col>cp2</th><th scope=col>cp3</th><th scope=col>trestbps</th><th scope=col>chol</th><th scope=col>fbs1</th><th scope=col>restecg1</th><th scope=col>⋯</th><th scope=col>slope1</th><th scope=col>slope2</th><th scope=col>ca1</th><th scope=col>ca2</th><th scope=col>ca3</th><th scope=col>ca4</th><th scope=col>thal1</th><th scope=col>thal2</th><th scope=col>thal3</th><th scope=col>target1</th></tr>\n",
              "\t<tr><th></th><th scope=col>&lt;dbl&gt;</th><th scope=col>&lt;dbl&gt;</th><th scope=col>&lt;dbl&gt;</th><th scope=col>&lt;dbl&gt;</th><th scope=col>&lt;dbl&gt;</th><th scope=col>&lt;dbl&gt;</th><th scope=col>&lt;dbl&gt;</th><th scope=col>&lt;dbl&gt;</th><th scope=col>&lt;dbl&gt;</th><th scope=col>&lt;dbl&gt;</th><th scope=col>⋯</th><th scope=col>&lt;dbl&gt;</th><th scope=col>&lt;dbl&gt;</th><th scope=col>&lt;dbl&gt;</th><th scope=col>&lt;dbl&gt;</th><th scope=col>&lt;dbl&gt;</th><th scope=col>&lt;dbl&gt;</th><th scope=col>&lt;dbl&gt;</th><th scope=col>&lt;dbl&gt;</th><th scope=col>&lt;dbl&gt;</th><th scope=col>&lt;dbl&gt;</th></tr>\n",
              "</thead>\n",
              "<tbody>\n",
              "\t<tr><th scope=row>1</th><td>0.4791667</td><td>0</td><td>1</td><td>0</td><td>0</td><td>0</td><td>0.29245283</td><td>0.1963470</td><td>0</td><td>1</td><td>⋯</td><td>0</td><td>1</td><td>0</td><td>1</td><td>0</td><td>0</td><td>0</td><td>0</td><td>1</td><td>0</td></tr>\n",
              "\t<tr><th scope=row>2</th><td>0.5000000</td><td>0</td><td>1</td><td>0</td><td>0</td><td>0</td><td>0.43396226</td><td>0.1757991</td><td>1</td><td>0</td><td>⋯</td><td>0</td><td>0</td><td>0</td><td>0</td><td>0</td><td>0</td><td>0</td><td>0</td><td>1</td><td>0</td></tr>\n",
              "\t<tr><th scope=row>3</th><td>0.8541667</td><td>0</td><td>1</td><td>0</td><td>0</td><td>0</td><td>0.48113208</td><td>0.1095890</td><td>0</td><td>1</td><td>⋯</td><td>0</td><td>0</td><td>0</td><td>0</td><td>0</td><td>0</td><td>0</td><td>0</td><td>1</td><td>0</td></tr>\n",
              "\t<tr><th scope=row>4</th><td>0.6666667</td><td>0</td><td>1</td><td>0</td><td>0</td><td>0</td><td>0.50943396</td><td>0.1757991</td><td>0</td><td>1</td><td>⋯</td><td>0</td><td>1</td><td>1</td><td>0</td><td>0</td><td>0</td><td>0</td><td>0</td><td>1</td><td>0</td></tr>\n",
              "\t<tr><th scope=row>5</th><td>0.6875000</td><td>1</td><td>0</td><td>0</td><td>0</td><td>0</td><td>0.41509434</td><td>0.3835616</td><td>1</td><td>1</td><td>⋯</td><td>1</td><td>0</td><td>0</td><td>0</td><td>1</td><td>0</td><td>0</td><td>1</td><td>0</td><td>0</td></tr>\n",
              "\t<tr><th scope=row>6</th><td>0.6041667</td><td>1</td><td>0</td><td>0</td><td>0</td><td>0</td><td>0.05660377</td><td>0.2785388</td><td>0</td><td>0</td><td>⋯</td><td>1</td><td>0</td><td>0</td><td>0</td><td>0</td><td>0</td><td>0</td><td>1</td><td>0</td><td>1</td></tr>\n",
              "</tbody>\n",
              "</table>\n"
            ],
            "text/markdown": "\nA data.frame: 6 × 24\n\n| <!--/--> | age &lt;dbl&gt; | sex0 &lt;dbl&gt; | sex1 &lt;dbl&gt; | cp1 &lt;dbl&gt; | cp2 &lt;dbl&gt; | cp3 &lt;dbl&gt; | trestbps &lt;dbl&gt; | chol &lt;dbl&gt; | fbs1 &lt;dbl&gt; | restecg1 &lt;dbl&gt; | ⋯ ⋯ | slope1 &lt;dbl&gt; | slope2 &lt;dbl&gt; | ca1 &lt;dbl&gt; | ca2 &lt;dbl&gt; | ca3 &lt;dbl&gt; | ca4 &lt;dbl&gt; | thal1 &lt;dbl&gt; | thal2 &lt;dbl&gt; | thal3 &lt;dbl&gt; | target1 &lt;dbl&gt; |\n|---|---|---|---|---|---|---|---|---|---|---|---|---|---|---|---|---|---|---|---|---|---|\n| 1 | 0.4791667 | 0 | 1 | 0 | 0 | 0 | 0.29245283 | 0.1963470 | 0 | 1 | ⋯ | 0 | 1 | 0 | 1 | 0 | 0 | 0 | 0 | 1 | 0 |\n| 2 | 0.5000000 | 0 | 1 | 0 | 0 | 0 | 0.43396226 | 0.1757991 | 1 | 0 | ⋯ | 0 | 0 | 0 | 0 | 0 | 0 | 0 | 0 | 1 | 0 |\n| 3 | 0.8541667 | 0 | 1 | 0 | 0 | 0 | 0.48113208 | 0.1095890 | 0 | 1 | ⋯ | 0 | 0 | 0 | 0 | 0 | 0 | 0 | 0 | 1 | 0 |\n| 4 | 0.6666667 | 0 | 1 | 0 | 0 | 0 | 0.50943396 | 0.1757991 | 0 | 1 | ⋯ | 0 | 1 | 1 | 0 | 0 | 0 | 0 | 0 | 1 | 0 |\n| 5 | 0.6875000 | 1 | 0 | 0 | 0 | 0 | 0.41509434 | 0.3835616 | 1 | 1 | ⋯ | 1 | 0 | 0 | 0 | 1 | 0 | 0 | 1 | 0 | 0 |\n| 6 | 0.6041667 | 1 | 0 | 0 | 0 | 0 | 0.05660377 | 0.2785388 | 0 | 0 | ⋯ | 1 | 0 | 0 | 0 | 0 | 0 | 0 | 1 | 0 | 1 |\n\n",
            "text/latex": "A data.frame: 6 × 24\n\\begin{tabular}{r|lllllllllllllllllllll}\n  & age & sex0 & sex1 & cp1 & cp2 & cp3 & trestbps & chol & fbs1 & restecg1 & ⋯ & slope1 & slope2 & ca1 & ca2 & ca3 & ca4 & thal1 & thal2 & thal3 & target1\\\\\n  & <dbl> & <dbl> & <dbl> & <dbl> & <dbl> & <dbl> & <dbl> & <dbl> & <dbl> & <dbl> & ⋯ & <dbl> & <dbl> & <dbl> & <dbl> & <dbl> & <dbl> & <dbl> & <dbl> & <dbl> & <dbl>\\\\\n\\hline\n\t1 & 0.4791667 & 0 & 1 & 0 & 0 & 0 & 0.29245283 & 0.1963470 & 0 & 1 & ⋯ & 0 & 1 & 0 & 1 & 0 & 0 & 0 & 0 & 1 & 0\\\\\n\t2 & 0.5000000 & 0 & 1 & 0 & 0 & 0 & 0.43396226 & 0.1757991 & 1 & 0 & ⋯ & 0 & 0 & 0 & 0 & 0 & 0 & 0 & 0 & 1 & 0\\\\\n\t3 & 0.8541667 & 0 & 1 & 0 & 0 & 0 & 0.48113208 & 0.1095890 & 0 & 1 & ⋯ & 0 & 0 & 0 & 0 & 0 & 0 & 0 & 0 & 1 & 0\\\\\n\t4 & 0.6666667 & 0 & 1 & 0 & 0 & 0 & 0.50943396 & 0.1757991 & 0 & 1 & ⋯ & 0 & 1 & 1 & 0 & 0 & 0 & 0 & 0 & 1 & 0\\\\\n\t5 & 0.6875000 & 1 & 0 & 0 & 0 & 0 & 0.41509434 & 0.3835616 & 1 & 1 & ⋯ & 1 & 0 & 0 & 0 & 1 & 0 & 0 & 1 & 0 & 0\\\\\n\t6 & 0.6041667 & 1 & 0 & 0 & 0 & 0 & 0.05660377 & 0.2785388 & 0 & 0 & ⋯ & 1 & 0 & 0 & 0 & 0 & 0 & 0 & 1 & 0 & 1\\\\\n\\end{tabular}\n",
            "text/plain": [
              "  age       sex0 sex1 cp1 cp2 cp3 trestbps   chol      fbs1 restecg1 ⋯ slope1\n",
              "1 0.4791667 0    1    0   0   0   0.29245283 0.1963470 0    1        ⋯ 0     \n",
              "2 0.5000000 0    1    0   0   0   0.43396226 0.1757991 1    0        ⋯ 0     \n",
              "3 0.8541667 0    1    0   0   0   0.48113208 0.1095890 0    1        ⋯ 0     \n",
              "4 0.6666667 0    1    0   0   0   0.50943396 0.1757991 0    1        ⋯ 0     \n",
              "5 0.6875000 1    0    0   0   0   0.41509434 0.3835616 1    1        ⋯ 1     \n",
              "6 0.6041667 1    0    0   0   0   0.05660377 0.2785388 0    0        ⋯ 1     \n",
              "  slope2 ca1 ca2 ca3 ca4 thal1 thal2 thal3 target1\n",
              "1 1      0   1   0   0   0     0     1     0      \n",
              "2 0      0   0   0   0   0     0     1     0      \n",
              "3 0      0   0   0   0   0     0     1     0      \n",
              "4 1      1   0   0   0   0     0     1     0      \n",
              "5 0      0   0   1   0   0     1     0     0      \n",
              "6 0      0   0   0   0   0     1     0     1      "
            ]
          },
          "metadata": {}
        }
      ]
    },
    {
      "cell_type": "markdown",
      "source": [
        "Logistic Regression"
      ],
      "metadata": {
        "id": "JB1_oOF8Pfm1"
      }
    },
    {
      "cell_type": "code",
      "source": [
        "logmod <- glm(target1 ~ ., data = heart.train, family = \"binomial\")\n",
        "summary(logmod)\n",
        "logmodselect =  step(logmod, direction = \"backward\")\n"
      ],
      "metadata": {
        "id": "A7VTczMPejB3",
        "colab": {
          "base_uri": "https://localhost:8080/",
          "height": 1000
        },
        "outputId": "7d4353fb-b1a6-496c-8379-ce561125b788"
      },
      "execution_count": 21,
      "outputs": [
        {
          "output_type": "display_data",
          "data": {
            "text/plain": [
              "\n",
              "Call:\n",
              "glm(formula = target1 ~ ., family = \"binomial\", data = heart.train)\n",
              "\n",
              "Deviance Residuals: \n",
              "     Min        1Q    Median        3Q       Max  \n",
              "-2.87521  -0.29896   0.07339   0.41120   3.10889  \n",
              "\n",
              "Coefficients: (1 not defined because of singularities)\n",
              "            Estimate Std. Error z value Pr(>|z|)    \n",
              "(Intercept)  -1.0625     2.6834  -0.396 0.692141    \n",
              "age           1.0789     0.8296   1.300 0.193439    \n",
              "sex0          2.0465     0.3846   5.320 1.04e-07 ***\n",
              "sex1              NA         NA      NA       NA    \n",
              "cp1           0.8673     0.3885   2.232 0.025591 *  \n",
              "cp2           1.8740     0.3457   5.421 5.93e-08 ***\n",
              "cp3           2.6358     0.4723   5.580 2.40e-08 ***\n",
              "trestbps     -2.9214     0.8638  -3.382 0.000719 ***\n",
              "chol         -3.1810     1.2239  -2.599 0.009346 ** \n",
              "fbs1          0.1954     0.4047   0.483 0.629268    \n",
              "restecg1      0.2423     0.2727   0.889 0.374227    \n",
              "restecg2     -0.4054     1.8375  -0.221 0.825385    \n",
              "thalach       2.4574     1.0658   2.306 0.021123 *  \n",
              "exang1       -0.7879     0.3101  -2.541 0.011064 *  \n",
              "oldpeak      -3.6010     1.0194  -3.532 0.000412 ***\n",
              "slope1       -0.9724     0.5796  -1.678 0.093416 .  \n",
              "slope2        0.4652     0.6165   0.755 0.450470    \n",
              "ca1          -2.2040     0.3556  -6.198 5.73e-10 ***\n",
              "ca2          -3.4790     0.5198  -6.693 2.19e-11 ***\n",
              "ca3          -2.3177     0.6775  -3.421 0.000624 ***\n",
              "ca4           0.8779     1.3773   0.637 0.523873    \n",
              "thal1         2.1875     2.5646   0.853 0.393678    \n",
              "thal2         1.9098     2.5170   0.759 0.447994    \n",
              "thal3         0.5836     2.5190   0.232 0.816801    \n",
              "---\n",
              "Signif. codes:  0 ‘***’ 0.001 ‘**’ 0.01 ‘*’ 0.05 ‘.’ 0.1 ‘ ’ 1\n",
              "\n",
              "(Dispersion parameter for binomial family taken to be 1)\n",
              "\n",
              "    Null deviance: 993.66  on 716  degrees of freedom\n",
              "Residual deviance: 409.76  on 694  degrees of freedom\n",
              "AIC: 455.76\n",
              "\n",
              "Number of Fisher Scoring iterations: 6\n"
            ]
          },
          "metadata": {}
        },
        {
          "output_type": "stream",
          "name": "stdout",
          "text": [
            "Start:  AIC=455.76\n",
            "target1 ~ age + sex0 + sex1 + cp1 + cp2 + cp3 + trestbps + chol + \n",
            "    fbs1 + restecg1 + restecg2 + thalach + exang1 + oldpeak + \n",
            "    slope1 + slope2 + ca1 + ca2 + ca3 + ca4 + thal1 + thal2 + \n",
            "    thal3\n",
            "\n",
            "\n",
            "Step:  AIC=455.76\n",
            "target1 ~ age + sex0 + cp1 + cp2 + cp3 + trestbps + chol + fbs1 + \n",
            "    restecg1 + restecg2 + thalach + exang1 + oldpeak + slope1 + \n",
            "    slope2 + ca1 + ca2 + ca3 + ca4 + thal1 + thal2 + thal3\n",
            "\n",
            "           Df Deviance    AIC\n",
            "- restecg2  1   409.81 453.81\n",
            "- thal3     1   409.82 453.82\n",
            "- fbs1      1   410.00 454.00\n",
            "- ca4       1   410.17 454.17\n",
            "- slope2    1   410.32 454.32\n",
            "- thal2     1   410.39 454.39\n",
            "- restecg1  1   410.56 454.56\n",
            "- thal1     1   410.59 454.59\n",
            "- age       1   411.47 455.47\n",
            "<none>          409.76 455.76\n",
            "- slope1    1   412.64 456.64\n",
            "- cp1       1   414.91 458.91\n",
            "- thalach   1   415.35 459.35\n",
            "- exang1    1   416.20 460.20\n",
            "- chol      1   416.48 460.48\n",
            "- trestbps  1   421.78 465.78\n",
            "- oldpeak   1   423.53 467.53\n",
            "- ca3       1   424.73 468.73\n",
            "- cp2       1   441.93 485.93\n",
            "- sex0      1   442.06 486.06\n",
            "- cp3       1   445.30 489.30\n",
            "- ca1       1   452.81 496.81\n",
            "- ca2       1   464.99 508.99\n",
            "\n",
            "Step:  AIC=453.81\n",
            "target1 ~ age + sex0 + cp1 + cp2 + cp3 + trestbps + chol + fbs1 + \n",
            "    restecg1 + thalach + exang1 + oldpeak + slope1 + slope2 + \n",
            "    ca1 + ca2 + ca3 + ca4 + thal1 + thal2 + thal3\n",
            "\n",
            "           Df Deviance    AIC\n",
            "- thal3     1   409.87 451.87\n",
            "- fbs1      1   410.05 452.05\n",
            "- ca4       1   410.22 452.22\n",
            "- slope2    1   410.37 452.37\n",
            "- thal2     1   410.44 452.44\n",
            "- thal1     1   410.63 452.63\n",
            "- restecg1  1   410.65 452.65\n",
            "- age       1   411.50 453.50\n",
            "<none>          409.81 453.81\n",
            "- slope1    1   412.68 454.68\n",
            "- cp1       1   414.97 456.97\n",
            "- thalach   1   415.43 457.43\n",
            "- exang1    1   416.23 458.23\n",
            "- chol      1   416.48 458.48\n",
            "- trestbps  1   421.85 463.85\n",
            "- oldpeak   1   423.91 465.91\n",
            "- ca3       1   424.92 466.92\n",
            "- cp2       1   442.00 484.00\n",
            "- sex0      1   442.18 484.18\n",
            "- cp3       1   445.46 487.46\n",
            "- ca1       1   452.91 494.91\n",
            "- ca2       1   465.01 507.01\n",
            "\n",
            "Step:  AIC=451.87\n",
            "target1 ~ age + sex0 + cp1 + cp2 + cp3 + trestbps + chol + fbs1 + \n",
            "    restecg1 + thalach + exang1 + oldpeak + slope1 + slope2 + \n",
            "    ca1 + ca2 + ca3 + ca4 + thal1 + thal2\n",
            "\n",
            "           Df Deviance    AIC\n",
            "- fbs1      1   410.09 450.09\n",
            "- ca4       1   410.28 450.28\n",
            "- slope2    1   410.42 450.42\n",
            "- restecg1  1   410.70 450.70\n",
            "- age       1   411.56 451.56\n",
            "<none>          409.87 451.87\n",
            "- slope1    1   412.74 452.74\n",
            "- cp1       1   415.05 455.05\n",
            "- thalach   1   415.50 455.50\n",
            "- exang1    1   416.31 456.31\n",
            "- chol      1   416.49 456.49\n",
            "- thal1     1   416.97 456.97\n",
            "- trestbps  1   421.87 461.87\n",
            "- oldpeak   1   423.93 463.93\n",
            "- ca3       1   424.93 464.93\n",
            "- thal2     1   431.44 471.44\n",
            "- cp2       1   442.02 482.02\n",
            "- sex0      1   442.23 482.23\n",
            "- cp3       1   445.55 485.55\n",
            "- ca1       1   452.97 492.97\n",
            "- ca2       1   465.02 505.02\n",
            "\n",
            "Step:  AIC=450.09\n",
            "target1 ~ age + sex0 + cp1 + cp2 + cp3 + trestbps + chol + restecg1 + \n",
            "    thalach + exang1 + oldpeak + slope1 + slope2 + ca1 + ca2 + \n",
            "    ca3 + ca4 + thal1 + thal2\n",
            "\n",
            "           Df Deviance    AIC\n",
            "- ca4       1   410.56 448.56\n",
            "- slope2    1   410.61 448.61\n",
            "- restecg1  1   410.90 448.90\n",
            "- age       1   411.75 449.75\n",
            "<none>          410.09 450.09\n",
            "- slope1    1   413.02 451.02\n",
            "- cp1       1   415.56 453.56\n",
            "- thalach   1   415.84 453.84\n",
            "- exang1    1   416.36 454.36\n",
            "- chol      1   416.58 454.58\n",
            "- thal1     1   417.90 455.90\n",
            "- trestbps  1   421.87 459.87\n",
            "- oldpeak   1   424.62 462.62\n",
            "- ca3       1   424.93 462.93\n",
            "- thal2     1   431.77 469.77\n",
            "- sex0      1   442.26 480.26\n",
            "- cp2       1   444.41 482.41\n",
            "- cp3       1   446.62 484.62\n",
            "- ca1       1   453.18 491.18\n",
            "- ca2       1   465.25 503.25\n",
            "\n",
            "Step:  AIC=448.56\n",
            "target1 ~ age + sex0 + cp1 + cp2 + cp3 + trestbps + chol + restecg1 + \n",
            "    thalach + exang1 + oldpeak + slope1 + slope2 + ca1 + ca2 + \n",
            "    ca3 + thal1 + thal2\n",
            "\n",
            "           Df Deviance    AIC\n",
            "- slope2    1   411.05 447.05\n",
            "- restecg1  1   411.39 447.39\n",
            "- age       1   412.12 448.12\n",
            "<none>          410.56 448.56\n",
            "- slope1    1   413.43 449.43\n",
            "- thalach   1   416.19 452.19\n",
            "- cp1       1   416.30 452.30\n",
            "- exang1    1   416.74 452.74\n",
            "- chol      1   417.12 453.12\n",
            "- thal1     1   418.22 454.22\n",
            "- trestbps  1   422.24 458.24\n",
            "- ca3       1   425.54 461.54\n",
            "- oldpeak   1   425.66 461.66\n",
            "- thal2     1   431.98 467.98\n",
            "- sex0      1   442.36 478.36\n",
            "- cp2       1   445.01 481.01\n",
            "- cp3       1   446.88 482.88\n",
            "- ca1       1   454.06 490.06\n",
            "- ca2       1   465.46 501.46\n",
            "\n",
            "Step:  AIC=447.05\n",
            "target1 ~ age + sex0 + cp1 + cp2 + cp3 + trestbps + chol + restecg1 + \n",
            "    thalach + exang1 + oldpeak + slope1 + ca1 + ca2 + ca3 + thal1 + \n",
            "    thal2\n",
            "\n",
            "           Df Deviance    AIC\n",
            "- restecg1  1   412.03 446.03\n",
            "- age       1   412.59 446.59\n",
            "<none>          411.05 447.05\n",
            "- cp1       1   416.78 450.78\n",
            "- thalach   1   416.88 450.88\n",
            "- exang1    1   417.20 451.20\n",
            "- chol      1   417.57 451.57\n",
            "- thal1     1   418.31 452.31\n",
            "- trestbps  1   422.61 456.61\n",
            "- ca3       1   425.76 459.76\n",
            "- slope1    1   430.45 464.45\n",
            "- thal2     1   432.47 466.47\n",
            "- oldpeak   1   433.78 467.78\n",
            "- sex0      1   442.66 476.66\n",
            "- cp2       1   445.52 479.52\n",
            "- cp3       1   447.47 481.47\n",
            "- ca1       1   454.11 488.11\n",
            "- ca2       1   465.58 499.58\n",
            "\n",
            "Step:  AIC=446.03\n",
            "target1 ~ age + sex0 + cp1 + cp2 + cp3 + trestbps + chol + thalach + \n",
            "    exang1 + oldpeak + slope1 + ca1 + ca2 + ca3 + thal1 + thal2\n",
            "\n",
            "           Df Deviance    AIC\n",
            "- age       1   413.43 445.43\n",
            "<none>          412.03 446.03\n",
            "- cp1       1   417.64 449.64\n",
            "- thalach   1   417.87 449.87\n",
            "- exang1    1   418.14 450.14\n",
            "- thal1     1   419.23 451.23\n",
            "- chol      1   420.02 452.02\n",
            "- trestbps  1   424.15 456.15\n",
            "- ca3       1   427.32 459.32\n",
            "- thal2     1   432.61 464.61\n",
            "- slope1    1   433.14 465.14\n",
            "- oldpeak   1   434.60 466.60\n",
            "- sex0      1   445.27 477.27\n",
            "- cp2       1   446.44 478.44\n",
            "- cp3       1   447.66 479.66\n",
            "- ca1       1   457.43 489.43\n",
            "- ca2       1   466.51 498.51\n",
            "\n",
            "Step:  AIC=445.43\n",
            "target1 ~ sex0 + cp1 + cp2 + cp3 + trestbps + chol + thalach + \n",
            "    exang1 + oldpeak + slope1 + ca1 + ca2 + ca3 + thal1 + thal2\n",
            "\n",
            "           Df Deviance    AIC\n",
            "<none>          413.43 445.43\n",
            "- thalach   1   417.94 447.94\n",
            "- cp1       1   419.53 449.53\n",
            "- exang1    1   419.92 449.92\n",
            "- chol      1   420.53 450.53\n",
            "- thal1     1   421.01 451.01\n",
            "- trestbps  1   424.23 454.23\n",
            "- ca3       1   427.71 457.71\n",
            "- slope1    1   433.69 463.69\n",
            "- thal2     1   433.87 463.87\n",
            "- oldpeak   1   437.45 467.45\n",
            "- sex0      1   447.91 477.91\n",
            "- cp2       1   448.62 478.62\n",
            "- cp3       1   450.00 480.00\n",
            "- ca1       1   457.43 487.43\n",
            "- ca2       1   467.52 497.52\n"
          ]
        }
      ]
    },
    {
      "cell_type": "code",
      "source": [
        "colnames(heart)"
      ],
      "metadata": {
        "id": "KjBIR2xXDbTG",
        "colab": {
          "base_uri": "https://localhost:8080/",
          "height": 52
        },
        "outputId": "532e27e5-0272-4f3b-9a73-84db0a0d7af2"
      },
      "execution_count": 22,
      "outputs": [
        {
          "output_type": "display_data",
          "data": {
            "text/html": [
              "<style>\n",
              ".list-inline {list-style: none; margin:0; padding: 0}\n",
              ".list-inline>li {display: inline-block}\n",
              ".list-inline>li:not(:last-child)::after {content: \"\\00b7\"; padding: 0 .5ex}\n",
              "</style>\n",
              "<ol class=list-inline><li>'age'</li><li>'sex0'</li><li>'sex1'</li><li>'cp1'</li><li>'cp2'</li><li>'cp3'</li><li>'trestbps'</li><li>'chol'</li><li>'fbs1'</li><li>'restecg1'</li><li>'restecg2'</li><li>'thalach'</li><li>'exang1'</li><li>'oldpeak'</li><li>'slope1'</li><li>'slope2'</li><li>'ca1'</li><li>'ca2'</li><li>'ca3'</li><li>'ca4'</li><li>'thal1'</li><li>'thal2'</li><li>'thal3'</li><li>'target1'</li></ol>\n"
            ],
            "text/markdown": "1. 'age'\n2. 'sex0'\n3. 'sex1'\n4. 'cp1'\n5. 'cp2'\n6. 'cp3'\n7. 'trestbps'\n8. 'chol'\n9. 'fbs1'\n10. 'restecg1'\n11. 'restecg2'\n12. 'thalach'\n13. 'exang1'\n14. 'oldpeak'\n15. 'slope1'\n16. 'slope2'\n17. 'ca1'\n18. 'ca2'\n19. 'ca3'\n20. 'ca4'\n21. 'thal1'\n22. 'thal2'\n23. 'thal3'\n24. 'target1'\n\n\n",
            "text/latex": "\\begin{enumerate*}\n\\item 'age'\n\\item 'sex0'\n\\item 'sex1'\n\\item 'cp1'\n\\item 'cp2'\n\\item 'cp3'\n\\item 'trestbps'\n\\item 'chol'\n\\item 'fbs1'\n\\item 'restecg1'\n\\item 'restecg2'\n\\item 'thalach'\n\\item 'exang1'\n\\item 'oldpeak'\n\\item 'slope1'\n\\item 'slope2'\n\\item 'ca1'\n\\item 'ca2'\n\\item 'ca3'\n\\item 'ca4'\n\\item 'thal1'\n\\item 'thal2'\n\\item 'thal3'\n\\item 'target1'\n\\end{enumerate*}\n",
            "text/plain": [
              " [1] \"age\"      \"sex0\"     \"sex1\"     \"cp1\"      \"cp2\"      \"cp3\"     \n",
              " [7] \"trestbps\" \"chol\"     \"fbs1\"     \"restecg1\" \"restecg2\" \"thalach\" \n",
              "[13] \"exang1\"   \"oldpeak\"  \"slope1\"   \"slope2\"   \"ca1\"      \"ca2\"     \n",
              "[19] \"ca3\"      \"ca4\"      \"thal1\"    \"thal2\"    \"thal3\"    \"target1\" "
            ]
          },
          "metadata": {}
        }
      ]
    },
    {
      "cell_type": "code",
      "source": [
        "bestmod <- glm(target1 ~ sex0 + cp1 + cp2 + cp3 + trestbps + chol + thalach +  \n",
        "    exang1 + oldpeak + slope1 + ca1 + ca2 + ca3 + thal1 + thal2, data = heart.train, family = \"binomial\")"
      ],
      "metadata": {
        "id": "bmc8HLBMzUjO"
      },
      "execution_count": 23,
      "outputs": []
    },
    {
      "cell_type": "code",
      "source": [
        "logpred = predict(bestmod, newdata = heart.test, type = \"response\")\n",
        "logpred = ifelse(logpred > 0.5, 1, 0)\n",
        "table(logpred, heart.test$target1)\n",
        "logRegaccuracy<-mean(logpred == heart.test$target1)"
      ],
      "metadata": {
        "id": "voRt2cuRejEr",
        "colab": {
          "base_uri": "https://localhost:8080/",
          "height": 88
        },
        "outputId": "6bf8c433-4542-4c57-8438-3cd5d2c6d4d1"
      },
      "execution_count": 24,
      "outputs": [
        {
          "output_type": "display_data",
          "data": {
            "text/plain": [
              "       \n",
              "logpred   0   1\n",
              "      0 119  21\n",
              "      1  29 139"
            ]
          },
          "metadata": {}
        }
      ]
    },
    {
      "cell_type": "code",
      "source": [
        "install.packages(\"caret\")\n",
        "library(caret)"
      ],
      "metadata": {
        "id": "oXlHsId8zzG-",
        "colab": {
          "base_uri": "https://localhost:8080/"
        },
        "outputId": "5c42bcfd-82d1-44c0-ff33-b8b740a5276a"
      },
      "execution_count": 25,
      "outputs": [
        {
          "output_type": "stream",
          "name": "stderr",
          "text": [
            "Installing package into ‘/usr/local/lib/R/site-library’\n",
            "(as ‘lib’ is unspecified)\n",
            "\n",
            "also installing the dependencies ‘listenv’, ‘parallelly’, ‘future’, ‘globals’, ‘future.apply’, ‘numDeriv’, ‘progressr’, ‘SQUAREM’, ‘lava’, ‘prodlim’, ‘clock’, ‘gower’, ‘hardhat’, ‘ipred’, ‘timeDate’, ‘ModelMetrics’, ‘plyr’, ‘pROC’, ‘recipes’, ‘reshape2’\n",
            "\n",
            "\n",
            "Loading required package: lattice\n",
            "\n",
            "\n",
            "Attaching package: ‘caret’\n",
            "\n",
            "\n",
            "The following object is masked from ‘package:pls’:\n",
            "\n",
            "    R2\n",
            "\n",
            "\n",
            "The following object is masked from ‘package:purrr’:\n",
            "\n",
            "    lift\n",
            "\n",
            "\n"
          ]
        }
      ]
    },
    {
      "cell_type": "code",
      "source": [
        "cm <- confusionMatrix(data = as.factor(logpred), reference = as.factor(heart.test$target1),positive='1')"
      ],
      "metadata": {
        "id": "AREt-tba0qkD"
      },
      "execution_count": 26,
      "outputs": []
    },
    {
      "cell_type": "code",
      "source": [
        "draw_confusion_matrix <- function(cm) {\n",
        "\n",
        "  total <- sum(cm$table)\n",
        "  res <- as.numeric(cm$table)\n",
        "\n",
        "  # Generate color gradients. Palettes come from RColorBrewer.\n",
        "  greenPalette <- c(\"#F7FCF5\",\"#E5F5E0\",\"#C7E9C0\",\"#A1D99B\",\"#74C476\",\"#41AB5D\",\"#238B45\",\"#006D2C\",\"#00441B\")\n",
        "  redPalette <- c(\"#FFF5F0\",\"#FEE0D2\",\"#FCBBA1\",\"#FC9272\",\"#FB6A4A\",\"#EF3B2C\",\"#CB181D\",\"#A50F15\",\"#67000D\")\n",
        "  getColor <- function (greenOrRed = \"green\", amount = 0) {\n",
        "    if (amount == 0)\n",
        "      return(\"#FFFFFF\")\n",
        "    palette <- greenPalette\n",
        "    if (greenOrRed == \"red\")\n",
        "      palette <- redPalette\n",
        "    colorRampPalette(palette)(100)[10 + ceiling(90 * amount / total)]\n",
        "  }\n",
        "\n",
        "  # set the basic layout\n",
        "  layout(matrix(c(1,1,2)))\n",
        "  par(mar=c(2,2,2,2))\n",
        "  plot(c(100, 345), c(300, 450), type = \"n\", xlab=\"\", ylab=\"\", xaxt='n', yaxt='n')\n",
        "  title('CONFUSION MATRIX', cex.main=2)\n",
        "\n",
        "  # create the matrix \n",
        "  classes = colnames(cm$table)\n",
        "  rect(150, 430, 240, 370, col=getColor(\"green\", res[1]))\n",
        "  text(195, 435, classes[1], cex=1.2)\n",
        "  rect(250, 430, 340, 370, col=getColor(\"red\", res[3]))\n",
        "  text(295, 435, classes[2], cex=1.2)\n",
        "  text(125, 370, 'Predicted', cex=1.3, srt=90, font=2)\n",
        "  text(245, 450, 'Actual', cex=1.3, font=2)\n",
        "  rect(150, 305, 240, 365, col=getColor(\"red\", res[2]))\n",
        "  rect(250, 305, 340, 365, col=getColor(\"green\", res[4]))\n",
        "  text(140, 400, classes[1], cex=1.2, srt=90)\n",
        "  text(140, 335, classes[2], cex=1.2, srt=90)\n",
        "\n",
        "  # add in the cm results\n",
        "  text(195, 400, res[1], cex=1.6, font=2, col='white')\n",
        "  text(195, 335, res[2], cex=1.6, font=2, col='white')\n",
        "  text(295, 400, res[3], cex=1.6, font=2, col='white')\n",
        "  text(295, 335, res[4], cex=1.6, font=2, col='white')\n",
        "\n",
        "  # add in the specifics \n",
        "  plot(c(100, 0), c(100, 0), type = \"n\", xlab=\"\", ylab=\"\", main = \"DETAILS\", xaxt='n', yaxt='n')\n",
        "  text(10, 85, names(cm$byClass[1]), cex=1.2, font=2)\n",
        "  text(10, 70, round(as.numeric(cm$byClass[1]), 3), cex=1.2)\n",
        "  text(30, 85, names(cm$byClass[2]), cex=1.2, font=2)\n",
        "  text(30, 70, round(as.numeric(cm$byClass[2]), 3), cex=1.2)\n",
        "  text(50, 85, names(cm$byClass[5]), cex=1.2, font=2)\n",
        "  text(50, 70, round(as.numeric(cm$byClass[5]), 3), cex=1.2)\n",
        "  text(70, 85, names(cm$byClass[6]), cex=1.2, font=2)\n",
        "  text(70, 70, round(as.numeric(cm$byClass[6]), 3), cex=1.2)\n",
        "  text(90, 85, names(cm$byClass[7]), cex=1.2, font=2)\n",
        "  text(90, 70, round(as.numeric(cm$byClass[7]), 3), cex=1.2)\n",
        "\n",
        "  # add in the accuracy information \n",
        "  text(30, 35, names(cm$overall[1]), cex=1.5, font=2)\n",
        "  text(30, 20, round(as.numeric(cm$overall[1]), 3), cex=1.4)\n",
        "  text(70, 35, names(cm$overall[2]), cex=1.5, font=2)\n",
        "  text(70, 20, round(as.numeric(cm$overall[2]), 3), cex=1.4)\n",
        "}"
      ],
      "metadata": {
        "id": "nfoVvyVC4jya"
      },
      "execution_count": 27,
      "outputs": []
    },
    {
      "cell_type": "code",
      "source": [
        "draw_confusion_matrix(cm)"
      ],
      "metadata": {
        "colab": {
          "base_uri": "https://localhost:8080/",
          "height": 437
        },
        "id": "NQM9WYQA4vyw",
        "outputId": "19f14f3d-89a5-428b-b441-326657a4fe29"
      },
      "execution_count": 28,
      "outputs": [
        {
          "output_type": "display_data",
          "data": {
            "text/plain": [
              "Plot with title “DETAILS”"
            ],
            "image/png": "[encoded data removed]"
          },
          "metadata": {
            "image/png": {
              "width": 420,
              "height": 420
            }
          }
        }
      ]
    },
    {
      "cell_type": "code",
      "source": [
        "logRegaccuracy"
      ],
      "metadata": {
        "id": "wuSNHRiKVNpN",
        "colab": {
          "base_uri": "https://localhost:8080/",
          "height": 34
        },
        "outputId": "cd2fafb2-868c-40fa-dc49-5c3e63322f23"
      },
      "execution_count": 29,
      "outputs": [
        {
          "output_type": "display_data",
          "data": {
            "text/html": [
              "0.837662337662338"
            ],
            "text/markdown": "0.837662337662338",
            "text/latex": "0.837662337662338",
            "text/plain": [
              "[1] 0.8376623"
            ]
          },
          "metadata": {}
        }
      ]
    },
    {
      "cell_type": "code",
      "source": [],
      "metadata": {
        "id": "L_AYz-LO38C1"
      },
      "execution_count": 30,
      "outputs": []
    },
    {
      "cell_type": "markdown",
      "source": [
        "Linear Discriminant Analysis\n"
      ],
      "metadata": {
        "id": "ufDUNIYlfiPK"
      }
    },
    {
      "cell_type": "code",
      "source": [
        "lda.fit <- lda(target1 ~ ., data = heart.train)"
      ],
      "metadata": {
        "id": "19YQq1BQfCCl",
        "colab": {
          "base_uri": "https://localhost:8080/"
        },
        "outputId": "7885cddb-8c49-4316-fbfe-0575b27de5f1"
      },
      "execution_count": 31,
      "outputs": [
        {
          "output_type": "stream",
          "name": "stderr",
          "text": [
            "Warning message in lda.default(x, grouping, ...):\n",
            "“variables are collinear”\n"
          ]
        }
      ]
    },
    {
      "cell_type": "code",
      "source": [
        "lda.pred <- predict(lda.fit, heart.test)\n",
        "names(lda.pred)\n"
      ],
      "metadata": {
        "id": "flI3YCLufCFN",
        "colab": {
          "base_uri": "https://localhost:8080/",
          "height": 34
        },
        "outputId": "045643bf-d8a0-4aad-e0b1-f8b343340b6d"
      },
      "execution_count": 32,
      "outputs": [
        {
          "output_type": "display_data",
          "data": {
            "text/html": [
              "<style>\n",
              ".list-inline {list-style: none; margin:0; padding: 0}\n",
              ".list-inline>li {display: inline-block}\n",
              ".list-inline>li:not(:last-child)::after {content: \"\\00b7\"; padding: 0 .5ex}\n",
              "</style>\n",
              "<ol class=list-inline><li>'class'</li><li>'posterior'</li><li>'x'</li></ol>\n"
            ],
            "text/markdown": "1. 'class'\n2. 'posterior'\n3. 'x'\n\n\n",
            "text/latex": "\\begin{enumerate*}\n\\item 'class'\n\\item 'posterior'\n\\item 'x'\n\\end{enumerate*}\n",
            "text/plain": [
              "[1] \"class\"     \"posterior\" \"x\"        "
            ]
          },
          "metadata": {}
        }
      ]
    },
    {
      "cell_type": "code",
      "source": [
        "lda.class <- lda.pred$class\n",
        "cm<-confusionMatrix(as.factor(lda.class), as.factor(heart.test$target1))\n"
      ],
      "metadata": {
        "id": "sTrwJ8QVfBQz"
      },
      "execution_count": 33,
      "outputs": []
    },
    {
      "cell_type": "code",
      "source": [
        "draw_confusion_matrix(cm)"
      ],
      "metadata": {
        "colab": {
          "base_uri": "https://localhost:8080/",
          "height": 437
        },
        "id": "qj2WHBbSKyiC",
        "outputId": "86efec3d-1133-4372-84d2-e0bdc9c7e16b"
      },
      "execution_count": 34,
      "outputs": [
        {
          "output_type": "display_data",
          "data": {
            "text/plain": [
              "Plot with title “DETAILS”"
            ],
            "image/png": "[encoded data removed]"
          },
          "metadata": {
            "image/png": {
              "width": 420,
              "height": 420
            }
          }
        }
      ]
    },
    {
      "cell_type": "code",
      "source": [
        "ldaaccuracy<-mean(lda.class==heart.test$target1)\n",
        "ldaaccuracy"
      ],
      "metadata": {
        "id": "fALnW4rFgvav",
        "colab": {
          "base_uri": "https://localhost:8080/",
          "height": 34
        },
        "outputId": "d10af5f9-14ca-4f4a-c9ba-1bb22836e7ec"
      },
      "execution_count": 35,
      "outputs": [
        {
          "output_type": "display_data",
          "data": {
            "text/html": [
              "0.853896103896104"
            ],
            "text/markdown": "0.853896103896104",
            "text/latex": "0.853896103896104",
            "text/plain": [
              "[1] 0.8538961"
            ]
          },
          "metadata": {}
        }
      ]
    },
    {
      "cell_type": "markdown",
      "source": [
        "Naive Bayes"
      ],
      "metadata": {
        "id": "CO0I8hM0iVA_"
      }
    },
    {
      "cell_type": "code",
      "source": [
        "nb.fit <- naiveBayes(target1~., data = heart.train)"
      ],
      "metadata": {
        "id": "EDRMAFqgh57h"
      },
      "execution_count": 36,
      "outputs": []
    },
    {
      "cell_type": "code",
      "source": [
        "nb.class <- predict(nb.fit, heart.test)\n",
        "cm<-confusionMatrix(as.factor(nb.class), as.factor(heart.test$target1))"
      ],
      "metadata": {
        "id": "XOLXn_Vmir9K"
      },
      "execution_count": 37,
      "outputs": []
    },
    {
      "cell_type": "code",
      "source": [
        "draw_confusion_matrix(cm)"
      ],
      "metadata": {
        "id": "fRZIl5KmLSyq",
        "outputId": "4f4c5256-e89a-4797-f44a-b3a36d5b3417",
        "colab": {
          "base_uri": "https://localhost:8080/",
          "height": 437
        }
      },
      "execution_count": 38,
      "outputs": [
        {
          "output_type": "display_data",
          "data": {
            "text/plain": [
              "Plot with title “DETAILS”"
            ],
            "image/png": "[encoded data removed]"
          },
          "metadata": {
            "image/png": {
              "width": 420,
              "height": 420
            }
          }
        }
      ]
    },
    {
      "cell_type": "code",
      "source": [
        "naivebayesaccuracy<-mean(nb.class==heart.test$target1)\n",
        "naivebayesaccuracy"
      ],
      "metadata": {
        "id": "RvxroRLbjMjI",
        "colab": {
          "base_uri": "https://localhost:8080/",
          "height": 34
        },
        "outputId": "15936e73-a625-4860-83f7-f6d73cd0bc0e"
      },
      "execution_count": 39,
      "outputs": [
        {
          "output_type": "display_data",
          "data": {
            "text/html": [
              "0.801948051948052"
            ],
            "text/markdown": "0.801948051948052",
            "text/latex": "0.801948051948052",
            "text/plain": [
              "[1] 0.8019481"
            ]
          },
          "metadata": {}
        }
      ]
    },
    {
      "cell_type": "markdown",
      "source": [
        "SVM\n"
      ],
      "metadata": {
        "id": "_U1UsmMFFt7p"
      }
    },
    {
      "cell_type": "code",
      "source": [
        "svm.linear <- tune(svm, target1 ~ ., data = heart.train, kernel = \"linear\", \n",
        "    ranges = list(cost = c(0.001, 0.01, 0.1, 1, 5, 10, 100)))"
      ],
      "metadata": {
        "id": "hnqrs08YnRr9"
      },
      "execution_count": 40,
      "outputs": []
    },
    {
      "cell_type": "code",
      "source": [
        "svm.linear$best.model"
      ],
      "metadata": {
        "id": "mWyAh9iIHudu",
        "colab": {
          "base_uri": "https://localhost:8080/",
          "height": 285
        },
        "outputId": "441b01f3-810c-481b-fec1-bacf85da398a"
      },
      "execution_count": 41,
      "outputs": [
        {
          "output_type": "display_data",
          "data": {
            "text/plain": [
              "\n",
              "Call:\n",
              "best.tune(METHOD = svm, train.x = target1 ~ ., data = heart.train, \n",
              "    ranges = list(cost = c(0.001, 0.01, 0.1, 1, 5, 10, 100)), kernel = \"linear\")\n",
              "\n",
              "\n",
              "Parameters:\n",
              "   SVM-Type:  eps-regression \n",
              " SVM-Kernel:  linear \n",
              "       cost:  0.01 \n",
              "      gamma:  0.04347826 \n",
              "    epsilon:  0.1 \n",
              "\n",
              "\n",
              "Number of Support Vectors:  576\n"
            ]
          },
          "metadata": {}
        }
      ]
    },
    {
      "cell_type": "code",
      "source": [
        "pred.linear<-predict(svm.linear$best.model,heart.test)\n",
        "pred.linear<-ifelse(pred.linear>0.5,1,0)"
      ],
      "metadata": {
        "id": "FZIf_LZHoMGi"
      },
      "execution_count": 42,
      "outputs": []
    },
    {
      "cell_type": "code",
      "source": [
        "cm<-confusionMatrix(data=as.factor(pred.linear),reference=as.factor(heart.test$target1))"
      ],
      "metadata": {
        "id": "fQD2j_zPCQtZ"
      },
      "execution_count": 43,
      "outputs": []
    },
    {
      "cell_type": "code",
      "source": [
        "draw_confusion_matrix(cm)"
      ],
      "metadata": {
        "id": "4Na9aHJb6Rnp",
        "colab": {
          "base_uri": "https://localhost:8080/",
          "height": 437
        },
        "outputId": "4b2151a0-75c7-41b0-fd90-89b4eca486f6"
      },
      "execution_count": 44,
      "outputs": [
        {
          "output_type": "display_data",
          "data": {
            "text/plain": [
              "Plot with title “DETAILS”"
            ],
            "image/png": "[encoded data removed]"
          },
          "metadata": {
            "image/png": {
              "width": 420,
              "height": 420
            }
          }
        }
      ]
    },
    {
      "cell_type": "code",
      "source": [
        "linearsvmaccuracy<-mean(pred.linear==heart.test$target1)"
      ],
      "metadata": {
        "id": "LdeixDYKolLa"
      },
      "execution_count": 45,
      "outputs": []
    },
    {
      "cell_type": "code",
      "source": [
        "linearsvmaccuracy"
      ],
      "metadata": {
        "id": "RD0kR4S9uAJ_",
        "colab": {
          "base_uri": "https://localhost:8080/",
          "height": 34
        },
        "outputId": "0ae040ca-14d6-4af1-949a-eec440f2c243"
      },
      "execution_count": 46,
      "outputs": [
        {
          "output_type": "display_data",
          "data": {
            "text/html": [
              "0.834415584415584"
            ],
            "text/markdown": "0.834415584415584",
            "text/latex": "0.834415584415584",
            "text/plain": [
              "[1] 0.8344156"
            ]
          },
          "metadata": {}
        }
      ]
    },
    {
      "cell_type": "code",
      "source": [
        "svm.radial <- ksvm(target1 ~ ., data = heart.train, kernel = \"rbfdot\")\n",
        "pred.radial <- predict(svm.radial, newdata = heart.test)\n",
        "pred.radial <- ifelse(pred.radial > 0.5, 1, 0)\n",
        "cm<-confusionMatrix(data=as.factor(pred.radial),reference=as.factor(heart.test$target1))"
      ],
      "metadata": {
        "id": "r5AHsfI13Pp9"
      },
      "execution_count": 47,
      "outputs": []
    },
    {
      "cell_type": "code",
      "source": [
        "draw_confusion_matrix(cm)"
      ],
      "metadata": {
        "id": "syPPwmtR7r67",
        "colab": {
          "base_uri": "https://localhost:8080/",
          "height": 437
        },
        "outputId": "9592004e-cb4e-4433-84f5-ce4d2b98738c"
      },
      "execution_count": 48,
      "outputs": [
        {
          "output_type": "display_data",
          "data": {
            "text/plain": [
              "Plot with title “DETAILS”"
            ],
            "image/png": "[encoded data removed]"
          },
          "metadata": {
            "image/png": {
              "width": 420,
              "height": 420
            }
          }
        }
      ]
    },
    {
      "cell_type": "code",
      "source": [
        "radialsvmaccuracy<-mean(pred.radial==heart.test$target1)"
      ],
      "metadata": {
        "id": "f5dWs92btgnn"
      },
      "execution_count": 49,
      "outputs": []
    },
    {
      "cell_type": "code",
      "source": [
        "radialsvmaccuracy"
      ],
      "metadata": {
        "id": "I4n0MFfN18tQ",
        "colab": {
          "base_uri": "https://localhost:8080/",
          "height": 34
        },
        "outputId": "b73ee8e3-c1c9-4b68-acd9-da4907719088"
      },
      "execution_count": 50,
      "outputs": [
        {
          "output_type": "display_data",
          "data": {
            "text/html": [
              "0.896103896103896"
            ],
            "text/markdown": "0.896103896103896",
            "text/latex": "0.896103896103896",
            "text/plain": [
              "[1] 0.8961039"
            ]
          },
          "metadata": {}
        }
      ]
    },
    {
      "cell_type": "markdown",
      "source": [
        "KNN"
      ],
      "metadata": {
        "id": "9Xlnv0ZSj_SP"
      }
    },
    {
      "cell_type": "code",
      "source": [
        "knntrain <- heart.train\n",
        "knntesting <- heart.test\n",
        "trainlabels <- knntrain$target1\n",
        "testing_labels <- knntesting$target1\n",
        "knntrain$target1 <- NULL\n",
        "knntesting$target1 <- NULL\n",
        "knnprediction <- knn(train = knntrain, test = knntesting,\n",
        "                      cl = trainlabels, k=14)"
      ],
      "metadata": {
        "id": "7yrte-P1nLmq"
      },
      "execution_count": 51,
      "outputs": []
    },
    {
      "cell_type": "code",
      "source": [
        "knnprediction"
      ],
      "metadata": {
        "colab": {
          "base_uri": "https://localhost:8080/",
          "height": 139
        },
        "id": "9h-3VoaUC7ef",
        "outputId": "cd0857e9-43d4-4076-d163-3eb9c972de70"
      },
      "execution_count": 52,
      "outputs": [
        {
          "output_type": "display_data",
          "data": {
            "text/html": [
              "<style>\n",
              ".list-inline {list-style: none; margin:0; padding: 0}\n",
              ".list-inline>li {display: inline-block}\n",
              ".list-inline>li:not(:last-child)::after {content: \"\\00b7\"; padding: 0 .5ex}\n",
              "</style>\n",
              "<ol class=list-inline><li>0</li><li>0</li><li>1</li><li>1</li><li>1</li><li>0</li><li>0</li><li>1</li><li>0</li><li>1</li><li>1</li><li>1</li><li>1</li><li>0</li><li>1</li><li>1</li><li>1</li><li>0</li><li>1</li><li>1</li><li>0</li><li>0</li><li>0</li><li>1</li><li>0</li><li>1</li><li>0</li><li>1</li><li>1</li><li>0</li><li>1</li><li>1</li><li>1</li><li>1</li><li>0</li><li>1</li><li>0</li><li>1</li><li>0</li><li>0</li><li>0</li><li>0</li><li>0</li><li>0</li><li>1</li><li>1</li><li>1</li><li>1</li><li>0</li><li>1</li><li>0</li><li>1</li><li>0</li><li>0</li><li>0</li><li>1</li><li>1</li><li>0</li><li>0</li><li>1</li><li>1</li><li>0</li><li>0</li><li>1</li><li>1</li><li>0</li><li>1</li><li>0</li><li>1</li><li>0</li><li>0</li><li>1</li><li>1</li><li>1</li><li>0</li><li>1</li><li>1</li><li>1</li><li>0</li><li>0</li><li>1</li><li>1</li><li>0</li><li>0</li><li>0</li><li>1</li><li>0</li><li>1</li><li>0</li><li>1</li><li>1</li><li>1</li><li>0</li><li>1</li><li>1</li><li>0</li><li>1</li><li>0</li><li>1</li><li>1</li><li>1</li><li>0</li><li>1</li><li>1</li><li>1</li><li>1</li><li>1</li><li>0</li><li>0</li><li>1</li><li>1</li><li>1</li><li>1</li><li>1</li><li>0</li><li>0</li><li>0</li><li>1</li><li>1</li><li>0</li><li>0</li><li>1</li><li>0</li><li>1</li><li>1</li><li>1</li><li>0</li><li>1</li><li>0</li><li>1</li><li>1</li><li>1</li><li>0</li><li>1</li><li>1</li><li>1</li><li>0</li><li>1</li><li>1</li><li>1</li><li>0</li><li>1</li><li>0</li><li>0</li><li>1</li><li>1</li><li>1</li><li>1</li><li>1</li><li>0</li><li>1</li><li>0</li><li>1</li><li>0</li><li>1</li><li>1</li><li>1</li><li>1</li><li>1</li><li>1</li><li>1</li><li>0</li><li>1</li><li>1</li><li>1</li><li>1</li><li>1</li><li>0</li><li>1</li><li>1</li><li>1</li><li>0</li><li>0</li><li>1</li><li>1</li><li>0</li><li>1</li><li>0</li><li>0</li><li>0</li><li>1</li><li>1</li><li>0</li><li>0</li><li>1</li><li>1</li><li>0</li><li>1</li><li>0</li><li>1</li><li>1</li><li>1</li><li>0</li><li>1</li><li>1</li><li>1</li><li>1</li><li>0</li><li>1</li><li>0</li><li>0</li><li>0</li><li>0</li><li>0</li><li>0</li><li>0</li><li>0</li><li>1</li><li>1</li><li>1</li><li>1</li><li>1</li><li>0</li><li>0</li><li>0</li><li>1</li><li>0</li><li>1</li><li>1</li><li>0</li><li>1</li><li>1</li><li>1</li><li>1</li><li>0</li><li>1</li><li>1</li><li>1</li><li>0</li><li>0</li><li>1</li><li>0</li><li>0</li><li>0</li><li>0</li><li>1</li><li>1</li><li>1</li><li>0</li><li>0</li><li>0</li><li>1</li><li>0</li><li>0</li><li>0</li><li>0</li><li>0</li><li>1</li><li>1</li><li>1</li><li>0</li><li>0</li><li>0</li><li>1</li><li>1</li><li>1</li><li>1</li><li>1</li><li>1</li><li>1</li><li>1</li><li>0</li><li>0</li><li>0</li><li>0</li><li>1</li><li>0</li><li>1</li><li>0</li><li>0</li><li>1</li><li>1</li><li>0</li><li>0</li><li>0</li><li>1</li><li>1</li><li>0</li><li>0</li><li>0</li><li>0</li><li>0</li><li>1</li><li>0</li><li>1</li><li>0</li><li>1</li><li>1</li><li>0</li><li>0</li><li>1</li><li>1</li><li>1</li><li>1</li><li>0</li><li>0</li><li>1</li><li>1</li><li>1</li><li>0</li><li>0</li><li>0</li><li>0</li><li>0</li><li>1</li><li>0</li><li>0</li><li>1</li></ol>\n",
              "\n",
              "<details>\n",
              "\t<summary style=display:list-item;cursor:pointer>\n",
              "\t\t<strong>Levels</strong>:\n",
              "\t</summary>\n",
              "\t<style>\n",
              "\t.list-inline {list-style: none; margin:0; padding: 0}\n",
              "\t.list-inline>li {display: inline-block}\n",
              "\t.list-inline>li:not(:last-child)::after {content: \"\\00b7\"; padding: 0 .5ex}\n",
              "\t</style>\n",
              "\t<ol class=list-inline><li>'0'</li><li>'1'</li></ol>\n",
              "</details>"
            ],
            "text/markdown": "1. 0\n2. 0\n3. 1\n4. 1\n5. 1\n6. 0\n7. 0\n8. 1\n9. 0\n10. 1\n11. 1\n12. 1\n13. 1\n14. 0\n15. 1\n16. 1\n17. 1\n18. 0\n19. 1\n20. 1\n21. 0\n22. 0\n23. 0\n24. 1\n25. 0\n26. 1\n27. 0\n28. 1\n29. 1\n30. 0\n31. 1\n32. 1\n33. 1\n34. 1\n35. 0\n36. 1\n37. 0\n38. 1\n39. 0\n40. 0\n41. 0\n42. 0\n43. 0\n44. 0\n45. 1\n46. 1\n47. 1\n48. 1\n49. 0\n50. 1\n51. 0\n52. 1\n53. 0\n54. 0\n55. 0\n56. 1\n57. 1\n58. 0\n59. 0\n60. 1\n61. 1\n62. 0\n63. 0\n64. 1\n65. 1\n66. 0\n67. 1\n68. 0\n69. 1\n70. 0\n71. 0\n72. 1\n73. 1\n74. 1\n75. 0\n76. 1\n77. 1\n78. 1\n79. 0\n80. 0\n81. 1\n82. 1\n83. 0\n84. 0\n85. 0\n86. 1\n87. 0\n88. 1\n89. 0\n90. 1\n91. 1\n92. 1\n93. 0\n94. 1\n95. 1\n96. 0\n97. 1\n98. 0\n99. 1\n100. 1\n101. 1\n102. 0\n103. 1\n104. 1\n105. 1\n106. 1\n107. 1\n108. 0\n109. 0\n110. 1\n111. 1\n112. 1\n113. 1\n114. 1\n115. 0\n116. 0\n117. 0\n118. 1\n119. 1\n120. 0\n121. 0\n122. 1\n123. 0\n124. 1\n125. 1\n126. 1\n127. 0\n128. 1\n129. 0\n130. 1\n131. 1\n132. 1\n133. 0\n134. 1\n135. 1\n136. 1\n137. 0\n138. 1\n139. 1\n140. 1\n141. 0\n142. 1\n143. 0\n144. 0\n145. 1\n146. 1\n147. 1\n148. 1\n149. 1\n150. 0\n151. 1\n152. 0\n153. 1\n154. 0\n155. 1\n156. 1\n157. 1\n158. 1\n159. 1\n160. 1\n161. 1\n162. 0\n163. 1\n164. 1\n165. 1\n166. 1\n167. 1\n168. 0\n169. 1\n170. 1\n171. 1\n172. 0\n173. 0\n174. 1\n175. 1\n176. 0\n177. 1\n178. 0\n179. 0\n180. 0\n181. 1\n182. 1\n183. 0\n184. 0\n185. 1\n186. 1\n187. 0\n188. 1\n189. 0\n190. 1\n191. 1\n192. 1\n193. 0\n194. 1\n195. 1\n196. 1\n197. 1\n198. 0\n199. 1\n200. 0\n201. 0\n202. 0\n203. 0\n204. 0\n205. 0\n206. 0\n207. 0\n208. 1\n209. 1\n210. 1\n211. 1\n212. 1\n213. 0\n214. 0\n215. 0\n216. 1\n217. 0\n218. 1\n219. 1\n220. 0\n221. 1\n222. 1\n223. 1\n224. 1\n225. 0\n226. 1\n227. 1\n228. 1\n229. 0\n230. 0\n231. 1\n232. 0\n233. 0\n234. 0\n235. 0\n236. 1\n237. 1\n238. 1\n239. 0\n240. 0\n241. 0\n242. 1\n243. 0\n244. 0\n245. 0\n246. 0\n247. 0\n248. 1\n249. 1\n250. 1\n251. 0\n252. 0\n253. 0\n254. 1\n255. 1\n256. 1\n257. 1\n258. 1\n259. 1\n260. 1\n261. 1\n262. 0\n263. 0\n264. 0\n265. 0\n266. 1\n267. 0\n268. 1\n269. 0\n270. 0\n271. 1\n272. 1\n273. 0\n274. 0\n275. 0\n276. 1\n277. 1\n278. 0\n279. 0\n280. 0\n281. 0\n282. 0\n283. 1\n284. 0\n285. 1\n286. 0\n287. 1\n288. 1\n289. 0\n290. 0\n291. 1\n292. 1\n293. 1\n294. 1\n295. 0\n296. 0\n297. 1\n298. 1\n299. 1\n300. 0\n301. 0\n302. 0\n303. 0\n304. 0\n305. 1\n306. 0\n307. 0\n308. 1\n\n\n\n**Levels**: 1. '0'\n2. '1'\n\n\n",
            "text/latex": "\\begin{enumerate*}\n\\item 0\n\\item 0\n\\item 1\n\\item 1\n\\item 1\n\\item 0\n\\item 0\n\\item 1\n\\item 0\n\\item 1\n\\item 1\n\\item 1\n\\item 1\n\\item 0\n\\item 1\n\\item 1\n\\item 1\n\\item 0\n\\item 1\n\\item 1\n\\item 0\n\\item 0\n\\item 0\n\\item 1\n\\item 0\n\\item 1\n\\item 0\n\\item 1\n\\item 1\n\\item 0\n\\item 1\n\\item 1\n\\item 1\n\\item 1\n\\item 0\n\\item 1\n\\item 0\n\\item 1\n\\item 0\n\\item 0\n\\item 0\n\\item 0\n\\item 0\n\\item 0\n\\item 1\n\\item 1\n\\item 1\n\\item 1\n\\item 0\n\\item 1\n\\item 0\n\\item 1\n\\item 0\n\\item 0\n\\item 0\n\\item 1\n\\item 1\n\\item 0\n\\item 0\n\\item 1\n\\item 1\n\\item 0\n\\item 0\n\\item 1\n\\item 1\n\\item 0\n\\item 1\n\\item 0\n\\item 1\n\\item 0\n\\item 0\n\\item 1\n\\item 1\n\\item 1\n\\item 0\n\\item 1\n\\item 1\n\\item 1\n\\item 0\n\\item 0\n\\item 1\n\\item 1\n\\item 0\n\\item 0\n\\item 0\n\\item 1\n\\item 0\n\\item 1\n\\item 0\n\\item 1\n\\item 1\n\\item 1\n\\item 0\n\\item 1\n\\item 1\n\\item 0\n\\item 1\n\\item 0\n\\item 1\n\\item 1\n\\item 1\n\\item 0\n\\item 1\n\\item 1\n\\item 1\n\\item 1\n\\item 1\n\\item 0\n\\item 0\n\\item 1\n\\item 1\n\\item 1\n\\item 1\n\\item 1\n\\item 0\n\\item 0\n\\item 0\n\\item 1\n\\item 1\n\\item 0\n\\item 0\n\\item 1\n\\item 0\n\\item 1\n\\item 1\n\\item 1\n\\item 0\n\\item 1\n\\item 0\n\\item 1\n\\item 1\n\\item 1\n\\item 0\n\\item 1\n\\item 1\n\\item 1\n\\item 0\n\\item 1\n\\item 1\n\\item 1\n\\item 0\n\\item 1\n\\item 0\n\\item 0\n\\item 1\n\\item 1\n\\item 1\n\\item 1\n\\item 1\n\\item 0\n\\item 1\n\\item 0\n\\item 1\n\\item 0\n\\item 1\n\\item 1\n\\item 1\n\\item 1\n\\item 1\n\\item 1\n\\item 1\n\\item 0\n\\item 1\n\\item 1\n\\item 1\n\\item 1\n\\item 1\n\\item 0\n\\item 1\n\\item 1\n\\item 1\n\\item 0\n\\item 0\n\\item 1\n\\item 1\n\\item 0\n\\item 1\n\\item 0\n\\item 0\n\\item 0\n\\item 1\n\\item 1\n\\item 0\n\\item 0\n\\item 1\n\\item 1\n\\item 0\n\\item 1\n\\item 0\n\\item 1\n\\item 1\n\\item 1\n\\item 0\n\\item 1\n\\item 1\n\\item 1\n\\item 1\n\\item 0\n\\item 1\n\\item 0\n\\item 0\n\\item 0\n\\item 0\n\\item 0\n\\item 0\n\\item 0\n\\item 0\n\\item 1\n\\item 1\n\\item 1\n\\item 1\n\\item 1\n\\item 0\n\\item 0\n\\item 0\n\\item 1\n\\item 0\n\\item 1\n\\item 1\n\\item 0\n\\item 1\n\\item 1\n\\item 1\n\\item 1\n\\item 0\n\\item 1\n\\item 1\n\\item 1\n\\item 0\n\\item 0\n\\item 1\n\\item 0\n\\item 0\n\\item 0\n\\item 0\n\\item 1\n\\item 1\n\\item 1\n\\item 0\n\\item 0\n\\item 0\n\\item 1\n\\item 0\n\\item 0\n\\item 0\n\\item 0\n\\item 0\n\\item 1\n\\item 1\n\\item 1\n\\item 0\n\\item 0\n\\item 0\n\\item 1\n\\item 1\n\\item 1\n\\item 1\n\\item 1\n\\item 1\n\\item 1\n\\item 1\n\\item 0\n\\item 0\n\\item 0\n\\item 0\n\\item 1\n\\item 0\n\\item 1\n\\item 0\n\\item 0\n\\item 1\n\\item 1\n\\item 0\n\\item 0\n\\item 0\n\\item 1\n\\item 1\n\\item 0\n\\item 0\n\\item 0\n\\item 0\n\\item 0\n\\item 1\n\\item 0\n\\item 1\n\\item 0\n\\item 1\n\\item 1\n\\item 0\n\\item 0\n\\item 1\n\\item 1\n\\item 1\n\\item 1\n\\item 0\n\\item 0\n\\item 1\n\\item 1\n\\item 1\n\\item 0\n\\item 0\n\\item 0\n\\item 0\n\\item 0\n\\item 1\n\\item 0\n\\item 0\n\\item 1\n\\end{enumerate*}\n\n\\emph{Levels}: \\begin{enumerate*}\n\\item '0'\n\\item '1'\n\\end{enumerate*}\n",
            "text/plain": [
              "  [1] 0 0 1 1 1 0 0 1 0 1 1 1 1 0 1 1 1 0 1 1 0 0 0 1 0 1 0 1 1 0 1 1 1 1 0 1 0\n",
              " [38] 1 0 0 0 0 0 0 1 1 1 1 0 1 0 1 0 0 0 1 1 0 0 1 1 0 0 1 1 0 1 0 1 0 0 1 1 1\n",
              " [75] 0 1 1 1 0 0 1 1 0 0 0 1 0 1 0 1 1 1 0 1 1 0 1 0 1 1 1 0 1 1 1 1 1 0 0 1 1\n",
              "[112] 1 1 1 0 0 0 1 1 0 0 1 0 1 1 1 0 1 0 1 1 1 0 1 1 1 0 1 1 1 0 1 0 0 1 1 1 1\n",
              "[149] 1 0 1 0 1 0 1 1 1 1 1 1 1 0 1 1 1 1 1 0 1 1 1 0 0 1 1 0 1 0 0 0 1 1 0 0 1\n",
              "[186] 1 0 1 0 1 1 1 0 1 1 1 1 0 1 0 0 0 0 0 0 0 0 1 1 1 1 1 0 0 0 1 0 1 1 0 1 1\n",
              "[223] 1 1 0 1 1 1 0 0 1 0 0 0 0 1 1 1 0 0 0 1 0 0 0 0 0 1 1 1 0 0 0 1 1 1 1 1 1\n",
              "[260] 1 1 0 0 0 0 1 0 1 0 0 1 1 0 0 0 1 1 0 0 0 0 0 1 0 1 0 1 1 0 0 1 1 1 1 0 0\n",
              "[297] 1 1 1 0 0 0 0 0 1 0 0 1\n",
              "Levels: 0 1"
            ]
          },
          "metadata": {}
        }
      ]
    },
    {
      "cell_type": "code",
      "source": [
        "cm<-confusionMatrix(as.factor(knnprediction), as.factor(heart.test$target1))"
      ],
      "metadata": {
        "id": "xs8pHchMiKlB"
      },
      "execution_count": 53,
      "outputs": []
    },
    {
      "cell_type": "code",
      "source": [
        "draw_confusion_matrix(cm)"
      ],
      "metadata": {
        "colab": {
          "base_uri": "https://localhost:8080/",
          "height": 437
        },
        "id": "x-nzT6EyDdIv",
        "outputId": "b8e579b5-8420-4309-fbf4-e8345a82622d"
      },
      "execution_count": 54,
      "outputs": [
        {
          "output_type": "display_data",
          "data": {
            "text/plain": [
              "Plot with title “DETAILS”"
            ],
            "image/png": "[encoded data removed]"
          },
          "metadata": {
            "image/png": {
              "width": 420,
              "height": 420
            }
          }
        }
      ]
    },
    {
      "cell_type": "code",
      "source": [
        "knnaccuracy<-mean(knnprediction==heart.test$target1)\n",
        "knnaccuracy"
      ],
      "metadata": {
        "id": "g2jOIvKNiKnh",
        "colab": {
          "base_uri": "https://localhost:8080/",
          "height": 34
        },
        "outputId": "15f1134b-a52d-4f49-e20c-6ee4f2394c43"
      },
      "execution_count": 55,
      "outputs": [
        {
          "output_type": "display_data",
          "data": {
            "text/html": [
              "0.827922077922078"
            ],
            "text/markdown": "0.827922077922078",
            "text/latex": "0.827922077922078",
            "text/plain": [
              "[1] 0.8279221"
            ]
          },
          "metadata": {}
        }
      ]
    },
    {
      "cell_type": "code",
      "source": [
        "accuracy<-list()\n",
        "for(i in 1:50)\n",
        "{\n",
        "  knntrain<-heart.train\n",
        "  knntesting<-heart.test\n",
        "  trainlabels<-knntrain$target1\n",
        "  testing_labels<-knntesting$target1\n",
        "  knntrain$target1<-NULL\n",
        "  knntesting$target1<-NULL\n",
        "  knnprediction<-knn(train=knntrain,test=knntesting,cl=trainlabels,k=i)\n",
        "  knnaccuracy<-mean(knnprediction==heart.test$target1)\n",
        "  accuracy<-append(accuracy,knnaccuracy)\n",
        "}"
      ],
      "metadata": {
        "id": "2DQKERBH3Lmb"
      },
      "execution_count": 56,
      "outputs": []
    },
    {
      "cell_type": "code",
      "source": [
        "valuesofk<-1:50"
      ],
      "metadata": {
        "id": "4NxIjkZd6KZQ"
      },
      "execution_count": 57,
      "outputs": []
    },
    {
      "cell_type": "code",
      "source": [
        "accuracy"
      ],
      "metadata": {
        "colab": {
          "base_uri": "https://localhost:8080/",
          "height": 913
        },
        "id": "cnFsgTARBvUm",
        "outputId": "c040bf0e-e9c1-4a0d-a550-208a9db5d8b3"
      },
      "execution_count": 58,
      "outputs": [
        {
          "output_type": "display_data",
          "data": {
            "text/html": [
              "<ol>\n",
              "\t<li>0.99025974025974</li>\n",
              "\t<li>0.899350649350649</li>\n",
              "\t<li>0.824675324675325</li>\n",
              "\t<li>0.821428571428571</li>\n",
              "\t<li>0.808441558441558</li>\n",
              "\t<li>0.805194805194805</li>\n",
              "\t<li>0.801948051948052</li>\n",
              "\t<li>0.821428571428571</li>\n",
              "\t<li>0.805194805194805</li>\n",
              "\t<li>0.827922077922078</li>\n",
              "\t<li>0.824675324675325</li>\n",
              "\t<li>0.837662337662338</li>\n",
              "\t<li>0.811688311688312</li>\n",
              "\t<li>0.824675324675325</li>\n",
              "\t<li>0.824675324675325</li>\n",
              "\t<li>0.811688311688312</li>\n",
              "\t<li>0.798701298701299</li>\n",
              "\t<li>0.805194805194805</li>\n",
              "\t<li>0.795454545454545</li>\n",
              "\t<li>0.801948051948052</li>\n",
              "\t<li>0.801948051948052</li>\n",
              "\t<li>0.795454545454545</li>\n",
              "\t<li>0.798701298701299</li>\n",
              "\t<li>0.801948051948052</li>\n",
              "\t<li>0.788961038961039</li>\n",
              "\t<li>0.792207792207792</li>\n",
              "\t<li>0.782467532467532</li>\n",
              "\t<li>0.788961038961039</li>\n",
              "\t<li>0.792207792207792</li>\n",
              "\t<li>0.792207792207792</li>\n",
              "\t<li>0.788961038961039</li>\n",
              "\t<li>0.788961038961039</li>\n",
              "\t<li>0.785714285714286</li>\n",
              "\t<li>0.785714285714286</li>\n",
              "\t<li>0.798701298701299</li>\n",
              "\t<li>0.795454545454545</li>\n",
              "\t<li>0.795454545454545</li>\n",
              "\t<li>0.785714285714286</li>\n",
              "\t<li>0.782467532467532</li>\n",
              "\t<li>0.782467532467532</li>\n",
              "\t<li>0.782467532467532</li>\n",
              "\t<li>0.788961038961039</li>\n",
              "\t<li>0.788961038961039</li>\n",
              "\t<li>0.788961038961039</li>\n",
              "\t<li>0.788961038961039</li>\n",
              "\t<li>0.788961038961039</li>\n",
              "\t<li>0.795454545454545</li>\n",
              "\t<li>0.795454545454545</li>\n",
              "\t<li>0.788961038961039</li>\n",
              "\t<li>0.798701298701299</li>\n",
              "</ol>\n"
            ],
            "text/markdown": "1. 0.99025974025974\n2. 0.899350649350649\n3. 0.824675324675325\n4. 0.821428571428571\n5. 0.808441558441558\n6. 0.805194805194805\n7. 0.801948051948052\n8. 0.821428571428571\n9. 0.805194805194805\n10. 0.827922077922078\n11. 0.824675324675325\n12. 0.837662337662338\n13. 0.811688311688312\n14. 0.824675324675325\n15. 0.824675324675325\n16. 0.811688311688312\n17. 0.798701298701299\n18. 0.805194805194805\n19. 0.795454545454545\n20. 0.801948051948052\n21. 0.801948051948052\n22. 0.795454545454545\n23. 0.798701298701299\n24. 0.801948051948052\n25. 0.788961038961039\n26. 0.792207792207792\n27. 0.782467532467532\n28. 0.788961038961039\n29. 0.792207792207792\n30. 0.792207792207792\n31. 0.788961038961039\n32. 0.788961038961039\n33. 0.785714285714286\n34. 0.785714285714286\n35. 0.798701298701299\n36. 0.795454545454545\n37. 0.795454545454545\n38. 0.785714285714286\n39. 0.782467532467532\n40. 0.782467532467532\n41. 0.782467532467532\n42. 0.788961038961039\n43. 0.788961038961039\n44. 0.788961038961039\n45. 0.788961038961039\n46. 0.788961038961039\n47. 0.795454545454545\n48. 0.795454545454545\n49. 0.788961038961039\n50. 0.798701298701299\n\n\n",
            "text/latex": "\\begin{enumerate}\n\\item 0.99025974025974\n\\item 0.899350649350649\n\\item 0.824675324675325\n\\item 0.821428571428571\n\\item 0.808441558441558\n\\item 0.805194805194805\n\\item 0.801948051948052\n\\item 0.821428571428571\n\\item 0.805194805194805\n\\item 0.827922077922078\n\\item 0.824675324675325\n\\item 0.837662337662338\n\\item 0.811688311688312\n\\item 0.824675324675325\n\\item 0.824675324675325\n\\item 0.811688311688312\n\\item 0.798701298701299\n\\item 0.805194805194805\n\\item 0.795454545454545\n\\item 0.801948051948052\n\\item 0.801948051948052\n\\item 0.795454545454545\n\\item 0.798701298701299\n\\item 0.801948051948052\n\\item 0.788961038961039\n\\item 0.792207792207792\n\\item 0.782467532467532\n\\item 0.788961038961039\n\\item 0.792207792207792\n\\item 0.792207792207792\n\\item 0.788961038961039\n\\item 0.788961038961039\n\\item 0.785714285714286\n\\item 0.785714285714286\n\\item 0.798701298701299\n\\item 0.795454545454545\n\\item 0.795454545454545\n\\item 0.785714285714286\n\\item 0.782467532467532\n\\item 0.782467532467532\n\\item 0.782467532467532\n\\item 0.788961038961039\n\\item 0.788961038961039\n\\item 0.788961038961039\n\\item 0.788961038961039\n\\item 0.788961038961039\n\\item 0.795454545454545\n\\item 0.795454545454545\n\\item 0.788961038961039\n\\item 0.798701298701299\n\\end{enumerate}\n",
            "text/plain": [
              "[[1]]\n",
              "[1] 0.9902597\n",
              "\n",
              "[[2]]\n",
              "[1] 0.8993506\n",
              "\n",
              "[[3]]\n",
              "[1] 0.8246753\n",
              "\n",
              "[[4]]\n",
              "[1] 0.8214286\n",
              "\n",
              "[[5]]\n",
              "[1] 0.8084416\n",
              "\n",
              "[[6]]\n",
              "[1] 0.8051948\n",
              "\n",
              "[[7]]\n",
              "[1] 0.8019481\n",
              "\n",
              "[[8]]\n",
              "[1] 0.8214286\n",
              "\n",
              "[[9]]\n",
              "[1] 0.8051948\n",
              "\n",
              "[[10]]\n",
              "[1] 0.8279221\n",
              "\n",
              "[[11]]\n",
              "[1] 0.8246753\n",
              "\n",
              "[[12]]\n",
              "[1] 0.8376623\n",
              "\n",
              "[[13]]\n",
              "[1] 0.8116883\n",
              "\n",
              "[[14]]\n",
              "[1] 0.8246753\n",
              "\n",
              "[[15]]\n",
              "[1] 0.8246753\n",
              "\n",
              "[[16]]\n",
              "[1] 0.8116883\n",
              "\n",
              "[[17]]\n",
              "[1] 0.7987013\n",
              "\n",
              "[[18]]\n",
              "[1] 0.8051948\n",
              "\n",
              "[[19]]\n",
              "[1] 0.7954545\n",
              "\n",
              "[[20]]\n",
              "[1] 0.8019481\n",
              "\n",
              "[[21]]\n",
              "[1] 0.8019481\n",
              "\n",
              "[[22]]\n",
              "[1] 0.7954545\n",
              "\n",
              "[[23]]\n",
              "[1] 0.7987013\n",
              "\n",
              "[[24]]\n",
              "[1] 0.8019481\n",
              "\n",
              "[[25]]\n",
              "[1] 0.788961\n",
              "\n",
              "[[26]]\n",
              "[1] 0.7922078\n",
              "\n",
              "[[27]]\n",
              "[1] 0.7824675\n",
              "\n",
              "[[28]]\n",
              "[1] 0.788961\n",
              "\n",
              "[[29]]\n",
              "[1] 0.7922078\n",
              "\n",
              "[[30]]\n",
              "[1] 0.7922078\n",
              "\n",
              "[[31]]\n",
              "[1] 0.788961\n",
              "\n",
              "[[32]]\n",
              "[1] 0.788961\n",
              "\n",
              "[[33]]\n",
              "[1] 0.7857143\n",
              "\n",
              "[[34]]\n",
              "[1] 0.7857143\n",
              "\n",
              "[[35]]\n",
              "[1] 0.7987013\n",
              "\n",
              "[[36]]\n",
              "[1] 0.7954545\n",
              "\n",
              "[[37]]\n",
              "[1] 0.7954545\n",
              "\n",
              "[[38]]\n",
              "[1] 0.7857143\n",
              "\n",
              "[[39]]\n",
              "[1] 0.7824675\n",
              "\n",
              "[[40]]\n",
              "[1] 0.7824675\n",
              "\n",
              "[[41]]\n",
              "[1] 0.7824675\n",
              "\n",
              "[[42]]\n",
              "[1] 0.788961\n",
              "\n",
              "[[43]]\n",
              "[1] 0.788961\n",
              "\n",
              "[[44]]\n",
              "[1] 0.788961\n",
              "\n",
              "[[45]]\n",
              "[1] 0.788961\n",
              "\n",
              "[[46]]\n",
              "[1] 0.788961\n",
              "\n",
              "[[47]]\n",
              "[1] 0.7954545\n",
              "\n",
              "[[48]]\n",
              "[1] 0.7954545\n",
              "\n",
              "[[49]]\n",
              "[1] 0.788961\n",
              "\n",
              "[[50]]\n",
              "[1] 0.7987013\n"
            ]
          },
          "metadata": {}
        }
      ]
    },
    {
      "cell_type": "code",
      "source": [
        "plot(valuesofk,accuracy)"
      ],
      "metadata": {
        "colab": {
          "base_uri": "https://localhost:8080/",
          "height": 437
        },
        "id": "rCa2R5wS3RJz",
        "outputId": "bbee678a-f216-416c-ec40-bf5353014616"
      },
      "execution_count": 59,
      "outputs": [
        {
          "output_type": "display_data",
          "data": {
            "text/plain": [
              "plot without title"
            ],
            "image/png": "[encoded data removed]"
          },
          "metadata": {
            "image/png": {
              "width": 420,
              "height": 420
            }
          }
        }
      ]
    },
    {
      "cell_type": "markdown",
      "source": [
        "Tree"
      ],
      "metadata": {
        "id": "UQg7k_IBkCGI"
      }
    },
    {
      "cell_type": "code",
      "source": [
        "install.packages(\"gbm\")\n",
        "library(gbm)"
      ],
      "metadata": {
        "id": "_oYFkMq0oNkl",
        "colab": {
          "base_uri": "https://localhost:8080/"
        },
        "outputId": "a673d3f5-fc42-4014-dc7b-9bf74d19c445"
      },
      "execution_count": 60,
      "outputs": [
        {
          "output_type": "stream",
          "name": "stderr",
          "text": [
            "Installing package into ‘/usr/local/lib/R/site-library’\n",
            "(as ‘lib’ is unspecified)\n",
            "\n",
            "Loaded gbm 2.1.8.1\n",
            "\n"
          ]
        }
      ]
    },
    {
      "cell_type": "code",
      "source": [
        "heart.tree<-tree(target1~.,data=heart.train)\n",
        "summary(heart.tree)"
      ],
      "metadata": {
        "id": "-fl0lv5kkJ6C",
        "colab": {
          "base_uri": "https://localhost:8080/",
          "height": 213
        },
        "outputId": "599b6064-71da-4f4e-c9b6-96f93049d3c1"
      },
      "execution_count": 61,
      "outputs": [
        {
          "output_type": "display_data",
          "data": {
            "text/plain": [
              "\n",
              "Regression tree:\n",
              "tree(formula = target1 ~ ., data = heart.train)\n",
              "Variables actually used in tree construction:\n",
              " [1] \"thal2\"    \"oldpeak\"  \"trestbps\" \"chol\"     \"restecg1\" \"age\"     \n",
              " [7] \"cp3\"      \"cp2\"      \"thalach\"  \"exang1\"   \"ca3\"      \"slope1\"  \n",
              "Number of terminal nodes:  24 \n",
              "Residual mean deviance:  0.06084 = 42.16 / 693 \n",
              "Distribution of residuals:\n",
              "    Min.  1st Qu.   Median     Mean  3rd Qu.     Max. \n",
              "-0.91410 -0.02235  0.00000  0.00000  0.08594  0.97770 "
            ]
          },
          "metadata": {}
        }
      ]
    },
    {
      "cell_type": "code",
      "source": [
        "cv.heart <- cv.tree(heart.tree, FUN = prune.tree,K=10)"
      ],
      "metadata": {
        "id": "U3-eCuAWkKBb"
      },
      "execution_count": 62,
      "outputs": []
    },
    {
      "cell_type": "code",
      "source": [
        "plot(cv.heart$size, cv.heart$dev, type = \"b\")\n",
        "plot(cv.heart$k, cv.heart$dev, type = \"b\")"
      ],
      "metadata": {
        "id": "fi0Pc8NSlauk",
        "colab": {
          "base_uri": "https://localhost:8080/",
          "height": 857
        },
        "outputId": "c6430a02-7e41-4539-dbb2-fafd749097cd"
      },
      "execution_count": 63,
      "outputs": [
        {
          "output_type": "display_data",
          "data": {
            "text/plain": [
              "plot without title"
            ],
            "image/png": "[encoded data removed]"
          },
          "metadata": {
            "image/png": {
              "width": 420,
              "height": 420
            }
          }
        },
        {
          "output_type": "display_data",
          "data": {
            "text/plain": [
              "plot without title"
            ],
            "image/png": "[encoded data removed]"
          },
          "metadata": {
            "image/png": {
              "width": 420,
              "height": 420
            }
          }
        }
      ]
    },
    {
      "cell_type": "code",
      "source": [
        "plot(cv.heart$size, cv.heart$dev, type = \"b\", xlab = \"Tree Size\", ylab = \"Deviance\", main = \"Tree Size vs Deviance\")\n"
      ],
      "metadata": {
        "id": "0aqeczV3kKEk",
        "colab": {
          "base_uri": "https://localhost:8080/",
          "height": 437
        },
        "outputId": "195afa89-9715-4e4f-8fb7-6fd1180adcd0"
      },
      "execution_count": 64,
      "outputs": [
        {
          "output_type": "display_data",
          "data": {
            "text/plain": [
              "Plot with title “Tree Size vs Deviance”"
            ],
            "image/png": "[encoded data removed]"
          },
          "metadata": {
            "image/png": {
              "width": 420,
              "height": 420
            }
          }
        }
      ]
    },
    {
      "cell_type": "code",
      "source": [
        "cv.heart$size"
      ],
      "metadata": {
        "colab": {
          "base_uri": "https://localhost:8080/",
          "height": 34
        },
        "id": "pk8D99lF12lO",
        "outputId": "92acca4b-30cb-4ca6-b7f0-cf51364e727b"
      },
      "execution_count": 65,
      "outputs": [
        {
          "output_type": "display_data",
          "data": {
            "text/html": [
              "<style>\n",
              ".list-inline {list-style: none; margin:0; padding: 0}\n",
              ".list-inline>li {display: inline-block}\n",
              ".list-inline>li:not(:last-child)::after {content: \"\\00b7\"; padding: 0 .5ex}\n",
              "</style>\n",
              "<ol class=list-inline><li>24</li><li>23</li><li>22</li><li>21</li><li>20</li><li>19</li><li>18</li><li>17</li><li>15</li><li>12</li><li>10</li><li>8</li><li>6</li><li>5</li><li>4</li><li>3</li><li>2</li><li>1</li></ol>\n"
            ],
            "text/markdown": "1. 24\n2. 23\n3. 22\n4. 21\n5. 20\n6. 19\n7. 18\n8. 17\n9. 15\n10. 12\n11. 10\n12. 8\n13. 6\n14. 5\n15. 4\n16. 3\n17. 2\n18. 1\n\n\n",
            "text/latex": "\\begin{enumerate*}\n\\item 24\n\\item 23\n\\item 22\n\\item 21\n\\item 20\n\\item 19\n\\item 18\n\\item 17\n\\item 15\n\\item 12\n\\item 10\n\\item 8\n\\item 6\n\\item 5\n\\item 4\n\\item 3\n\\item 2\n\\item 1\n\\end{enumerate*}\n",
            "text/plain": [
              " [1] 24 23 22 21 20 19 18 17 15 12 10  8  6  5  4  3  2  1"
            ]
          },
          "metadata": {}
        }
      ]
    },
    {
      "cell_type": "code",
      "source": [
        "cv.heart$dev"
      ],
      "metadata": {
        "colab": {
          "base_uri": "https://localhost:8080/",
          "height": 69
        },
        "id": "UNOZycg32IZh",
        "outputId": "db18eb3c-06ac-4321-d57f-fa2e8261ecbd"
      },
      "execution_count": 66,
      "outputs": [
        {
          "output_type": "display_data",
          "data": {
            "text/html": [
              "<style>\n",
              ".list-inline {list-style: none; margin:0; padding: 0}\n",
              ".list-inline>li {display: inline-block}\n",
              ".list-inline>li:not(:last-child)::after {content: \"\\00b7\"; padding: 0 .5ex}\n",
              "</style>\n",
              "<ol class=list-inline><li>74.1520223174425</li><li>74.1915331386169</li><li>74.1915331386169</li><li>74.8820749200678</li><li>74.6207731449198</li><li>76.9995873528709</li><li>75.8668073139325</li><li>82.0839973669298</li><li>82.0839973669298</li><li>91.0098878928807</li><li>93.8651163097315</li><li>105.724924928535</li><li>105.404358781968</li><li>105.41887009861</li><li>108.921602715138</li><li>130.093590488799</li><li>130.639830294641</li><li>179.593922991017</li></ol>\n"
            ],
            "text/markdown": "1. 74.1520223174425\n2. 74.1915331386169\n3. 74.1915331386169\n4. 74.8820749200678\n5. 74.6207731449198\n6. 76.9995873528709\n7. 75.8668073139325\n8. 82.0839973669298\n9. 82.0839973669298\n10. 91.0098878928807\n11. 93.8651163097315\n12. 105.724924928535\n13. 105.404358781968\n14. 105.41887009861\n15. 108.921602715138\n16. 130.093590488799\n17. 130.639830294641\n18. 179.593922991017\n\n\n",
            "text/latex": "\\begin{enumerate*}\n\\item 74.1520223174425\n\\item 74.1915331386169\n\\item 74.1915331386169\n\\item 74.8820749200678\n\\item 74.6207731449198\n\\item 76.9995873528709\n\\item 75.8668073139325\n\\item 82.0839973669298\n\\item 82.0839973669298\n\\item 91.0098878928807\n\\item 93.8651163097315\n\\item 105.724924928535\n\\item 105.404358781968\n\\item 105.41887009861\n\\item 108.921602715138\n\\item 130.093590488799\n\\item 130.639830294641\n\\item 179.593922991017\n\\end{enumerate*}\n",
            "text/plain": [
              " [1]  74.15202  74.19153  74.19153  74.88207  74.62077  76.99959  75.86681\n",
              " [8]  82.08400  82.08400  91.00989  93.86512 105.72492 105.40436 105.41887\n",
              "[15] 108.92160 130.09359 130.63983 179.59392"
            ]
          },
          "metadata": {}
        }
      ]
    },
    {
      "cell_type": "code",
      "source": [
        "heart.pruned<-prune.tree(heart.tree,best=23)"
      ],
      "metadata": {
        "id": "epzHlyLikKH7"
      },
      "execution_count": 67,
      "outputs": []
    },
    {
      "cell_type": "code",
      "source": [
        "plot(heart.pruned)\n",
        "text(heart.pruned,pretty=0)"
      ],
      "metadata": {
        "id": "N9F1Db4skKKK",
        "colab": {
          "base_uri": "https://localhost:8080/",
          "height": 437
        },
        "outputId": "29d767f4-5bd6-43ad-df40-5e2a4a251b90"
      },
      "execution_count": 68,
      "outputs": [
        {
          "output_type": "display_data",
          "data": {
            "text/plain": [
              "plot without title"
            ],
            "image/png": "[encoded data removed]"
          },
          "metadata": {
            "image/png": {
              "width": 420,
              "height": 420
            }
          }
        }
      ]
    },
    {
      "cell_type": "code",
      "source": [
        "summary(heart.pruned) "
      ],
      "metadata": {
        "id": "I7hKKY6vkKMt",
        "colab": {
          "base_uri": "https://localhost:8080/",
          "height": 213
        },
        "outputId": "f94947e0-cd3f-41ed-81c4-5e178a4512ee"
      },
      "execution_count": 69,
      "outputs": [
        {
          "output_type": "display_data",
          "data": {
            "text/plain": [
              "\n",
              "Regression tree:\n",
              "snip.tree(tree = heart.tree, nodes = 7L)\n",
              "Variables actually used in tree construction:\n",
              " [1] \"thal2\"    \"oldpeak\"  \"trestbps\" \"chol\"     \"restecg1\" \"age\"     \n",
              " [7] \"cp3\"      \"cp2\"      \"thalach\"  \"exang1\"   \"ca3\"      \"slope1\"  \n",
              "Number of terminal nodes:  23 \n",
              "Residual mean deviance:  0.0634 = 44 / 694 \n",
              "Distribution of residuals:\n",
              "    Min.  1st Qu.   Median     Mean  3rd Qu.     Max. \n",
              "-0.91410 -0.02235  0.00000  0.00000  0.08594  0.97770 "
            ]
          },
          "metadata": {}
        }
      ]
    },
    {
      "cell_type": "code",
      "source": [
        "predheart.pruned<-predict(heart.pruned,heart.test)"
      ],
      "metadata": {
        "id": "80XkoEXXkKQ-"
      },
      "execution_count": 70,
      "outputs": []
    },
    {
      "cell_type": "code",
      "source": [
        "predheart.pruned<-ifelse(predheart.pruned>0.5,1,0)"
      ],
      "metadata": {
        "id": "niWH0WW9vcdf"
      },
      "execution_count": 71,
      "outputs": []
    },
    {
      "cell_type": "code",
      "source": [
        "cm<-confusionMatrix(data=as.factor(predheart.pruned),reference=as.factor(heart.test$target1))"
      ],
      "metadata": {
        "id": "qbTcRBwp9FeF"
      },
      "execution_count": 72,
      "outputs": []
    },
    {
      "cell_type": "code",
      "source": [
        "draw_confusion_matrix(cm)"
      ],
      "metadata": {
        "id": "n8cldH959UMn",
        "colab": {
          "base_uri": "https://localhost:8080/",
          "height": 437
        },
        "outputId": "92b24ec2-df08-429f-fd54-ff84bf44be27"
      },
      "execution_count": 73,
      "outputs": [
        {
          "output_type": "display_data",
          "data": {
            "text/plain": [
              "Plot with title “DETAILS”"
            ],
            "image/png": "[encoded data removed]"
          },
          "metadata": {
            "image/png": {
              "width": 420,
              "height": 420
            }
          }
        }
      ]
    },
    {
      "cell_type": "code",
      "source": [
        "table(predheart.pruned,heart.test$target1)"
      ],
      "metadata": {
        "id": "Ogg_t_BV_712",
        "colab": {
          "base_uri": "https://localhost:8080/",
          "height": 88
        },
        "outputId": "42880df3-97ab-4ce1-b204-8f05c55cf8b5"
      },
      "execution_count": 74,
      "outputs": [
        {
          "output_type": "display_data",
          "data": {
            "text/plain": [
              "                \n",
              "predheart.pruned   0   1\n",
              "               0 123  24\n",
              "               1  25 136"
            ]
          },
          "metadata": {}
        }
      ]
    },
    {
      "cell_type": "code",
      "source": [
        "treeaccuracy<-mean(predheart.pruned==heart.test$target1)\n",
        "treeaccuracy"
      ],
      "metadata": {
        "id": "bB1PQSHwPojU",
        "colab": {
          "base_uri": "https://localhost:8080/",
          "height": 34
        },
        "outputId": "47594164-c861-4d96-b6e3-4cef488810ad"
      },
      "execution_count": 75,
      "outputs": [
        {
          "output_type": "display_data",
          "data": {
            "text/html": [
              "0.840909090909091"
            ],
            "text/markdown": "0.840909090909091",
            "text/latex": "0.840909090909091",
            "text/plain": [
              "[1] 0.8409091"
            ]
          },
          "metadata": {}
        }
      ]
    },
    {
      "cell_type": "markdown",
      "source": [
        "Random Forest"
      ],
      "metadata": {
        "id": "cgaES_IRMez2"
      }
    },
    {
      "cell_type": "code",
      "source": [
        "install.packages(\"randomForest\")\n",
        "library(randomForest)"
      ],
      "metadata": {
        "colab": {
          "base_uri": "https://localhost:8080/"
        },
        "id": "1cvPWvQNTyrJ",
        "outputId": "2f97d9f1-904a-4806-c3cb-41fced081a2b"
      },
      "execution_count": 76,
      "outputs": [
        {
          "output_type": "stream",
          "name": "stderr",
          "text": [
            "Installing package into ‘/usr/local/lib/R/site-library’\n",
            "(as ‘lib’ is unspecified)\n",
            "\n"
          ]
        }
      ]
    },
    {
      "cell_type": "code",
      "source": [
        "bag.heart<-randomForest(target1~.,data = heart.train,mtry = 5,ntree = 100,importance = T)"
      ],
      "metadata": {
        "id": "yk-Tuq02LcTX",
        "colab": {
          "base_uri": "https://localhost:8080/"
        },
        "outputId": "57e31189-1dbe-45a6-b3a6-f77737df3207"
      },
      "execution_count": 77,
      "outputs": [
        {
          "output_type": "stream",
          "name": "stderr",
          "text": [
            "Warning message in randomForest.default(m, y, ...):\n",
            "“The response has five or fewer unique values.  Are you sure you want to do regression?”\n"
          ]
        }
      ]
    },
    {
      "cell_type": "code",
      "source": [
        "randomforestpredict<-predict(bag.heart,heart.test)\n",
        "randomforestpredict <- ifelse(randomforestpredict > 0.5, 1, 0)\n",
        "cm<-confusionMatrix(data=as.factor(randomforestpredict),reference=as.factor(heart.test$target1))"
      ],
      "metadata": {
        "id": "mYCXFNp-IH_j"
      },
      "execution_count": 78,
      "outputs": []
    },
    {
      "cell_type": "code",
      "source": [
        "randomforestaccuracy<-mean(randomforestpredict==heart.test$target1)"
      ],
      "metadata": {
        "id": "PWJBtnM8Jsod"
      },
      "execution_count": 79,
      "outputs": []
    },
    {
      "cell_type": "code",
      "source": [
        "randomforestaccuracy"
      ],
      "metadata": {
        "colab": {
          "base_uri": "https://localhost:8080/",
          "height": 34
        },
        "id": "__D4zhsZJzav",
        "outputId": "27679c84-d3fe-44f5-9132-0a5d7476323d"
      },
      "execution_count": 80,
      "outputs": [
        {
          "output_type": "display_data",
          "data": {
            "text/html": [
              "0.980519480519481"
            ],
            "text/markdown": "0.980519480519481",
            "text/latex": "0.980519480519481",
            "text/plain": [
              "[1] 0.9805195"
            ]
          },
          "metadata": {}
        }
      ]
    },
    {
      "cell_type": "code",
      "source": [
        "draw_confusion_matrix(cm)"
      ],
      "metadata": {
        "colab": {
          "base_uri": "https://localhost:8080/",
          "height": 437
        },
        "id": "yefZ4XiLIyDn",
        "outputId": "cfd3efaf-6a1e-4eac-cc39-a4c5473b3ff3"
      },
      "execution_count": 81,
      "outputs": [
        {
          "output_type": "display_data",
          "data": {
            "text/plain": [
              "Plot with title “DETAILS”"
            ],
            "image/png": "[encoded data removed]"
          },
          "metadata": {
            "image/png": {
              "width": 420,
              "height": 420
            }
          }
        }
      ]
    },
    {
      "cell_type": "code",
      "source": [
        "summary(bag.heart)"
      ],
      "metadata": {
        "id": "HkSCr4msNKN2",
        "colab": {
          "base_uri": "https://localhost:8080/",
          "height": 356
        },
        "outputId": "5bdf69ee-941e-4daa-b144-50a34becf477"
      },
      "execution_count": 82,
      "outputs": [
        {
          "output_type": "display_data",
          "data": {
            "text/plain": [
              "                Length Class  Mode     \n",
              "call              6    -none- call     \n",
              "type              1    -none- character\n",
              "predicted       717    -none- numeric  \n",
              "mse             100    -none- numeric  \n",
              "rsq             100    -none- numeric  \n",
              "oob.times       717    -none- numeric  \n",
              "importance       46    -none- numeric  \n",
              "importanceSD     23    -none- numeric  \n",
              "localImportance   0    -none- NULL     \n",
              "proximity         0    -none- NULL     \n",
              "ntree             1    -none- numeric  \n",
              "mtry              1    -none- numeric  \n",
              "forest           11    -none- list     \n",
              "coefs             0    -none- NULL     \n",
              "y               717    -none- numeric  \n",
              "test              0    -none- NULL     \n",
              "inbag             0    -none- NULL     \n",
              "terms             3    terms  call     "
            ]
          },
          "metadata": {}
        }
      ]
    },
    {
      "cell_type": "code",
      "source": [
        "importance<-importance(bag.heart)"
      ],
      "metadata": {
        "id": "bhHXwGbbNKS6"
      },
      "execution_count": 83,
      "outputs": []
    },
    {
      "cell_type": "code",
      "source": [
        "importance"
      ],
      "metadata": {
        "id": "G-OxYdcbXXmB",
        "colab": {
          "base_uri": "https://localhost:8080/",
          "height": 788
        },
        "outputId": "66be2b21-829d-4980-d8f2-2a22e98edb62"
      },
      "execution_count": 84,
      "outputs": [
        {
          "output_type": "display_data",
          "data": {
            "text/html": [
              "<table class=\"dataframe\">\n",
              "<caption>A matrix: 23 × 2 of type dbl</caption>\n",
              "<thead>\n",
              "\t<tr><th></th><th scope=col>%IncMSE</th><th scope=col>IncNodePurity</th></tr>\n",
              "</thead>\n",
              "<tbody>\n",
              "\t<tr><th scope=row>age</th><td>17.9692447</td><td>14.59223130</td></tr>\n",
              "\t<tr><th scope=row>sex0</th><td> 9.5635295</td><td> 3.58466263</td></tr>\n",
              "\t<tr><th scope=row>sex1</th><td> 8.7209044</td><td> 4.01616520</td></tr>\n",
              "\t<tr><th scope=row>cp1</th><td> 7.6136227</td><td> 2.13949528</td></tr>\n",
              "\t<tr><th scope=row>cp2</th><td>12.9890674</td><td> 4.92208486</td></tr>\n",
              "\t<tr><th scope=row>cp3</th><td>11.4586969</td><td> 3.67854049</td></tr>\n",
              "\t<tr><th scope=row>trestbps</th><td>18.6731028</td><td>11.96179824</td></tr>\n",
              "\t<tr><th scope=row>chol</th><td>17.2859821</td><td>13.01639675</td></tr>\n",
              "\t<tr><th scope=row>fbs1</th><td> 6.3607371</td><td> 1.45607112</td></tr>\n",
              "\t<tr><th scope=row>restecg1</th><td>10.0625733</td><td> 2.75499606</td></tr>\n",
              "\t<tr><th scope=row>restecg2</th><td> 0.0000000</td><td> 0.01004385</td></tr>\n",
              "\t<tr><th scope=row>thalach</th><td>18.7299357</td><td>22.47016559</td></tr>\n",
              "\t<tr><th scope=row>exang1</th><td>11.6032109</td><td> 9.32221798</td></tr>\n",
              "\t<tr><th scope=row>oldpeak</th><td>22.1003386</td><td>22.98636683</td></tr>\n",
              "\t<tr><th scope=row>slope1</th><td> 8.0518571</td><td> 3.80983385</td></tr>\n",
              "\t<tr><th scope=row>slope2</th><td>10.7328526</td><td> 7.81790120</td></tr>\n",
              "\t<tr><th scope=row>ca1</th><td>12.1487972</td><td> 4.13621118</td></tr>\n",
              "\t<tr><th scope=row>ca2</th><td>10.3503962</td><td> 4.06272349</td></tr>\n",
              "\t<tr><th scope=row>ca3</th><td> 6.5106885</td><td> 1.59802012</td></tr>\n",
              "\t<tr><th scope=row>ca4</th><td> 0.2171856</td><td> 0.15954128</td></tr>\n",
              "\t<tr><th scope=row>thal1</th><td> 4.4287194</td><td> 0.90696603</td></tr>\n",
              "\t<tr><th scope=row>thal2</th><td>12.2661648</td><td>19.96232085</td></tr>\n",
              "\t<tr><th scope=row>thal3</th><td> 9.7964155</td><td>11.00353702</td></tr>\n",
              "</tbody>\n",
              "</table>\n"
            ],
            "text/markdown": "\nA matrix: 23 × 2 of type dbl\n\n| <!--/--> | %IncMSE | IncNodePurity |\n|---|---|---|\n| age | 17.9692447 | 14.59223130 |\n| sex0 |  9.5635295 |  3.58466263 |\n| sex1 |  8.7209044 |  4.01616520 |\n| cp1 |  7.6136227 |  2.13949528 |\n| cp2 | 12.9890674 |  4.92208486 |\n| cp3 | 11.4586969 |  3.67854049 |\n| trestbps | 18.6731028 | 11.96179824 |\n| chol | 17.2859821 | 13.01639675 |\n| fbs1 |  6.3607371 |  1.45607112 |\n| restecg1 | 10.0625733 |  2.75499606 |\n| restecg2 |  0.0000000 |  0.01004385 |\n| thalach | 18.7299357 | 22.47016559 |\n| exang1 | 11.6032109 |  9.32221798 |\n| oldpeak | 22.1003386 | 22.98636683 |\n| slope1 |  8.0518571 |  3.80983385 |\n| slope2 | 10.7328526 |  7.81790120 |\n| ca1 | 12.1487972 |  4.13621118 |\n| ca2 | 10.3503962 |  4.06272349 |\n| ca3 |  6.5106885 |  1.59802012 |\n| ca4 |  0.2171856 |  0.15954128 |\n| thal1 |  4.4287194 |  0.90696603 |\n| thal2 | 12.2661648 | 19.96232085 |\n| thal3 |  9.7964155 | 11.00353702 |\n\n",
            "text/latex": "A matrix: 23 × 2 of type dbl\n\\begin{tabular}{r|ll}\n  & \\%IncMSE & IncNodePurity\\\\\n\\hline\n\tage & 17.9692447 & 14.59223130\\\\\n\tsex0 &  9.5635295 &  3.58466263\\\\\n\tsex1 &  8.7209044 &  4.01616520\\\\\n\tcp1 &  7.6136227 &  2.13949528\\\\\n\tcp2 & 12.9890674 &  4.92208486\\\\\n\tcp3 & 11.4586969 &  3.67854049\\\\\n\ttrestbps & 18.6731028 & 11.96179824\\\\\n\tchol & 17.2859821 & 13.01639675\\\\\n\tfbs1 &  6.3607371 &  1.45607112\\\\\n\trestecg1 & 10.0625733 &  2.75499606\\\\\n\trestecg2 &  0.0000000 &  0.01004385\\\\\n\tthalach & 18.7299357 & 22.47016559\\\\\n\texang1 & 11.6032109 &  9.32221798\\\\\n\toldpeak & 22.1003386 & 22.98636683\\\\\n\tslope1 &  8.0518571 &  3.80983385\\\\\n\tslope2 & 10.7328526 &  7.81790120\\\\\n\tca1 & 12.1487972 &  4.13621118\\\\\n\tca2 & 10.3503962 &  4.06272349\\\\\n\tca3 &  6.5106885 &  1.59802012\\\\\n\tca4 &  0.2171856 &  0.15954128\\\\\n\tthal1 &  4.4287194 &  0.90696603\\\\\n\tthal2 & 12.2661648 & 19.96232085\\\\\n\tthal3 &  9.7964155 & 11.00353702\\\\\n\\end{tabular}\n",
            "text/plain": [
              "         %IncMSE    IncNodePurity\n",
              "age      17.9692447 14.59223130  \n",
              "sex0      9.5635295  3.58466263  \n",
              "sex1      8.7209044  4.01616520  \n",
              "cp1       7.6136227  2.13949528  \n",
              "cp2      12.9890674  4.92208486  \n",
              "cp3      11.4586969  3.67854049  \n",
              "trestbps 18.6731028 11.96179824  \n",
              "chol     17.2859821 13.01639675  \n",
              "fbs1      6.3607371  1.45607112  \n",
              "restecg1 10.0625733  2.75499606  \n",
              "restecg2  0.0000000  0.01004385  \n",
              "thalach  18.7299357 22.47016559  \n",
              "exang1   11.6032109  9.32221798  \n",
              "oldpeak  22.1003386 22.98636683  \n",
              "slope1    8.0518571  3.80983385  \n",
              "slope2   10.7328526  7.81790120  \n",
              "ca1      12.1487972  4.13621118  \n",
              "ca2      10.3503962  4.06272349  \n",
              "ca3       6.5106885  1.59802012  \n",
              "ca4       0.2171856  0.15954128  \n",
              "thal1     4.4287194  0.90696603  \n",
              "thal2    12.2661648 19.96232085  \n",
              "thal3     9.7964155 11.00353702  "
            ]
          },
          "metadata": {}
        }
      ]
    },
    {
      "cell_type": "code",
      "source": [
        "varImpPlot(bag.heart,main=\"Predictor Importance\") "
      ],
      "metadata": {
        "id": "rIvYDDOrNKVn",
        "colab": {
          "base_uri": "https://localhost:8080/",
          "height": 437
        },
        "outputId": "9acdd983-36f8-4034-dbb7-fd5e3c5e6925"
      },
      "execution_count": 85,
      "outputs": [
        {
          "output_type": "display_data",
          "data": {
            "text/plain": [
              "plot without title"
            ],
            "image/png": "[encoded data removed]"
          },
          "metadata": {
            "image/png": {
              "width": 420,
              "height": 420
            }
          }
        }
      ]
    },
    {
      "cell_type": "markdown",
      "source": [
        "Artificial Neural Network"
      ],
      "metadata": {
        "id": "T1s7yWtYNmZP"
      }
    },
    {
      "cell_type": "code",
      "source": [
        "install.packages('neuralnet')\n",
        "library('neuralnet')"
      ],
      "metadata": {
        "id": "Ky5IVR35PL6S",
        "colab": {
          "base_uri": "https://localhost:8080/"
        },
        "outputId": "d374b719-7fce-4407-b75b-0e93c4a282e8"
      },
      "execution_count": 86,
      "outputs": [
        {
          "output_type": "stream",
          "name": "stderr",
          "text": [
            "Installing package into ‘/usr/local/lib/R/site-library’\n",
            "(as ‘lib’ is unspecified)\n",
            "\n",
            "also installing the dependency ‘Deriv’\n",
            "\n",
            "\n",
            "\n",
            "Attaching package: ‘neuralnet’\n",
            "\n",
            "\n",
            "The following object is masked from ‘package:dplyr’:\n",
            "\n",
            "    compute\n",
            "\n",
            "\n"
          ]
        }
      ]
    },
    {
      "cell_type": "code",
      "source": [
        "trainlabels <- heart.train$target1\n",
        "testing_labels <- heart.test$target1\n",
        "neuralmod = neuralnet(target1~ ., data = heart.train,hidden=6)\n",
        "neuralpred = predict(neuralmod, newdata = heart.test)\n",
        "neuralpred <- ifelse(neuralpred > 0.5, 1, 0)\n",
        "cm<-confusionMatrix(data=as.factor(neuralpred),reference=as.factor(testing_labels))"
      ],
      "metadata": {
        "id": "Tpzm6BDhPXt1"
      },
      "execution_count": 87,
      "outputs": []
    },
    {
      "cell_type": "code",
      "source": [
        "draw_confusion_matrix(cm)"
      ],
      "metadata": {
        "id": "FAM96VQb-Dvo",
        "colab": {
          "base_uri": "https://localhost:8080/",
          "height": 437
        },
        "outputId": "d2028404-5f0e-409c-e187-6c178cb5bbec"
      },
      "execution_count": 88,
      "outputs": [
        {
          "output_type": "display_data",
          "data": {
            "text/plain": [
              "Plot with title “DETAILS”"
            ],
            "image/png": "[encoded data removed]"
          },
          "metadata": {
            "image/png": {
              "width": 420,
              "height": 420
            }
          }
        }
      ]
    },
    {
      "cell_type": "code",
      "source": [
        "neuralnetworkaccuracy<-mean(neuralpred==testing_labels)"
      ],
      "metadata": {
        "id": "mswLVLQbNyqd"
      },
      "execution_count": 89,
      "outputs": []
    },
    {
      "cell_type": "code",
      "source": [
        "neuralnetworkaccuracy"
      ],
      "metadata": {
        "id": "2mhlnQ-tV9hn",
        "colab": {
          "base_uri": "https://localhost:8080/",
          "height": 34
        },
        "outputId": "370d8df2-77ab-452e-b037-c02949ffef6e"
      },
      "execution_count": 90,
      "outputs": [
        {
          "output_type": "display_data",
          "data": {
            "text/html": [
              "0.948051948051948"
            ],
            "text/markdown": "0.948051948051948",
            "text/latex": "0.948051948051948",
            "text/plain": [
              "[1] 0.9480519"
            ]
          },
          "metadata": {}
        }
      ]
    },
    {
      "cell_type": "code",
      "source": [
        "tribble(\n",
        "  ~Model,~Accuracy,\n",
        "  \"Logistic Regression\", logRegaccuracy,\n",
        "  \"LDA\", ldaaccuracy,\n",
        "  \"Naive Bayes\", naivebayesaccuracy,\n",
        "  \"Linear SVM\", linearsvmaccuracy,\n",
        "  \"Radial SVM\", radialsvmaccuracy, \n",
        "  \"KNN\", knnaccuracy,\n",
        "  \"Tree\", treeaccuracy,\n",
        "  \"ANN\", neuralnetworkaccuracy,\n",
        ")"
      ],
      "metadata": {
        "id": "K8AUy9PLXifb",
        "colab": {
          "base_uri": "https://localhost:8080/",
          "height": 349
        },
        "outputId": "a125924e-9586-4bbb-c66d-b0f718005a71"
      },
      "execution_count": 91,
      "outputs": [
        {
          "output_type": "display_data",
          "data": {
            "text/html": [
              "<table class=\"dataframe\">\n",
              "<caption>A tibble: 8 × 2</caption>\n",
              "<thead>\n",
              "\t<tr><th scope=col>Model</th><th scope=col>Accuracy</th></tr>\n",
              "\t<tr><th scope=col>&lt;chr&gt;</th><th scope=col>&lt;dbl&gt;</th></tr>\n",
              "</thead>\n",
              "<tbody>\n",
              "\t<tr><td>Logistic Regression</td><td>0.8376623</td></tr>\n",
              "\t<tr><td>LDA                </td><td>0.8538961</td></tr>\n",
              "\t<tr><td>Naive Bayes        </td><td>0.8019481</td></tr>\n",
              "\t<tr><td>Linear SVM         </td><td>0.8344156</td></tr>\n",
              "\t<tr><td>Radial SVM         </td><td>0.8961039</td></tr>\n",
              "\t<tr><td>KNN                </td><td>0.7987013</td></tr>\n",
              "\t<tr><td>Tree               </td><td>0.8409091</td></tr>\n",
              "\t<tr><td>ANN                </td><td>0.9480519</td></tr>\n",
              "</tbody>\n",
              "</table>\n"
            ],
            "text/markdown": "\nA tibble: 8 × 2\n\n| Model &lt;chr&gt; | Accuracy &lt;dbl&gt; |\n|---|---|\n| Logistic Regression | 0.8376623 |\n| LDA                 | 0.8538961 |\n| Naive Bayes         | 0.8019481 |\n| Linear SVM          | 0.8344156 |\n| Radial SVM          | 0.8961039 |\n| KNN                 | 0.7987013 |\n| Tree                | 0.8409091 |\n| ANN                 | 0.9480519 |\n\n",
            "text/latex": "A tibble: 8 × 2\n\\begin{tabular}{ll}\n Model & Accuracy\\\\\n <chr> & <dbl>\\\\\n\\hline\n\t Logistic Regression & 0.8376623\\\\\n\t LDA                 & 0.8538961\\\\\n\t Naive Bayes         & 0.8019481\\\\\n\t Linear SVM          & 0.8344156\\\\\n\t Radial SVM          & 0.8961039\\\\\n\t KNN                 & 0.7987013\\\\\n\t Tree                & 0.8409091\\\\\n\t ANN                 & 0.9480519\\\\\n\\end{tabular}\n",
            "text/plain": [
              "  Model               Accuracy \n",
              "1 Logistic Regression 0.8376623\n",
              "2 LDA                 0.8538961\n",
              "3 Naive Bayes         0.8019481\n",
              "4 Linear SVM          0.8344156\n",
              "5 Radial SVM          0.8961039\n",
              "6 KNN                 0.7987013\n",
              "7 Tree                0.8409091\n",
              "8 ANN                 0.9480519"
            ]
          },
          "metadata": {}
        }
      ]
    },
    {
      "cell_type": "code",
      "source": [
        "trainlabels <- heart.train$target1\n",
        "testing_labels <- heart.test$target1\n",
        "neuralmod = neuralnet(target1~ ., data = heart.train)\n",
        "neuralpred = predict(neuralmod, newdata = heart.test)\n",
        "neuralpred <- ifelse(neuralpred > 0.5, 1, 0)\n",
        "cm<-confusionMatrix(data=as.factor(neuralpred),reference=as.factor(testing_labels))"
      ],
      "metadata": {
        "id": "j99t1sYdx3nF"
      },
      "execution_count": 92,
      "outputs": []
    },
    {
      "cell_type": "code",
      "source": [
        "draw_confusion_matrix(cm)"
      ],
      "metadata": {
        "colab": {
          "base_uri": "https://localhost:8080/",
          "height": 437
        },
        "id": "WWi_rKB3O1AG",
        "outputId": "95529abe-d43a-4126-dba1-78040fc8245e"
      },
      "execution_count": 93,
      "outputs": [
        {
          "output_type": "display_data",
          "data": {
            "text/plain": [
              "Plot with title “DETAILS”"
            ],
            "image/png": "[encoded data removed]"
          },
          "metadata": {
            "image/png": {
              "width": 420,
              "height": 420
            }
          }
        }
      ]
    },
    {
      "cell_type": "code",
      "source": [],
      "metadata": {
        "id": "MwgKfU5dPf49"
      },
      "execution_count": 94,
      "outputs": []
    }
  ]
}